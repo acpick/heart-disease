{
 "cells": [
  {
   "cell_type": "markdown",
   "metadata": {},
   "source": [
    "# Heart Disease Prediction\n",
    "\n",
    "The goal is to predict the occurence of heart disease in patients based on 13 clinical parameters. To do this, I will use Python based libraries such as Pandas, Numpy, Scikit-Learn, MatplotLib and Seaborn to analize the data and implement Machine Learning models to make the predictions.\n",
    "\n",
    "**Table of contents**\n",
    "1. Problem definition\n",
    "2. Data\n",
    "3. Evaluation\n",
    "4. Features\n",
    "5. Modelling\n",
    "6. Experimentation"
   ]
  },
  {
   "cell_type": "markdown",
   "metadata": {},
   "source": [
    "## 1. Problem definition\n",
    "\n",
    "Is it possible to predict if a patient has or not heart disease given a set of clinical parameters? If so, how accurately?"
   ]
  },
  {
   "cell_type": "markdown",
   "metadata": {},
   "source": [
    "## 2. Data\n",
    "\n",
    "In this project I use the Heart Disease UCI dataset. It is available at the [UCI Machine Learning Repository](https://archive.ics.uci.edu/ml/datasets/heart+disease) and there is also a version of it on [Kaggle](https://www.kaggle.com/ronitf/heart-disease-uci). \n",
    "\n",
    "The original dataset consisted of 76 clinical parameters, in the literature it is suggested using a subset of 14, which is done in this projetc. "
   ]
  },
  {
   "cell_type": "markdown",
   "metadata": {},
   "source": [
    "## 3. Evaluation \n",
    "\n",
    "The goal is to find a model with 95% accuracy."
   ]
  },
  {
   "cell_type": "markdown",
   "metadata": {},
   "source": [
    "## 4. Features\n",
    "\n",
    "Below is the definition of what each column represents.\n",
    "\n",
    "1. age - age in years\n",
    "2. sex - (1 = male; 0 = female)\n",
    "3. cp - chest pain type\n",
    "    * 0: Typical angina: chest pain related decrease blood supply to the heart\n",
    "    * 1: Atypical angina: chest pain not related to heart\n",
    "    * 2: Non-anginal pain: typically esophageal spasms (non heart related)\n",
    "    * 3: Asymptomatic: chest pain not showing signs of disease\n",
    "4. trestbps - resting blood pressure (in mm Hg on admission to the hospital) anything above 130-140 is typically cause for concern\n",
    "5. chol - serum cholestoral in mg/dl\n",
    "    * serum = LDL + HDL + .2 * triglycerides\n",
    "    * above 200 is cause for concern\n",
    "6. fbs - (fasting blood sugar > 120 mg/dl) (1 = true; 0 = false)\n",
    "    * '>126' mg/dL signals diabetes\n",
    "7. restecg - resting electrocardiographic results\n",
    "    * 0: Nothing to note\n",
    "    * 1: ST-T Wave abnormality\n",
    "        * can range from mild symptoms to severe problems\n",
    "        * signals non-normal heart beat\n",
    "    * 2: Possible or definite left ventricular hypertrophy\n",
    "        * Enlarged heart's main pumping chamber\n",
    "8. thalach - maximum heart rate achieved\n",
    "9. exang - exercise induced angina (1 = yes; 0 = no)\n",
    "10. oldpeak - ST depression induced by exercise relative to rest looks at stress of heart during excercise unhealthy heart will stress more\n",
    "11. slope - the slope of the peak exercise ST segment\n",
    "    * 0: Upsloping: better heart rate with excercise (uncommon)\n",
    "    * 1: Flatsloping: minimal change (typical healthy heart)\n",
    "    * 2: Downslopins: signs of unhealthy heart\n",
    "12. ca - number of major vessels (0-3) colored by flourosopy\n",
    "    * colored vessel means the doctor can see the blood passing through\n",
    "    * the more blood movement the better (no clots)\n",
    "13. thal - thalium stress result\n",
    "    * 1,3: normal\n",
    "    * 6: fixed defect: used to be defect but ok now\n",
    "    * 7: reversable defect: no proper blood movement when excercising\n",
    "14. target - have disease or not (1=yes, 0=no) (= the predicted attribute)"
   ]
  },
  {
   "cell_type": "markdown",
   "metadata": {},
   "source": [
    "### Importing libraries\n",
    "\n",
    "In this project the following libraries are used:\n",
    "* Pandas for data analysis.\n",
    "* NumPy for numerical operations.\n",
    "* Matplotlib/seaborn for plotting or data visualization.\n",
    "* Scikit-Learn for machine learning modelling and evaluation."
   ]
  },
  {
   "cell_type": "code",
   "execution_count": 1,
   "metadata": {},
   "outputs": [],
   "source": [
    "# Regular EDA (exploratory data analisys) and plotting libraries\n",
    "import pandas as pd\n",
    "import numpy as np\n",
    "import matplotlib.pyplot as plt\n",
    "%matplotlib inline\n",
    "import seaborn as sns\n",
    "import pprint\n",
    "\n",
    "# Models\n",
    "from sklearn.linear_model import LogisticRegression\n",
    "from sklearn.neighbors import KNeighborsClassifier\n",
    "from sklearn.ensemble import RandomForestClassifier\n",
    "from sklearn.svm import LinearSVC\n",
    "\n",
    "# Feature scaling\n",
    "from sklearn.preprocessing import MinMaxScaler\n",
    "from sklearn.preprocessing import StandardScaler\n",
    "\n",
    "# Model evaluation\n",
    "from sklearn.model_selection import train_test_split, cross_val_score\n",
    "from sklearn.model_selection import RandomizedSearchCV, GridSearchCV\n",
    "from sklearn.metrics import confusion_matrix, plot_confusion_matrix, classification_report\n",
    "from sklearn.metrics import precision_score, recall_score, f1_score\n",
    "from sklearn.metrics import plot_roc_curve"
   ]
  },
  {
   "cell_type": "code",
   "execution_count": 2,
   "metadata": {},
   "outputs": [
    {
     "data": {
      "text/html": [
       "<svg  width=\"330\" height=\"55\"><rect x=\"0\" y=\"0\" width=\"55\" height=\"55\" style=\"fill:#e98d6b;stroke-width:2;stroke:rgb(255,255,255)\"/><rect x=\"55\" y=\"0\" width=\"55\" height=\"55\" style=\"fill:#e3685c;stroke-width:2;stroke:rgb(255,255,255)\"/><rect x=\"110\" y=\"0\" width=\"55\" height=\"55\" style=\"fill:#d14a61;stroke-width:2;stroke:rgb(255,255,255)\"/><rect x=\"165\" y=\"0\" width=\"55\" height=\"55\" style=\"fill:#b13c6c;stroke-width:2;stroke:rgb(255,255,255)\"/><rect x=\"220\" y=\"0\" width=\"55\" height=\"55\" style=\"fill:#8f3371;stroke-width:2;stroke:rgb(255,255,255)\"/><rect x=\"275\" y=\"0\" width=\"55\" height=\"55\" style=\"fill:#6c2b6d;stroke-width:2;stroke:rgb(255,255,255)\"/></svg>"
      ],
      "text/plain": [
       "[(0.9155979, 0.55210684, 0.42070204),\n",
       " (0.888292, 0.40830288, 0.36223756),\n",
       " (0.81942908, 0.28911553, 0.38102921),\n",
       " (0.69226314, 0.23413578, 0.42480327),\n",
       " (0.56041794, 0.19845221, 0.44207535),\n",
       " (0.42355299, 0.16934709, 0.42581586)]"
      ]
     },
     "execution_count": 2,
     "metadata": {},
     "output_type": "execute_result"
    }
   ],
   "source": [
    "# Choosing a color pallete\n",
    "sns.color_palette(\"flare\")"
   ]
  },
  {
   "cell_type": "markdown",
   "metadata": {},
   "source": [
    "## Loading, visualizing and describing the data"
   ]
  },
  {
   "cell_type": "code",
   "execution_count": 3,
   "metadata": {},
   "outputs": [
    {
     "data": {
      "text/html": [
       "<div>\n",
       "<style scoped>\n",
       "    .dataframe tbody tr th:only-of-type {\n",
       "        vertical-align: middle;\n",
       "    }\n",
       "\n",
       "    .dataframe tbody tr th {\n",
       "        vertical-align: top;\n",
       "    }\n",
       "\n",
       "    .dataframe thead th {\n",
       "        text-align: right;\n",
       "    }\n",
       "</style>\n",
       "<table border=\"1\" class=\"dataframe\">\n",
       "  <thead>\n",
       "    <tr style=\"text-align: right;\">\n",
       "      <th></th>\n",
       "      <th>age</th>\n",
       "      <th>sex</th>\n",
       "      <th>cp</th>\n",
       "      <th>trestbps</th>\n",
       "      <th>chol</th>\n",
       "      <th>fbs</th>\n",
       "      <th>restecg</th>\n",
       "      <th>thalach</th>\n",
       "      <th>exang</th>\n",
       "      <th>oldpeak</th>\n",
       "      <th>slope</th>\n",
       "      <th>ca</th>\n",
       "      <th>thal</th>\n",
       "      <th>target</th>\n",
       "    </tr>\n",
       "  </thead>\n",
       "  <tbody>\n",
       "    <tr>\n",
       "      <th>0</th>\n",
       "      <td>63</td>\n",
       "      <td>1</td>\n",
       "      <td>3</td>\n",
       "      <td>145</td>\n",
       "      <td>233</td>\n",
       "      <td>1</td>\n",
       "      <td>0</td>\n",
       "      <td>150</td>\n",
       "      <td>0</td>\n",
       "      <td>2.3</td>\n",
       "      <td>0</td>\n",
       "      <td>0</td>\n",
       "      <td>1</td>\n",
       "      <td>1</td>\n",
       "    </tr>\n",
       "    <tr>\n",
       "      <th>1</th>\n",
       "      <td>37</td>\n",
       "      <td>1</td>\n",
       "      <td>2</td>\n",
       "      <td>130</td>\n",
       "      <td>250</td>\n",
       "      <td>0</td>\n",
       "      <td>1</td>\n",
       "      <td>187</td>\n",
       "      <td>0</td>\n",
       "      <td>3.5</td>\n",
       "      <td>0</td>\n",
       "      <td>0</td>\n",
       "      <td>2</td>\n",
       "      <td>1</td>\n",
       "    </tr>\n",
       "    <tr>\n",
       "      <th>2</th>\n",
       "      <td>41</td>\n",
       "      <td>0</td>\n",
       "      <td>1</td>\n",
       "      <td>130</td>\n",
       "      <td>204</td>\n",
       "      <td>0</td>\n",
       "      <td>0</td>\n",
       "      <td>172</td>\n",
       "      <td>0</td>\n",
       "      <td>1.4</td>\n",
       "      <td>2</td>\n",
       "      <td>0</td>\n",
       "      <td>2</td>\n",
       "      <td>1</td>\n",
       "    </tr>\n",
       "    <tr>\n",
       "      <th>3</th>\n",
       "      <td>56</td>\n",
       "      <td>1</td>\n",
       "      <td>1</td>\n",
       "      <td>120</td>\n",
       "      <td>236</td>\n",
       "      <td>0</td>\n",
       "      <td>1</td>\n",
       "      <td>178</td>\n",
       "      <td>0</td>\n",
       "      <td>0.8</td>\n",
       "      <td>2</td>\n",
       "      <td>0</td>\n",
       "      <td>2</td>\n",
       "      <td>1</td>\n",
       "    </tr>\n",
       "    <tr>\n",
       "      <th>4</th>\n",
       "      <td>57</td>\n",
       "      <td>0</td>\n",
       "      <td>0</td>\n",
       "      <td>120</td>\n",
       "      <td>354</td>\n",
       "      <td>0</td>\n",
       "      <td>1</td>\n",
       "      <td>163</td>\n",
       "      <td>1</td>\n",
       "      <td>0.6</td>\n",
       "      <td>2</td>\n",
       "      <td>0</td>\n",
       "      <td>2</td>\n",
       "      <td>1</td>\n",
       "    </tr>\n",
       "    <tr>\n",
       "      <th>...</th>\n",
       "      <td>...</td>\n",
       "      <td>...</td>\n",
       "      <td>...</td>\n",
       "      <td>...</td>\n",
       "      <td>...</td>\n",
       "      <td>...</td>\n",
       "      <td>...</td>\n",
       "      <td>...</td>\n",
       "      <td>...</td>\n",
       "      <td>...</td>\n",
       "      <td>...</td>\n",
       "      <td>...</td>\n",
       "      <td>...</td>\n",
       "      <td>...</td>\n",
       "    </tr>\n",
       "    <tr>\n",
       "      <th>298</th>\n",
       "      <td>57</td>\n",
       "      <td>0</td>\n",
       "      <td>0</td>\n",
       "      <td>140</td>\n",
       "      <td>241</td>\n",
       "      <td>0</td>\n",
       "      <td>1</td>\n",
       "      <td>123</td>\n",
       "      <td>1</td>\n",
       "      <td>0.2</td>\n",
       "      <td>1</td>\n",
       "      <td>0</td>\n",
       "      <td>3</td>\n",
       "      <td>0</td>\n",
       "    </tr>\n",
       "    <tr>\n",
       "      <th>299</th>\n",
       "      <td>45</td>\n",
       "      <td>1</td>\n",
       "      <td>3</td>\n",
       "      <td>110</td>\n",
       "      <td>264</td>\n",
       "      <td>0</td>\n",
       "      <td>1</td>\n",
       "      <td>132</td>\n",
       "      <td>0</td>\n",
       "      <td>1.2</td>\n",
       "      <td>1</td>\n",
       "      <td>0</td>\n",
       "      <td>3</td>\n",
       "      <td>0</td>\n",
       "    </tr>\n",
       "    <tr>\n",
       "      <th>300</th>\n",
       "      <td>68</td>\n",
       "      <td>1</td>\n",
       "      <td>0</td>\n",
       "      <td>144</td>\n",
       "      <td>193</td>\n",
       "      <td>1</td>\n",
       "      <td>1</td>\n",
       "      <td>141</td>\n",
       "      <td>0</td>\n",
       "      <td>3.4</td>\n",
       "      <td>1</td>\n",
       "      <td>2</td>\n",
       "      <td>3</td>\n",
       "      <td>0</td>\n",
       "    </tr>\n",
       "    <tr>\n",
       "      <th>301</th>\n",
       "      <td>57</td>\n",
       "      <td>1</td>\n",
       "      <td>0</td>\n",
       "      <td>130</td>\n",
       "      <td>131</td>\n",
       "      <td>0</td>\n",
       "      <td>1</td>\n",
       "      <td>115</td>\n",
       "      <td>1</td>\n",
       "      <td>1.2</td>\n",
       "      <td>1</td>\n",
       "      <td>1</td>\n",
       "      <td>3</td>\n",
       "      <td>0</td>\n",
       "    </tr>\n",
       "    <tr>\n",
       "      <th>302</th>\n",
       "      <td>57</td>\n",
       "      <td>0</td>\n",
       "      <td>1</td>\n",
       "      <td>130</td>\n",
       "      <td>236</td>\n",
       "      <td>0</td>\n",
       "      <td>0</td>\n",
       "      <td>174</td>\n",
       "      <td>0</td>\n",
       "      <td>0.0</td>\n",
       "      <td>1</td>\n",
       "      <td>1</td>\n",
       "      <td>2</td>\n",
       "      <td>0</td>\n",
       "    </tr>\n",
       "  </tbody>\n",
       "</table>\n",
       "<p>303 rows × 14 columns</p>\n",
       "</div>"
      ],
      "text/plain": [
       "     age  sex  cp  trestbps  chol  fbs  restecg  thalach  exang  oldpeak  \\\n",
       "0     63    1   3       145   233    1        0      150      0      2.3   \n",
       "1     37    1   2       130   250    0        1      187      0      3.5   \n",
       "2     41    0   1       130   204    0        0      172      0      1.4   \n",
       "3     56    1   1       120   236    0        1      178      0      0.8   \n",
       "4     57    0   0       120   354    0        1      163      1      0.6   \n",
       "..   ...  ...  ..       ...   ...  ...      ...      ...    ...      ...   \n",
       "298   57    0   0       140   241    0        1      123      1      0.2   \n",
       "299   45    1   3       110   264    0        1      132      0      1.2   \n",
       "300   68    1   0       144   193    1        1      141      0      3.4   \n",
       "301   57    1   0       130   131    0        1      115      1      1.2   \n",
       "302   57    0   1       130   236    0        0      174      0      0.0   \n",
       "\n",
       "     slope  ca  thal  target  \n",
       "0        0   0     1       1  \n",
       "1        0   0     2       1  \n",
       "2        2   0     2       1  \n",
       "3        2   0     2       1  \n",
       "4        2   0     2       1  \n",
       "..     ...  ..   ...     ...  \n",
       "298      1   0     3       0  \n",
       "299      1   0     3       0  \n",
       "300      1   2     3       0  \n",
       "301      1   1     3       0  \n",
       "302      1   1     2       0  \n",
       "\n",
       "[303 rows x 14 columns]"
      ]
     },
     "execution_count": 3,
     "metadata": {},
     "output_type": "execute_result"
    }
   ],
   "source": [
    "# Loading and printing the dataset\n",
    "df = pd.read_csv('heart-disease.csv')\n",
    "df"
   ]
  },
  {
   "cell_type": "markdown",
   "metadata": {},
   "source": [
    "**Below is the definition of what each column represents:**\n",
    "\n",
    "1. age - age in years\n",
    "2. sex - (1 = male; 0 = female)\n",
    "3. cp - chest pain type\n",
    "    * 0: Typical angina: chest pain related decrease blood supply to the heart\n",
    "    * 1: Atypical angina: chest pain not related to heart\n",
    "    * 2: Non-anginal pain: typically esophageal spasms (non heart related)\n",
    "    * 3: Asymptomatic: chest pain not showing signs of disease\n",
    "4. trestbps - resting blood pressure (in mm Hg on admission to the hospital) anything above 130-140 is typically cause for concern\n",
    "5. chol - serum cholestoral in mg/dl\n",
    "    * serum = LDL + HDL + .2 * triglycerides\n",
    "    * above 200 is cause for concern\n",
    "6. fbs - (fasting blood sugar > 120 mg/dl) (1 = true; 0 = false)\n",
    "    * '>126' mg/dL signals diabetes\n",
    "7. restecg - resting electrocardiographic results\n",
    "    * 0: Nothing to note\n",
    "    * 1: ST-T Wave abnormality\n",
    "        * can range from mild symptoms to severe problems\n",
    "        * signals non-normal heart beat\n",
    "    * 2: Possible or definite left ventricular hypertrophy\n",
    "        * Enlarged heart's main pumping chamber\n",
    "8. thalach - maximum heart rate achieved\n",
    "9. exang - exercise induced angina (1 = yes; 0 = no)\n",
    "10. oldpeak - ST depression induced by exercise relative to rest, looks at stress of heart during excercise, unhealthy heart will stress more\n",
    "11. slope - the slope of the peak exercise ST segment\n",
    "    * 0: Upsloping: better heart rate with excercise (uncommon)\n",
    "    * 1: Flatsloping: minimal change (typical healthy heart)\n",
    "    * 2: Downslopins: signs of unhealthy heart\n",
    "12. ca - number of major vessels (0-3) colored by flourosopy\n",
    "    * colored vessel means the doctor can see the blood passing through\n",
    "    * the more blood movement the better (no clots)\n",
    "13. thal - thalium stress result\n",
    "    * 1,3: normal\n",
    "    * 6: fixed defect: used to be defect but ok now\n",
    "    * 7: reversable defect: no proper blood movement when excercising\n",
    "14. target - have disease or not (1=yes, 0=no) (= the predicted attribute)"
   ]
  },
  {
   "cell_type": "code",
   "execution_count": 4,
   "metadata": {},
   "outputs": [],
   "source": [
    "# Creating a dictionary with the variable meanings for future reference \n",
    "variable_meanings={'age':'age of the pacient',\n",
    "                  'sex':'{1=male;0=female', \n",
    "                  'cp':'chest pain type: 0=typical angina(chest pain related decrease blood supply to the heart); 1=atypical angina (chest pain not related to heart); 2=non-anginal pain (typically esophageal spasms (non heart related))3=Asymptomatic (chest pain not showing signs of disease)',\n",
    "                  'trestbps':'resting blood pressure (in mm Hg on admission to the hospital) anything above 130-140 is typically cause for concern',\n",
    "                  'chol':'serum cholestoral in mg/dl: serum = LDL + HDL + .2 * triglycerides; above 200 is cause for concern',\n",
    "                  'fbs':'fasting blood sugar > 120 mg/dl (1 = true; 0 = false)',\n",
    "                  'restecg':'0=nothing to note; 1=ST-T Wave abnormality (can range from mild symptoms to severe problemsm signals non-normal heart beat); 2=Possible or definite left ventricular hypertrophy (enlarged heart\\'s main pumping chamber)',\n",
    "                  'thalach':'maximum heart rate achieved',\n",
    "                  'exang':'exercise induced angina (1 = yes; 0 = no)',\n",
    "                  'oldpeak':'ST depression induced by exercise relative to rest looks at stress of heart during excercise unhealthy heart will stress more',\n",
    "                  'slope':'the slope of the peak exercise ST segment: 0=upsloping (better heart rate with excercise (uncommon)); 1=flatsloping (minimal change (typical healthy heart)); 2=downslopins (signs of unhealthy heart)',\n",
    "                  'ca':'number of major vessels (0-3) colored by flourosopy: colored vessel means the doctor can see the blood passing through, the more blood movement the better (no clots)',\n",
    "                  'thal':'thalium stress result: 1,3: normal; 6: fixed defect: used to be defect but ok now; 7: reversable defect: no proper blood movement when excercising',\n",
    "                  'target': 'have disease or not (1=yes, 0=no) (= the predicted attribute)'}\n",
    "\n",
    "# pprint.pprint(variable_meanings) --> to print the dictionary with line breaks"
   ]
  },
  {
   "cell_type": "markdown",
   "metadata": {},
   "source": [
    "## Exploratory Data Analysis (EDA)\n",
    "\n",
    "Checklist:\n",
    "1. what questions need to be answered?\n",
    "2. what are the different kinds of data in the problem?\n",
    "3. what's missing from the data and how to deal with it?\n",
    "4. where are the outliers?\n",
    "5. how to get more out of the data?"
   ]
  },
  {
   "cell_type": "code",
   "execution_count": 5,
   "metadata": {},
   "outputs": [
    {
     "data": {
      "text/html": [
       "<div>\n",
       "<style scoped>\n",
       "    .dataframe tbody tr th:only-of-type {\n",
       "        vertical-align: middle;\n",
       "    }\n",
       "\n",
       "    .dataframe tbody tr th {\n",
       "        vertical-align: top;\n",
       "    }\n",
       "\n",
       "    .dataframe thead th {\n",
       "        text-align: right;\n",
       "    }\n",
       "</style>\n",
       "<table border=\"1\" class=\"dataframe\">\n",
       "  <thead>\n",
       "    <tr style=\"text-align: right;\">\n",
       "      <th></th>\n",
       "      <th>age</th>\n",
       "      <th>sex</th>\n",
       "      <th>cp</th>\n",
       "      <th>trestbps</th>\n",
       "      <th>chol</th>\n",
       "      <th>fbs</th>\n",
       "      <th>restecg</th>\n",
       "      <th>thalach</th>\n",
       "      <th>exang</th>\n",
       "      <th>oldpeak</th>\n",
       "      <th>slope</th>\n",
       "      <th>ca</th>\n",
       "      <th>thal</th>\n",
       "      <th>target</th>\n",
       "    </tr>\n",
       "  </thead>\n",
       "  <tbody>\n",
       "    <tr>\n",
       "      <th>count</th>\n",
       "      <td>303.000000</td>\n",
       "      <td>303.000000</td>\n",
       "      <td>303.000000</td>\n",
       "      <td>303.000000</td>\n",
       "      <td>303.000000</td>\n",
       "      <td>303.000000</td>\n",
       "      <td>303.000000</td>\n",
       "      <td>303.000000</td>\n",
       "      <td>303.000000</td>\n",
       "      <td>303.000000</td>\n",
       "      <td>303.000000</td>\n",
       "      <td>303.000000</td>\n",
       "      <td>303.000000</td>\n",
       "      <td>303.000000</td>\n",
       "    </tr>\n",
       "    <tr>\n",
       "      <th>mean</th>\n",
       "      <td>54.366337</td>\n",
       "      <td>0.683168</td>\n",
       "      <td>0.966997</td>\n",
       "      <td>131.623762</td>\n",
       "      <td>246.264026</td>\n",
       "      <td>0.148515</td>\n",
       "      <td>0.528053</td>\n",
       "      <td>149.646865</td>\n",
       "      <td>0.326733</td>\n",
       "      <td>1.039604</td>\n",
       "      <td>1.399340</td>\n",
       "      <td>0.729373</td>\n",
       "      <td>2.313531</td>\n",
       "      <td>0.544554</td>\n",
       "    </tr>\n",
       "    <tr>\n",
       "      <th>std</th>\n",
       "      <td>9.082101</td>\n",
       "      <td>0.466011</td>\n",
       "      <td>1.032052</td>\n",
       "      <td>17.538143</td>\n",
       "      <td>51.830751</td>\n",
       "      <td>0.356198</td>\n",
       "      <td>0.525860</td>\n",
       "      <td>22.905161</td>\n",
       "      <td>0.469794</td>\n",
       "      <td>1.161075</td>\n",
       "      <td>0.616226</td>\n",
       "      <td>1.022606</td>\n",
       "      <td>0.612277</td>\n",
       "      <td>0.498835</td>\n",
       "    </tr>\n",
       "    <tr>\n",
       "      <th>min</th>\n",
       "      <td>29.000000</td>\n",
       "      <td>0.000000</td>\n",
       "      <td>0.000000</td>\n",
       "      <td>94.000000</td>\n",
       "      <td>126.000000</td>\n",
       "      <td>0.000000</td>\n",
       "      <td>0.000000</td>\n",
       "      <td>71.000000</td>\n",
       "      <td>0.000000</td>\n",
       "      <td>0.000000</td>\n",
       "      <td>0.000000</td>\n",
       "      <td>0.000000</td>\n",
       "      <td>0.000000</td>\n",
       "      <td>0.000000</td>\n",
       "    </tr>\n",
       "    <tr>\n",
       "      <th>25%</th>\n",
       "      <td>47.500000</td>\n",
       "      <td>0.000000</td>\n",
       "      <td>0.000000</td>\n",
       "      <td>120.000000</td>\n",
       "      <td>211.000000</td>\n",
       "      <td>0.000000</td>\n",
       "      <td>0.000000</td>\n",
       "      <td>133.500000</td>\n",
       "      <td>0.000000</td>\n",
       "      <td>0.000000</td>\n",
       "      <td>1.000000</td>\n",
       "      <td>0.000000</td>\n",
       "      <td>2.000000</td>\n",
       "      <td>0.000000</td>\n",
       "    </tr>\n",
       "    <tr>\n",
       "      <th>50%</th>\n",
       "      <td>55.000000</td>\n",
       "      <td>1.000000</td>\n",
       "      <td>1.000000</td>\n",
       "      <td>130.000000</td>\n",
       "      <td>240.000000</td>\n",
       "      <td>0.000000</td>\n",
       "      <td>1.000000</td>\n",
       "      <td>153.000000</td>\n",
       "      <td>0.000000</td>\n",
       "      <td>0.800000</td>\n",
       "      <td>1.000000</td>\n",
       "      <td>0.000000</td>\n",
       "      <td>2.000000</td>\n",
       "      <td>1.000000</td>\n",
       "    </tr>\n",
       "    <tr>\n",
       "      <th>75%</th>\n",
       "      <td>61.000000</td>\n",
       "      <td>1.000000</td>\n",
       "      <td>2.000000</td>\n",
       "      <td>140.000000</td>\n",
       "      <td>274.500000</td>\n",
       "      <td>0.000000</td>\n",
       "      <td>1.000000</td>\n",
       "      <td>166.000000</td>\n",
       "      <td>1.000000</td>\n",
       "      <td>1.600000</td>\n",
       "      <td>2.000000</td>\n",
       "      <td>1.000000</td>\n",
       "      <td>3.000000</td>\n",
       "      <td>1.000000</td>\n",
       "    </tr>\n",
       "    <tr>\n",
       "      <th>max</th>\n",
       "      <td>77.000000</td>\n",
       "      <td>1.000000</td>\n",
       "      <td>3.000000</td>\n",
       "      <td>200.000000</td>\n",
       "      <td>564.000000</td>\n",
       "      <td>1.000000</td>\n",
       "      <td>2.000000</td>\n",
       "      <td>202.000000</td>\n",
       "      <td>1.000000</td>\n",
       "      <td>6.200000</td>\n",
       "      <td>2.000000</td>\n",
       "      <td>4.000000</td>\n",
       "      <td>3.000000</td>\n",
       "      <td>1.000000</td>\n",
       "    </tr>\n",
       "  </tbody>\n",
       "</table>\n",
       "</div>"
      ],
      "text/plain": [
       "              age         sex          cp    trestbps        chol         fbs  \\\n",
       "count  303.000000  303.000000  303.000000  303.000000  303.000000  303.000000   \n",
       "mean    54.366337    0.683168    0.966997  131.623762  246.264026    0.148515   \n",
       "std      9.082101    0.466011    1.032052   17.538143   51.830751    0.356198   \n",
       "min     29.000000    0.000000    0.000000   94.000000  126.000000    0.000000   \n",
       "25%     47.500000    0.000000    0.000000  120.000000  211.000000    0.000000   \n",
       "50%     55.000000    1.000000    1.000000  130.000000  240.000000    0.000000   \n",
       "75%     61.000000    1.000000    2.000000  140.000000  274.500000    0.000000   \n",
       "max     77.000000    1.000000    3.000000  200.000000  564.000000    1.000000   \n",
       "\n",
       "          restecg     thalach       exang     oldpeak       slope          ca  \\\n",
       "count  303.000000  303.000000  303.000000  303.000000  303.000000  303.000000   \n",
       "mean     0.528053  149.646865    0.326733    1.039604    1.399340    0.729373   \n",
       "std      0.525860   22.905161    0.469794    1.161075    0.616226    1.022606   \n",
       "min      0.000000   71.000000    0.000000    0.000000    0.000000    0.000000   \n",
       "25%      0.000000  133.500000    0.000000    0.000000    1.000000    0.000000   \n",
       "50%      1.000000  153.000000    0.000000    0.800000    1.000000    0.000000   \n",
       "75%      1.000000  166.000000    1.000000    1.600000    2.000000    1.000000   \n",
       "max      2.000000  202.000000    1.000000    6.200000    2.000000    4.000000   \n",
       "\n",
       "             thal      target  \n",
       "count  303.000000  303.000000  \n",
       "mean     2.313531    0.544554  \n",
       "std      0.612277    0.498835  \n",
       "min      0.000000    0.000000  \n",
       "25%      2.000000    0.000000  \n",
       "50%      2.000000    1.000000  \n",
       "75%      3.000000    1.000000  \n",
       "max      3.000000    1.000000  "
      ]
     },
     "execution_count": 5,
     "metadata": {},
     "output_type": "execute_result"
    }
   ],
   "source": [
    "# Getting some statistical information on the data\n",
    "df.describe()"
   ]
  },
  {
   "cell_type": "code",
   "execution_count": 6,
   "metadata": {},
   "outputs": [
    {
     "name": "stdout",
     "output_type": "stream",
     "text": [
      "<class 'pandas.core.frame.DataFrame'>\n",
      "RangeIndex: 303 entries, 0 to 302\n",
      "Data columns (total 14 columns):\n",
      " #   Column    Non-Null Count  Dtype  \n",
      "---  ------    --------------  -----  \n",
      " 0   age       303 non-null    int64  \n",
      " 1   sex       303 non-null    int64  \n",
      " 2   cp        303 non-null    int64  \n",
      " 3   trestbps  303 non-null    int64  \n",
      " 4   chol      303 non-null    int64  \n",
      " 5   fbs       303 non-null    int64  \n",
      " 6   restecg   303 non-null    int64  \n",
      " 7   thalach   303 non-null    int64  \n",
      " 8   exang     303 non-null    int64  \n",
      " 9   oldpeak   303 non-null    float64\n",
      " 10  slope     303 non-null    int64  \n",
      " 11  ca        303 non-null    int64  \n",
      " 12  thal      303 non-null    int64  \n",
      " 13  target    303 non-null    int64  \n",
      "dtypes: float64(1), int64(13)\n",
      "memory usage: 33.3 KB\n"
     ]
    }
   ],
   "source": [
    "# Checking the data types of each variable\n",
    "df.info()"
   ]
  },
  {
   "cell_type": "code",
   "execution_count": 7,
   "metadata": {},
   "outputs": [
    {
     "data": {
      "text/plain": [
       "age         0\n",
       "sex         0\n",
       "cp          0\n",
       "trestbps    0\n",
       "chol        0\n",
       "fbs         0\n",
       "restecg     0\n",
       "thalach     0\n",
       "exang       0\n",
       "oldpeak     0\n",
       "slope       0\n",
       "ca          0\n",
       "thal        0\n",
       "target      0\n",
       "dtype: int64"
      ]
     },
     "execution_count": 7,
     "metadata": {},
     "output_type": "execute_result"
    }
   ],
   "source": [
    "# Checking for missing data\n",
    "df.isna().sum()"
   ]
  },
  {
   "cell_type": "markdown",
   "metadata": {},
   "source": [
    "### Heart disease occurence"
   ]
  },
  {
   "cell_type": "code",
   "execution_count": 8,
   "metadata": {},
   "outputs": [
    {
     "data": {
      "text/plain": [
       "1    165\n",
       "0    138\n",
       "Name: target, dtype: int64"
      ]
     },
     "execution_count": 8,
     "metadata": {},
     "output_type": "execute_result"
    }
   ],
   "source": [
    "# Counting patients with and without heart disease\n",
    "df['target'].value_counts()"
   ]
  },
  {
   "cell_type": "code",
   "execution_count": 9,
   "metadata": {},
   "outputs": [
    {
     "data": {
      "image/png": "[encoded data removed]",
      "text/plain": [
       "<Figure size 720x432 with 1 Axes>"
      ]
     },
     "metadata": {
      "needs_background": "light"
     },
     "output_type": "display_data"
    }
   ],
   "source": [
    "df['target'].value_counts().sort_index().plot(kind='bar', color=[\"salmon\", \"lightblue\"], figsize=(10, 6));\n",
    "ticks = [0,1]\n",
    "labels = ['No heart disease', 'Heart disease']\n",
    "plt.title('Number of patients with and without heart disease');\n",
    "plt.xticks(ticks, labels, rotation=0);\n",
    "plt.ylabel('count');\n"
   ]
  },
  {
   "cell_type": "code",
   "execution_count": 10,
   "metadata": {},
   "outputs": [],
   "source": [
    "# relate the infos above to the description of each column -> check video 153"
   ]
  },
  {
   "cell_type": "markdown",
   "metadata": {},
   "source": [
    "### Heart disease frequency according to sex"
   ]
  },
  {
   "cell_type": "code",
   "execution_count": 11,
   "metadata": {},
   "outputs": [
    {
     "name": "stdout",
     "output_type": "stream",
     "text": [
      "'{1=male;0=female'\n"
     ]
    }
   ],
   "source": [
    "# Retrieving from the variable meanings dictionary how the patients' sex is classified\n",
    "pprint.pprint(variable_meanings['sex'])"
   ]
  },
  {
   "cell_type": "code",
   "execution_count": 12,
   "metadata": {},
   "outputs": [
    {
     "data": {
      "text/plain": [
       "1    207\n",
       "0     96\n",
       "Name: sex, dtype: int64"
      ]
     },
     "execution_count": 12,
     "metadata": {},
     "output_type": "execute_result"
    }
   ],
   "source": [
    "# Amount of patients of each sex\n",
    "df['sex'].value_counts()"
   ]
  },
  {
   "cell_type": "code",
   "execution_count": 13,
   "metadata": {},
   "outputs": [
    {
     "data": {
      "image/png": "[encoded data removed]",
      "text/plain": [
       "<Figure size 720x432 with 1 Axes>"
      ]
     },
     "metadata": {
      "needs_background": "light"
     },
     "output_type": "display_data"
    }
   ],
   "source": [
    "(df['sex'].value_counts(normalize=True)*100).plot(kind='bar', color=[\"salmon\", \"lightblue\"], figsize=(10, 6))\n",
    "ticks = [0,1]\n",
    "labels = ['Male', 'Female']\n",
    "plt.title('Patients per sex');\n",
    "plt.xticks(ticks, labels, rotation=0);\n",
    "plt.ylabel('count');"
   ]
  },
  {
   "cell_type": "code",
   "execution_count": 14,
   "metadata": {},
   "outputs": [
    {
     "data": {
      "text/plain": [
       "1    68.316832\n",
       "0    31.683168\n",
       "Name: sex, dtype: float64"
      ]
     },
     "execution_count": 14,
     "metadata": {},
     "output_type": "execute_result"
    }
   ],
   "source": [
    "df['sex'].value_counts(normalize=True)*100"
   ]
  },
  {
   "cell_type": "markdown",
   "metadata": {},
   "source": [
    "There are approximately 68.31% males and 31.68% females. "
   ]
  },
  {
   "cell_type": "code",
   "execution_count": 15,
   "metadata": {},
   "outputs": [
    {
     "data": {
      "text/html": [
       "<div>\n",
       "<style scoped>\n",
       "    .dataframe tbody tr th:only-of-type {\n",
       "        vertical-align: middle;\n",
       "    }\n",
       "\n",
       "    .dataframe tbody tr th {\n",
       "        vertical-align: top;\n",
       "    }\n",
       "\n",
       "    .dataframe thead th {\n",
       "        text-align: right;\n",
       "    }\n",
       "</style>\n",
       "<table border=\"1\" class=\"dataframe\">\n",
       "  <thead>\n",
       "    <tr style=\"text-align: right;\">\n",
       "      <th>sex</th>\n",
       "      <th>0</th>\n",
       "      <th>1</th>\n",
       "    </tr>\n",
       "    <tr>\n",
       "      <th>target</th>\n",
       "      <th></th>\n",
       "      <th></th>\n",
       "    </tr>\n",
       "  </thead>\n",
       "  <tbody>\n",
       "    <tr>\n",
       "      <th>0</th>\n",
       "      <td>24</td>\n",
       "      <td>114</td>\n",
       "    </tr>\n",
       "    <tr>\n",
       "      <th>1</th>\n",
       "      <td>72</td>\n",
       "      <td>93</td>\n",
       "    </tr>\n",
       "  </tbody>\n",
       "</table>\n",
       "</div>"
      ],
      "text/plain": [
       "sex      0    1\n",
       "target         \n",
       "0       24  114\n",
       "1       72   93"
      ]
     },
     "execution_count": 15,
     "metadata": {},
     "output_type": "execute_result"
    }
   ],
   "source": [
    "# Heart disease occurence according to patients' sex\n",
    "\n",
    "pd.crosstab(df.target, df.sex)"
   ]
  },
  {
   "cell_type": "code",
   "execution_count": 16,
   "metadata": {},
   "outputs": [
    {
     "data": {
      "image/png": "[encoded data removed]",
      "text/plain": [
       "<Figure size 720x432 with 1 Axes>"
      ]
     },
     "metadata": {
      "needs_background": "light"
     },
     "output_type": "display_data"
    }
   ],
   "source": [
    "pd.crosstab(df.target, df.sex).plot(kind='bar', color=[\"salmon\", \"lightblue\"], figsize=(10, 6)); \n",
    "ticks = [1, 0]\n",
    "labels = ['Heart disease', 'No heart disease']\n",
    "plt.title('Heart disease ocurrence per sex');\n",
    "plt.legend(['Female', 'Male']);\n",
    "plt.xticks(ticks,labels, rotation=0);\n",
    "plt.ylabel('count');"
   ]
  },
  {
   "cell_type": "code",
   "execution_count": 17,
   "metadata": {},
   "outputs": [],
   "source": [
    "# CHANGE COLOR SCHEMEEEEEE"
   ]
  },
  {
   "cell_type": "code",
   "execution_count": 18,
   "metadata": {},
   "outputs": [],
   "source": [
    "# chances of male and female having hd? does it reflect real life numbers? the original ds does not take race \n",
    "# into consideration, should I mention it?"
   ]
  },
  {
   "cell_type": "code",
   "execution_count": 19,
   "metadata": {},
   "outputs": [],
   "source": [
    "# maybe not talk about probs on 1 feature alone\n"
   ]
  },
  {
   "cell_type": "markdown",
   "metadata": {},
   "source": [
    "### Age vs. Maximum Heart Rate"
   ]
  },
  {
   "cell_type": "code",
   "execution_count": 20,
   "metadata": {},
   "outputs": [
    {
     "name": "stdout",
     "output_type": "stream",
     "text": [
      "{'age': 'age of the pacient',\n",
      " 'ca': 'number of major vessels (0-3) colored by flourosopy: colored vessel '\n",
      "       'means the doctor can see the blood passing through, the more blood '\n",
      "       'movement the better (no clots)',\n",
      " 'chol': 'serum cholestoral in mg/dl: serum = LDL + HDL + .2 * triglycerides; '\n",
      "         'above 200 is cause for concern',\n",
      " 'cp': 'chest pain type: 0=typical angina(chest pain related decrease blood '\n",
      "       'supply to the heart); 1=atypical angina (chest pain not related to '\n",
      "       'heart); 2=non-anginal pain (typically esophageal spasms (non heart '\n",
      "       'related))3=Asymptomatic (chest pain not showing signs of disease)',\n",
      " 'exang': 'exercise induced angina (1 = yes; 0 = no)',\n",
      " 'fbs': 'fasting blood sugar > 120 mg/dl (1 = true; 0 = false)',\n",
      " 'oldpeak': 'ST depression induced by exercise relative to rest looks at '\n",
      "            'stress of heart during excercise unhealthy heart will stress more',\n",
      " 'restecg': '0=nothing to note; 1=ST-T Wave abnormality (can range from mild '\n",
      "            'symptoms to severe problemsm signals non-normal heart beat); '\n",
      "            '2=Possible or definite left ventricular hypertrophy (enlarged '\n",
      "            \"heart's main pumping chamber)\",\n",
      " 'sex': '{1=male;0=female',\n",
      " 'slope': 'the slope of the peak exercise ST segment: 0=upsloping (better '\n",
      "          'heart rate with excercise (uncommon)); 1=flatsloping (minimal '\n",
      "          'change (typical healthy heart)); 2=downslopins (signs of unhealthy '\n",
      "          'heart)',\n",
      " 'target': 'have disease or not (1=yes, 0=no) (= the predicted attribute)',\n",
      " 'thal': 'thalium stress result: 1,3: normal; 6: fixed defect: used to be '\n",
      "         'defect but ok now; 7: reversable defect: no proper blood movement '\n",
      "         'when excercising',\n",
      " 'thalach': 'maximum heart rate achieved',\n",
      " 'trestbps': 'resting blood pressure (in mm Hg on admission to the hospital) '\n",
      "             'anything above 130-140 is typically cause for concern'}\n"
     ]
    }
   ],
   "source": [
    "# Printing variable dictionary to check which one corresponds to Maximum Heart Rate\n",
    "pprint.pprint(variable_meanings)"
   ]
  },
  {
   "cell_type": "markdown",
   "metadata": {},
   "source": [
    "Below I use the Matplotlib function to plot the histogram and set `bins=auto`. This sets the bin creation strategy as automatic, which is recomended in the [documentation](https://matplotlib.org/3.3.3/api/_as_gen/matplotlib.pyplot.hist.html). As stated in the documentation, when bins is `bins=auto`, the strategy is:\"\n",
    "\"Maximum of the ‘sturges’ and ‘fd’ estimators. Provides good all around performance.\"\n",
    "[**For visualisation, using the ‘auto’ option is suggested.**](https://numpy.org/doc/stable/reference/generated/numpy.histogram_bin_edges.html#numpy.histogram_bin_edges)"
   ]
  },
  {
   "cell_type": "code",
   "execution_count": 21,
   "metadata": {
    "scrolled": true
   },
   "outputs": [
    {
     "data": {
      "text/plain": [
       "Text(0.5, 1.0, 'Patients age distribution')"
      ]
     },
     "execution_count": 21,
     "metadata": {},
     "output_type": "execute_result"
    },
    {
     "data": {
      "image/png": "[encoded data removed]",
      "text/plain": [
       "<Figure size 432x288 with 1 Axes>"
      ]
     },
     "metadata": {
      "needs_background": "light"
     },
     "output_type": "display_data"
    }
   ],
   "source": [
    "# Viewing the patients' age distribution\n",
    "plt.hist(df['age'], bins='auto', color='lightblue', edgecolor='gray') # -> why? what does it tell me? \n",
    "plt.title('Patients age distribution')"
   ]
  },
  {
   "cell_type": "code",
   "execution_count": 22,
   "metadata": {},
   "outputs": [
    {
     "data": {
      "image/png": "[encoded data removed]",
      "text/plain": [
       "<Figure size 432x288 with 1 Axes>"
      ]
     },
     "metadata": {
      "needs_background": "light"
     },
     "output_type": "display_data"
    }
   ],
   "source": [
    "sns.scatterplot(x=df['age'], y=df['thalach'], hue=df['target'],\n",
    "                palette='flare');\n",
    "\n",
    "plt.title(\"Heart Disease as function of Age and Max Heart Rate\");\n",
    "plt.xlabel(\"Age\");\n",
    "plt.ylabel(\"Max Heart Rate\");\n",
    "plt.legend(['Heart disease', 'No heart disease']);"
   ]
  },
  {
   "cell_type": "code",
   "execution_count": 23,
   "metadata": {},
   "outputs": [],
   "source": [
    "# here I should talk about max heart rate values normal for each age group -> cite it"
   ]
  },
  {
   "cell_type": "code",
   "execution_count": 24,
   "metadata": {},
   "outputs": [],
   "source": [
    "# chest pain type x target \n",
    "\n",
    "# MAYBE HERE I CAN RELATE TO SEX BC SYMPTOMS ARE DIFFERENT IN MEN AND WOMEN\n",
    "\n",
    "# add description of data\n",
    "\n",
    "# make the title of the analysis a header (ex Chest pains and Heart Disease Occurence)\n"
   ]
  },
  {
   "cell_type": "markdown",
   "metadata": {},
   "source": [
    "### Age and sex vs. heart disease"
   ]
  },
  {
   "cell_type": "code",
   "execution_count": 25,
   "metadata": {},
   "outputs": [
    {
     "data": {
      "text/html": [
       "<div>\n",
       "<style scoped>\n",
       "    .dataframe tbody tr th:only-of-type {\n",
       "        vertical-align: middle;\n",
       "    }\n",
       "\n",
       "    .dataframe tbody tr th {\n",
       "        vertical-align: top;\n",
       "    }\n",
       "\n",
       "    .dataframe thead th {\n",
       "        text-align: right;\n",
       "    }\n",
       "</style>\n",
       "<table border=\"1\" class=\"dataframe\">\n",
       "  <thead>\n",
       "    <tr style=\"text-align: right;\">\n",
       "      <th></th>\n",
       "      <th>age</th>\n",
       "      <th>target</th>\n",
       "    </tr>\n",
       "  </thead>\n",
       "  <tbody>\n",
       "    <tr>\n",
       "      <th>2</th>\n",
       "      <td>41</td>\n",
       "      <td>1</td>\n",
       "    </tr>\n",
       "    <tr>\n",
       "      <th>4</th>\n",
       "      <td>57</td>\n",
       "      <td>1</td>\n",
       "    </tr>\n",
       "    <tr>\n",
       "      <th>6</th>\n",
       "      <td>56</td>\n",
       "      <td>1</td>\n",
       "    </tr>\n",
       "    <tr>\n",
       "      <th>11</th>\n",
       "      <td>48</td>\n",
       "      <td>1</td>\n",
       "    </tr>\n",
       "    <tr>\n",
       "      <th>14</th>\n",
       "      <td>58</td>\n",
       "      <td>1</td>\n",
       "    </tr>\n",
       "    <tr>\n",
       "      <th>...</th>\n",
       "      <td>...</td>\n",
       "      <td>...</td>\n",
       "    </tr>\n",
       "    <tr>\n",
       "      <th>289</th>\n",
       "      <td>55</td>\n",
       "      <td>0</td>\n",
       "    </tr>\n",
       "    <tr>\n",
       "      <th>292</th>\n",
       "      <td>58</td>\n",
       "      <td>0</td>\n",
       "    </tr>\n",
       "    <tr>\n",
       "      <th>296</th>\n",
       "      <td>63</td>\n",
       "      <td>0</td>\n",
       "    </tr>\n",
       "    <tr>\n",
       "      <th>298</th>\n",
       "      <td>57</td>\n",
       "      <td>0</td>\n",
       "    </tr>\n",
       "    <tr>\n",
       "      <th>302</th>\n",
       "      <td>57</td>\n",
       "      <td>0</td>\n",
       "    </tr>\n",
       "  </tbody>\n",
       "</table>\n",
       "<p>96 rows × 2 columns</p>\n",
       "</div>"
      ],
      "text/plain": [
       "     age  target\n",
       "2     41       1\n",
       "4     57       1\n",
       "6     56       1\n",
       "11    48       1\n",
       "14    58       1\n",
       "..   ...     ...\n",
       "289   55       0\n",
       "292   58       0\n",
       "296   63       0\n",
       "298   57       0\n",
       "302   57       0\n",
       "\n",
       "[96 rows x 2 columns]"
      ]
     },
     "execution_count": 25,
     "metadata": {},
     "output_type": "execute_result"
    }
   ],
   "source": [
    "\n",
    "females = df[['age', 'target']].loc[df['sex'] == 0]\n",
    "females"
   ]
  },
  {
   "cell_type": "code",
   "execution_count": 26,
   "metadata": {},
   "outputs": [
    {
     "data": {
      "text/plain": [
       "(34, 76)"
      ]
     },
     "execution_count": 26,
     "metadata": {},
     "output_type": "execute_result"
    }
   ],
   "source": [
    "females['age'].min(), females['age'].max() "
   ]
  },
  {
   "cell_type": "code",
   "execution_count": 27,
   "metadata": {},
   "outputs": [
    {
     "data": {
      "image/png": "[encoded data removed]",
      "text/plain": [
       "<Figure size 720x432 with 1 Axes>"
      ]
     },
     "metadata": {
      "needs_background": "light"
     },
     "output_type": "display_data"
    }
   ],
   "source": [
    "pd.crosstab(females['age'], females['target']).plot(kind='bar', figsize=(10, 6), color=['salmon', 'lightblue'])\n",
    "plt.title('Heart disease occurence according to age in females');\n",
    "plt.xlabel('Age');\n",
    "plt.ylabel('Heart Disease Occurence Count');\n",
    "plt.ylim(0,10)\n",
    "plt.legend(['No disease', 'Disease']);\n",
    "plt.xticks(rotation=0);"
   ]
  },
  {
   "cell_type": "code",
   "execution_count": 28,
   "metadata": {},
   "outputs": [
    {
     "data": {
      "text/html": [
       "<div>\n",
       "<style scoped>\n",
       "    .dataframe tbody tr th:only-of-type {\n",
       "        vertical-align: middle;\n",
       "    }\n",
       "\n",
       "    .dataframe tbody tr th {\n",
       "        vertical-align: top;\n",
       "    }\n",
       "\n",
       "    .dataframe thead th {\n",
       "        text-align: right;\n",
       "    }\n",
       "</style>\n",
       "<table border=\"1\" class=\"dataframe\">\n",
       "  <thead>\n",
       "    <tr style=\"text-align: right;\">\n",
       "      <th></th>\n",
       "      <th>age</th>\n",
       "      <th>target</th>\n",
       "    </tr>\n",
       "  </thead>\n",
       "  <tbody>\n",
       "    <tr>\n",
       "      <th>0</th>\n",
       "      <td>63</td>\n",
       "      <td>1</td>\n",
       "    </tr>\n",
       "    <tr>\n",
       "      <th>1</th>\n",
       "      <td>37</td>\n",
       "      <td>1</td>\n",
       "    </tr>\n",
       "    <tr>\n",
       "      <th>3</th>\n",
       "      <td>56</td>\n",
       "      <td>1</td>\n",
       "    </tr>\n",
       "    <tr>\n",
       "      <th>5</th>\n",
       "      <td>57</td>\n",
       "      <td>1</td>\n",
       "    </tr>\n",
       "    <tr>\n",
       "      <th>7</th>\n",
       "      <td>44</td>\n",
       "      <td>1</td>\n",
       "    </tr>\n",
       "    <tr>\n",
       "      <th>...</th>\n",
       "      <td>...</td>\n",
       "      <td>...</td>\n",
       "    </tr>\n",
       "    <tr>\n",
       "      <th>295</th>\n",
       "      <td>63</td>\n",
       "      <td>0</td>\n",
       "    </tr>\n",
       "    <tr>\n",
       "      <th>297</th>\n",
       "      <td>59</td>\n",
       "      <td>0</td>\n",
       "    </tr>\n",
       "    <tr>\n",
       "      <th>299</th>\n",
       "      <td>45</td>\n",
       "      <td>0</td>\n",
       "    </tr>\n",
       "    <tr>\n",
       "      <th>300</th>\n",
       "      <td>68</td>\n",
       "      <td>0</td>\n",
       "    </tr>\n",
       "    <tr>\n",
       "      <th>301</th>\n",
       "      <td>57</td>\n",
       "      <td>0</td>\n",
       "    </tr>\n",
       "  </tbody>\n",
       "</table>\n",
       "<p>207 rows × 2 columns</p>\n",
       "</div>"
      ],
      "text/plain": [
       "     age  target\n",
       "0     63       1\n",
       "1     37       1\n",
       "3     56       1\n",
       "5     57       1\n",
       "7     44       1\n",
       "..   ...     ...\n",
       "295   63       0\n",
       "297   59       0\n",
       "299   45       0\n",
       "300   68       0\n",
       "301   57       0\n",
       "\n",
       "[207 rows x 2 columns]"
      ]
     },
     "execution_count": 28,
     "metadata": {},
     "output_type": "execute_result"
    }
   ],
   "source": [
    "males = df[['age', 'target']].loc[df['sex'] == 1]\n",
    "males"
   ]
  },
  {
   "cell_type": "code",
   "execution_count": 29,
   "metadata": {},
   "outputs": [
    {
     "data": {
      "text/plain": [
       "(29, 77)"
      ]
     },
     "execution_count": 29,
     "metadata": {},
     "output_type": "execute_result"
    }
   ],
   "source": [
    "males['age'].min(), males['age'].max() "
   ]
  },
  {
   "cell_type": "code",
   "execution_count": 30,
   "metadata": {},
   "outputs": [
    {
     "data": {
      "image/png": "[encoded data removed]",
      "text/plain": [
       "<Figure size 720x432 with 1 Axes>"
      ]
     },
     "metadata": {
      "needs_background": "light"
     },
     "output_type": "display_data"
    }
   ],
   "source": [
    "pd.crosstab(males['age'], males['target']).plot(kind='bar', figsize=(10, 6), color=['salmon', 'lightblue'])\n",
    "plt.title('Heart disease occurence according to age in males');\n",
    "plt.xlabel('Age');\n",
    "plt.ylabel('Heart Disease Occurence Count');\n",
    "plt.legend(['No disease', 'Disease']);\n",
    "plt.xticks(rotation=0);"
   ]
  },
  {
   "cell_type": "markdown",
   "metadata": {},
   "source": [
    "\n",
    "### Chest pain and occurence of heart disease"
   ]
  },
  {
   "cell_type": "code",
   "execution_count": 31,
   "metadata": {},
   "outputs": [
    {
     "name": "stdout",
     "output_type": "stream",
     "text": [
      "('chest pain type: 0=typical angina(chest pain related decrease blood supply '\n",
      " 'to the heart); 1=atypical angina (chest pain not related to heart); '\n",
      " '2=non-anginal pain (typically esophageal spasms (non heart '\n",
      " 'related))3=Asymptomatic (chest pain not showing signs of disease)')\n"
     ]
    }
   ],
   "source": [
    "# Retrieving from the variable meanings dictionary the definition of each chest pain type \n",
    "pprint.pprint(variable_meanings['cp'])"
   ]
  },
  {
   "cell_type": "code",
   "execution_count": 32,
   "metadata": {},
   "outputs": [
    {
     "data": {
      "text/html": [
       "<div>\n",
       "<style scoped>\n",
       "    .dataframe tbody tr th:only-of-type {\n",
       "        vertical-align: middle;\n",
       "    }\n",
       "\n",
       "    .dataframe tbody tr th {\n",
       "        vertical-align: top;\n",
       "    }\n",
       "\n",
       "    .dataframe thead th {\n",
       "        text-align: right;\n",
       "    }\n",
       "</style>\n",
       "<table border=\"1\" class=\"dataframe\">\n",
       "  <thead>\n",
       "    <tr style=\"text-align: right;\">\n",
       "      <th>target</th>\n",
       "      <th>0</th>\n",
       "      <th>1</th>\n",
       "    </tr>\n",
       "    <tr>\n",
       "      <th>cp</th>\n",
       "      <th></th>\n",
       "      <th></th>\n",
       "    </tr>\n",
       "  </thead>\n",
       "  <tbody>\n",
       "    <tr>\n",
       "      <th>0</th>\n",
       "      <td>104</td>\n",
       "      <td>39</td>\n",
       "    </tr>\n",
       "    <tr>\n",
       "      <th>1</th>\n",
       "      <td>9</td>\n",
       "      <td>41</td>\n",
       "    </tr>\n",
       "    <tr>\n",
       "      <th>2</th>\n",
       "      <td>18</td>\n",
       "      <td>69</td>\n",
       "    </tr>\n",
       "    <tr>\n",
       "      <th>3</th>\n",
       "      <td>7</td>\n",
       "      <td>16</td>\n",
       "    </tr>\n",
       "  </tbody>\n",
       "</table>\n",
       "</div>"
      ],
      "text/plain": [
       "target    0   1\n",
       "cp             \n",
       "0       104  39\n",
       "1         9  41\n",
       "2        18  69\n",
       "3         7  16"
      ]
     },
     "execution_count": 32,
     "metadata": {},
     "output_type": "execute_result"
    }
   ],
   "source": [
    "pd.crosstab(df['cp'], df['target'])"
   ]
  },
  {
   "cell_type": "code",
   "execution_count": 33,
   "metadata": {},
   "outputs": [
    {
     "data": {
      "text/html": [
       "<div>\n",
       "<style scoped>\n",
       "    .dataframe tbody tr th:only-of-type {\n",
       "        vertical-align: middle;\n",
       "    }\n",
       "\n",
       "    .dataframe tbody tr th {\n",
       "        vertical-align: top;\n",
       "    }\n",
       "\n",
       "    .dataframe thead th {\n",
       "        text-align: right;\n",
       "    }\n",
       "</style>\n",
       "<table border=\"1\" class=\"dataframe\">\n",
       "  <thead>\n",
       "    <tr style=\"text-align: right;\">\n",
       "      <th>target</th>\n",
       "      <th>0</th>\n",
       "      <th>1</th>\n",
       "    </tr>\n",
       "    <tr>\n",
       "      <th>cp</th>\n",
       "      <th></th>\n",
       "      <th></th>\n",
       "    </tr>\n",
       "  </thead>\n",
       "  <tbody>\n",
       "    <tr>\n",
       "      <th>0</th>\n",
       "      <td>34.323432</td>\n",
       "      <td>12.871287</td>\n",
       "    </tr>\n",
       "    <tr>\n",
       "      <th>1</th>\n",
       "      <td>2.970297</td>\n",
       "      <td>13.531353</td>\n",
       "    </tr>\n",
       "    <tr>\n",
       "      <th>2</th>\n",
       "      <td>5.940594</td>\n",
       "      <td>22.772277</td>\n",
       "    </tr>\n",
       "    <tr>\n",
       "      <th>3</th>\n",
       "      <td>2.310231</td>\n",
       "      <td>5.280528</td>\n",
       "    </tr>\n",
       "  </tbody>\n",
       "</table>\n",
       "</div>"
      ],
      "text/plain": [
       "target          0          1\n",
       "cp                          \n",
       "0       34.323432  12.871287\n",
       "1        2.970297  13.531353\n",
       "2        5.940594  22.772277\n",
       "3        2.310231   5.280528"
      ]
     },
     "execution_count": 33,
     "metadata": {},
     "output_type": "execute_result"
    }
   ],
   "source": [
    "pd.crosstab(df['cp'], df['target'], normalize=True)*100"
   ]
  },
  {
   "cell_type": "code",
   "execution_count": 34,
   "metadata": {},
   "outputs": [
    {
     "data": {
      "image/png": "[encoded data removed]",
      "text/plain": [
       "<Figure size 720x432 with 1 Axes>"
      ]
     },
     "metadata": {
      "needs_background": "light"
     },
     "output_type": "display_data"
    }
   ],
   "source": [
    "pd.crosstab(df['cp'], df['target']).plot(kind='bar', figsize=(10, 6), color=['salmon', 'lightblue']) # say the percentages of people with each chest pain type and hd or not\n",
    "plt.title('Heart disease occurence according to chest pain type');\n",
    "plt.xlabel('Chest Pain Type');\n",
    "plt.ylabel('Heart Disease Occurence Count');\n",
    "plt.legend(['No disease', 'Disease']);\n",
    "plt.xticks(rotation=0);"
   ]
  },
  {
   "cell_type": "markdown",
   "metadata": {},
   "source": [
    "### Correlation matrix\n",
    "\n",
    "The correlation matrix, as the name implies, represents the correlation betweent two variables, shown as values between 0 and 1. \n",
    "\n",
    "* Values closer to 1 indicate a strong positive correlation between the two variables, i.e. if the value one of the variables increases, the value of the other one also increases.\n",
    "\n",
    "* Values closer to -1 indicate a strong negative correlation between the two variables, i.e. if the value one of the variables decreases, the value of the other one also descreases.\n",
    "\n",
    "* Values closer to 0 indicate the lack of correlation between the variables, i.e. they are independent of each other."
   ]
  },
  {
   "cell_type": "code",
   "execution_count": 35,
   "metadata": {},
   "outputs": [
    {
     "data": {
      "image/png": "[encoded data removed]",
      "text/plain": [
       "<Figure size 1080x720 with 2 Axes>"
      ]
     },
     "metadata": {
      "needs_background": "light"
     },
     "output_type": "display_data"
    }
   ],
   "source": [
    "corr_matrix = df.corr()\n",
    "fig, ax = plt.subplots(figsize=(15, 10))\n",
    "ax = sns.heatmap(corr_matrix,\n",
    "                annot=True,\n",
    "                linewidths=0.5,\n",
    "                fmt='.2f',\n",
    "                cmap='flare')"
   ]
  },
  {
   "cell_type": "markdown",
   "metadata": {},
   "source": [
    "Since the goal is to try to predict the occurence of hearti disease, the focus is on the correlation between the feature variables and the target variable. A few things can be noted from the matrix:\n",
    "\n",
    "* The strongest positive correlations are: \n",
    "    1. Chest pain (cp) = 0.43;\n",
    "    2. Max heart rate (thalach) = 0.42;\n",
    "    3. Slope of the peak exercise ST segment (slope) = 0.35\n",
    "* The strongest negative correlations are: \n",
    "    1. Exercise induced angina (exang) = -0.44;\n",
    "    2. ST depression induced by exercise relative to rest (oldpeak) = -0.43;\n",
    "    3. Number of major vessels (0-3) colored by flourosopy (ca) = -0.39\n",
    "* The values closest do 0 (weakest correlation) are:\n",
    "    1. Fasting blood sugar > 120 mg/dl (fbs) = -0.03\n",
    "    2. Serum cholestoral in mg/dl (chol) = -0.09\n",
    "    3. Resting blood pressure (trestbps) = -0.14\n",
    "    4. Resting electrocardiographic results(restecg) = 0.14\n"
   ]
  },
  {
   "cell_type": "markdown",
   "metadata": {},
   "source": [
    "## 5. Modelling\n",
    "\n",
    "In this project the following models will be used:\n",
    "1. [Logistic regression](https://scikit-learn.org/stable/modules/linear_model.html#logistic-regression)\n",
    "2. [K-Nearest Neighbours Classifier](https://scikit-learn.org/stable/modules/generated/sklearn.neighbors.KNeighborsClassifier.html)\n",
    "3. [Random Forest Clasifier](https://scikit-learn.org/stable/modules/generated/sklearn.ensemble.RandomForestClassifier.html)\n",
    "4. [Linear SVC](https://scikit-learn.org/stable/modules/generated/sklearn.svm.LinearSVC.html)"
   ]
  },
  {
   "cell_type": "code",
   "execution_count": 36,
   "metadata": {},
   "outputs": [],
   "source": [
    "# Defining empty dictionaries to store all of the models' scores for later use\n",
    "\n",
    "logistic_regression = {}\n",
    "knn = {}\n",
    "random_forest = {}\n",
    "linear_svc = {}"
   ]
  },
  {
   "cell_type": "markdown",
   "metadata": {},
   "source": [
    "#### Preparing the data for modelling - Splitting"
   ]
  },
  {
   "cell_type": "code",
   "execution_count": 37,
   "metadata": {},
   "outputs": [],
   "source": [
    "# Split data into X and y\n",
    "\n",
    "# Independent variables\n",
    "X = df.drop('target', axis=1)\n",
    "\n",
    "# Target variable\n",
    "y = df['target']"
   ]
  },
  {
   "cell_type": "code",
   "execution_count": 38,
   "metadata": {
    "scrolled": true
   },
   "outputs": [
    {
     "data": {
      "text/html": [
       "<div>\n",
       "<style scoped>\n",
       "    .dataframe tbody tr th:only-of-type {\n",
       "        vertical-align: middle;\n",
       "    }\n",
       "\n",
       "    .dataframe tbody tr th {\n",
       "        vertical-align: top;\n",
       "    }\n",
       "\n",
       "    .dataframe thead th {\n",
       "        text-align: right;\n",
       "    }\n",
       "</style>\n",
       "<table border=\"1\" class=\"dataframe\">\n",
       "  <thead>\n",
       "    <tr style=\"text-align: right;\">\n",
       "      <th></th>\n",
       "      <th>age</th>\n",
       "      <th>sex</th>\n",
       "      <th>cp</th>\n",
       "      <th>trestbps</th>\n",
       "      <th>chol</th>\n",
       "      <th>fbs</th>\n",
       "      <th>restecg</th>\n",
       "      <th>thalach</th>\n",
       "      <th>exang</th>\n",
       "      <th>oldpeak</th>\n",
       "      <th>slope</th>\n",
       "      <th>ca</th>\n",
       "      <th>thal</th>\n",
       "    </tr>\n",
       "  </thead>\n",
       "  <tbody>\n",
       "    <tr>\n",
       "      <th>0</th>\n",
       "      <td>63</td>\n",
       "      <td>1</td>\n",
       "      <td>3</td>\n",
       "      <td>145</td>\n",
       "      <td>233</td>\n",
       "      <td>1</td>\n",
       "      <td>0</td>\n",
       "      <td>150</td>\n",
       "      <td>0</td>\n",
       "      <td>2.3</td>\n",
       "      <td>0</td>\n",
       "      <td>0</td>\n",
       "      <td>1</td>\n",
       "    </tr>\n",
       "    <tr>\n",
       "      <th>1</th>\n",
       "      <td>37</td>\n",
       "      <td>1</td>\n",
       "      <td>2</td>\n",
       "      <td>130</td>\n",
       "      <td>250</td>\n",
       "      <td>0</td>\n",
       "      <td>1</td>\n",
       "      <td>187</td>\n",
       "      <td>0</td>\n",
       "      <td>3.5</td>\n",
       "      <td>0</td>\n",
       "      <td>0</td>\n",
       "      <td>2</td>\n",
       "    </tr>\n",
       "    <tr>\n",
       "      <th>2</th>\n",
       "      <td>41</td>\n",
       "      <td>0</td>\n",
       "      <td>1</td>\n",
       "      <td>130</td>\n",
       "      <td>204</td>\n",
       "      <td>0</td>\n",
       "      <td>0</td>\n",
       "      <td>172</td>\n",
       "      <td>0</td>\n",
       "      <td>1.4</td>\n",
       "      <td>2</td>\n",
       "      <td>0</td>\n",
       "      <td>2</td>\n",
       "    </tr>\n",
       "    <tr>\n",
       "      <th>3</th>\n",
       "      <td>56</td>\n",
       "      <td>1</td>\n",
       "      <td>1</td>\n",
       "      <td>120</td>\n",
       "      <td>236</td>\n",
       "      <td>0</td>\n",
       "      <td>1</td>\n",
       "      <td>178</td>\n",
       "      <td>0</td>\n",
       "      <td>0.8</td>\n",
       "      <td>2</td>\n",
       "      <td>0</td>\n",
       "      <td>2</td>\n",
       "    </tr>\n",
       "    <tr>\n",
       "      <th>4</th>\n",
       "      <td>57</td>\n",
       "      <td>0</td>\n",
       "      <td>0</td>\n",
       "      <td>120</td>\n",
       "      <td>354</td>\n",
       "      <td>0</td>\n",
       "      <td>1</td>\n",
       "      <td>163</td>\n",
       "      <td>1</td>\n",
       "      <td>0.6</td>\n",
       "      <td>2</td>\n",
       "      <td>0</td>\n",
       "      <td>2</td>\n",
       "    </tr>\n",
       "  </tbody>\n",
       "</table>\n",
       "</div>"
      ],
      "text/plain": [
       "   age  sex  cp  trestbps  chol  fbs  restecg  thalach  exang  oldpeak  slope  \\\n",
       "0   63    1   3       145   233    1        0      150      0      2.3      0   \n",
       "1   37    1   2       130   250    0        1      187      0      3.5      0   \n",
       "2   41    0   1       130   204    0        0      172      0      1.4      2   \n",
       "3   56    1   1       120   236    0        1      178      0      0.8      2   \n",
       "4   57    0   0       120   354    0        1      163      1      0.6      2   \n",
       "\n",
       "   ca  thal  \n",
       "0   0     1  \n",
       "1   0     2  \n",
       "2   0     2  \n",
       "3   0     2  \n",
       "4   0     2  "
      ]
     },
     "execution_count": 38,
     "metadata": {},
     "output_type": "execute_result"
    }
   ],
   "source": [
    "# Independent variables\n",
    "X.head()"
   ]
  },
  {
   "cell_type": "code",
   "execution_count": 39,
   "metadata": {},
   "outputs": [
    {
     "data": {
      "text/plain": [
       "0    1\n",
       "1    1\n",
       "2    1\n",
       "3    1\n",
       "4    1\n",
       "Name: target, dtype: int64"
      ]
     },
     "execution_count": 39,
     "metadata": {},
     "output_type": "execute_result"
    }
   ],
   "source": [
    "# Target variable\n",
    "y.head()"
   ]
  },
  {
   "cell_type": "code",
   "execution_count": 40,
   "metadata": {},
   "outputs": [],
   "source": [
    "# Define a random seed so the results are reproductible\n",
    "np.random.seed(42)\n",
    "\n",
    "# Split data into train and test sets\n",
    "X_train, X_test, y_train, y_test = train_test_split(X, y, test_size=0.2)"
   ]
  },
  {
   "cell_type": "markdown",
   "metadata": {},
   "source": [
    "#### Preparing the data for modelling - Feature Scalling"
   ]
  },
  {
   "cell_type": "markdown",
   "metadata": {},
   "source": [
    "write here what normalization does"
   ]
  },
  {
   "cell_type": "code",
   "execution_count": 41,
   "metadata": {},
   "outputs": [],
   "source": [
    "## Data normalization using sklearn\n",
    "\n",
    "# Copy data\n",
    "X_train_norm = X_train.copy()\n",
    "X_test_norm = X_test.copy()\n",
    "\n",
    "# Fit scaler using training set\n",
    "normalization = MinMaxScaler().fit(X_train)\n",
    "\n",
    "# Normalize training set\n",
    "X_train_normalized = pd.DataFrame(normalization.transform(X_train_norm))\n",
    "\n",
    "# Normalize test set\n",
    "X_test_normalized = pd.DataFrame(normalization.transform(X_test_norm))"
   ]
  },
  {
   "cell_type": "code",
   "execution_count": 42,
   "metadata": {
    "scrolled": true
   },
   "outputs": [
    {
     "data": {
      "text/html": [
       "<div>\n",
       "<style scoped>\n",
       "    .dataframe tbody tr th:only-of-type {\n",
       "        vertical-align: middle;\n",
       "    }\n",
       "\n",
       "    .dataframe tbody tr th {\n",
       "        vertical-align: top;\n",
       "    }\n",
       "\n",
       "    .dataframe thead th {\n",
       "        text-align: right;\n",
       "    }\n",
       "</style>\n",
       "<table border=\"1\" class=\"dataframe\">\n",
       "  <thead>\n",
       "    <tr style=\"text-align: right;\">\n",
       "      <th></th>\n",
       "      <th>0</th>\n",
       "      <th>1</th>\n",
       "      <th>2</th>\n",
       "      <th>3</th>\n",
       "      <th>4</th>\n",
       "      <th>5</th>\n",
       "      <th>6</th>\n",
       "      <th>7</th>\n",
       "      <th>8</th>\n",
       "      <th>9</th>\n",
       "      <th>10</th>\n",
       "      <th>11</th>\n",
       "      <th>12</th>\n",
       "    </tr>\n",
       "  </thead>\n",
       "  <tbody>\n",
       "    <tr>\n",
       "      <th>0</th>\n",
       "      <td>0.270833</td>\n",
       "      <td>1.0</td>\n",
       "      <td>0.333333</td>\n",
       "      <td>0.265306</td>\n",
       "      <td>0.378753</td>\n",
       "      <td>0.0</td>\n",
       "      <td>0.5</td>\n",
       "      <td>0.649123</td>\n",
       "      <td>0.0</td>\n",
       "      <td>0.000000</td>\n",
       "      <td>1.0</td>\n",
       "      <td>0.0</td>\n",
       "      <td>0.666667</td>\n",
       "    </tr>\n",
       "    <tr>\n",
       "      <th>1</th>\n",
       "      <td>0.604167</td>\n",
       "      <td>1.0</td>\n",
       "      <td>0.000000</td>\n",
       "      <td>0.571429</td>\n",
       "      <td>0.321016</td>\n",
       "      <td>0.0</td>\n",
       "      <td>0.0</td>\n",
       "      <td>0.201754</td>\n",
       "      <td>1.0</td>\n",
       "      <td>0.142857</td>\n",
       "      <td>1.0</td>\n",
       "      <td>0.0</td>\n",
       "      <td>1.000000</td>\n",
       "    </tr>\n",
       "    <tr>\n",
       "      <th>2</th>\n",
       "      <td>0.354167</td>\n",
       "      <td>1.0</td>\n",
       "      <td>0.666667</td>\n",
       "      <td>0.571429</td>\n",
       "      <td>0.230947</td>\n",
       "      <td>0.0</td>\n",
       "      <td>0.5</td>\n",
       "      <td>0.517544</td>\n",
       "      <td>0.0</td>\n",
       "      <td>0.642857</td>\n",
       "      <td>0.5</td>\n",
       "      <td>0.0</td>\n",
       "      <td>0.666667</td>\n",
       "    </tr>\n",
       "    <tr>\n",
       "      <th>3</th>\n",
       "      <td>0.541667</td>\n",
       "      <td>0.0</td>\n",
       "      <td>0.333333</td>\n",
       "      <td>0.418367</td>\n",
       "      <td>0.274827</td>\n",
       "      <td>0.0</td>\n",
       "      <td>0.0</td>\n",
       "      <td>0.640351</td>\n",
       "      <td>0.0</td>\n",
       "      <td>0.250000</td>\n",
       "      <td>0.5</td>\n",
       "      <td>0.0</td>\n",
       "      <td>0.666667</td>\n",
       "    </tr>\n",
       "    <tr>\n",
       "      <th>4</th>\n",
       "      <td>0.645833</td>\n",
       "      <td>1.0</td>\n",
       "      <td>0.000000</td>\n",
       "      <td>0.234694</td>\n",
       "      <td>0.228637</td>\n",
       "      <td>1.0</td>\n",
       "      <td>0.5</td>\n",
       "      <td>0.631579</td>\n",
       "      <td>1.0</td>\n",
       "      <td>0.250000</td>\n",
       "      <td>1.0</td>\n",
       "      <td>0.5</td>\n",
       "      <td>1.000000</td>\n",
       "    </tr>\n",
       "  </tbody>\n",
       "</table>\n",
       "</div>"
      ],
      "text/plain": [
       "         0    1         2         3         4    5    6         7    8   \\\n",
       "0  0.270833  1.0  0.333333  0.265306  0.378753  0.0  0.5  0.649123  0.0   \n",
       "1  0.604167  1.0  0.000000  0.571429  0.321016  0.0  0.0  0.201754  1.0   \n",
       "2  0.354167  1.0  0.666667  0.571429  0.230947  0.0  0.5  0.517544  0.0   \n",
       "3  0.541667  0.0  0.333333  0.418367  0.274827  0.0  0.0  0.640351  0.0   \n",
       "4  0.645833  1.0  0.000000  0.234694  0.228637  1.0  0.5  0.631579  1.0   \n",
       "\n",
       "         9    10   11        12  \n",
       "0  0.000000  1.0  0.0  0.666667  \n",
       "1  0.142857  1.0  0.0  1.000000  \n",
       "2  0.642857  0.5  0.0  0.666667  \n",
       "3  0.250000  0.5  0.0  0.666667  \n",
       "4  0.250000  1.0  0.5  1.000000  "
      ]
     },
     "execution_count": 42,
     "metadata": {},
     "output_type": "execute_result"
    }
   ],
   "source": [
    "# Check normalized train set\n",
    "X_train_normalized.head()"
   ]
  },
  {
   "cell_type": "code",
   "execution_count": 43,
   "metadata": {},
   "outputs": [
    {
     "data": {
      "text/html": [
       "<div>\n",
       "<style scoped>\n",
       "    .dataframe tbody tr th:only-of-type {\n",
       "        vertical-align: middle;\n",
       "    }\n",
       "\n",
       "    .dataframe tbody tr th {\n",
       "        vertical-align: top;\n",
       "    }\n",
       "\n",
       "    .dataframe thead th {\n",
       "        text-align: right;\n",
       "    }\n",
       "</style>\n",
       "<table border=\"1\" class=\"dataframe\">\n",
       "  <thead>\n",
       "    <tr style=\"text-align: right;\">\n",
       "      <th></th>\n",
       "      <th>0</th>\n",
       "      <th>1</th>\n",
       "      <th>2</th>\n",
       "      <th>3</th>\n",
       "      <th>4</th>\n",
       "      <th>5</th>\n",
       "      <th>6</th>\n",
       "      <th>7</th>\n",
       "      <th>8</th>\n",
       "      <th>9</th>\n",
       "      <th>10</th>\n",
       "      <th>11</th>\n",
       "      <th>12</th>\n",
       "    </tr>\n",
       "  </thead>\n",
       "  <tbody>\n",
       "    <tr>\n",
       "      <th>0</th>\n",
       "      <td>0.583333</td>\n",
       "      <td>1.0</td>\n",
       "      <td>0.000000</td>\n",
       "      <td>0.571429</td>\n",
       "      <td>0.334873</td>\n",
       "      <td>0.0</td>\n",
       "      <td>0.0</td>\n",
       "      <td>0.210526</td>\n",
       "      <td>1.0</td>\n",
       "      <td>0.107143</td>\n",
       "      <td>0.5</td>\n",
       "      <td>0.25</td>\n",
       "      <td>0.333333</td>\n",
       "    </tr>\n",
       "    <tr>\n",
       "      <th>1</th>\n",
       "      <td>0.625000</td>\n",
       "      <td>1.0</td>\n",
       "      <td>1.000000</td>\n",
       "      <td>0.775510</td>\n",
       "      <td>0.362587</td>\n",
       "      <td>0.0</td>\n",
       "      <td>0.0</td>\n",
       "      <td>0.622807</td>\n",
       "      <td>0.0</td>\n",
       "      <td>0.035714</td>\n",
       "      <td>0.5</td>\n",
       "      <td>0.00</td>\n",
       "      <td>1.000000</td>\n",
       "    </tr>\n",
       "    <tr>\n",
       "      <th>2</th>\n",
       "      <td>0.583333</td>\n",
       "      <td>1.0</td>\n",
       "      <td>0.666667</td>\n",
       "      <td>0.571429</td>\n",
       "      <td>-0.011547</td>\n",
       "      <td>1.0</td>\n",
       "      <td>0.5</td>\n",
       "      <td>0.745614</td>\n",
       "      <td>0.0</td>\n",
       "      <td>0.035714</td>\n",
       "      <td>1.0</td>\n",
       "      <td>0.25</td>\n",
       "      <td>1.000000</td>\n",
       "    </tr>\n",
       "    <tr>\n",
       "      <th>3</th>\n",
       "      <td>0.562500</td>\n",
       "      <td>0.0</td>\n",
       "      <td>0.000000</td>\n",
       "      <td>0.408163</td>\n",
       "      <td>0.642032</td>\n",
       "      <td>0.0</td>\n",
       "      <td>0.0</td>\n",
       "      <td>0.543860</td>\n",
       "      <td>1.0</td>\n",
       "      <td>0.339286</td>\n",
       "      <td>0.5</td>\n",
       "      <td>0.50</td>\n",
       "      <td>1.000000</td>\n",
       "    </tr>\n",
       "    <tr>\n",
       "      <th>4</th>\n",
       "      <td>0.875000</td>\n",
       "      <td>0.0</td>\n",
       "      <td>0.666667</td>\n",
       "      <td>0.163265</td>\n",
       "      <td>0.309469</td>\n",
       "      <td>1.0</td>\n",
       "      <td>0.0</td>\n",
       "      <td>0.368421</td>\n",
       "      <td>0.0</td>\n",
       "      <td>0.000000</td>\n",
       "      <td>1.0</td>\n",
       "      <td>0.25</td>\n",
       "      <td>0.666667</td>\n",
       "    </tr>\n",
       "  </tbody>\n",
       "</table>\n",
       "</div>"
      ],
      "text/plain": [
       "         0    1         2         3         4    5    6         7    8   \\\n",
       "0  0.583333  1.0  0.000000  0.571429  0.334873  0.0  0.0  0.210526  1.0   \n",
       "1  0.625000  1.0  1.000000  0.775510  0.362587  0.0  0.0  0.622807  0.0   \n",
       "2  0.583333  1.0  0.666667  0.571429 -0.011547  1.0  0.5  0.745614  0.0   \n",
       "3  0.562500  0.0  0.000000  0.408163  0.642032  0.0  0.0  0.543860  1.0   \n",
       "4  0.875000  0.0  0.666667  0.163265  0.309469  1.0  0.0  0.368421  0.0   \n",
       "\n",
       "         9    10    11        12  \n",
       "0  0.107143  0.5  0.25  0.333333  \n",
       "1  0.035714  0.5  0.00  1.000000  \n",
       "2  0.035714  1.0  0.25  1.000000  \n",
       "3  0.339286  0.5  0.50  1.000000  \n",
       "4  0.000000  1.0  0.25  0.666667  "
      ]
     },
     "execution_count": 43,
     "metadata": {},
     "output_type": "execute_result"
    }
   ],
   "source": [
    "# Check normalized test set\n",
    "X_test_normalized.head()"
   ]
  },
  {
   "cell_type": "code",
   "execution_count": 44,
   "metadata": {},
   "outputs": [],
   "source": [
    "## Data standardization using sklearn\n",
    "\n",
    "# Copy data\n",
    "X_train_stand = X_train.copy()\n",
    "X_test_stand = X_test.copy()\n",
    "\n",
    "# Fit scaler using training set\n",
    "standard = StandardScaler().fit(X_train)\n",
    "    \n",
    "# Standartize training set\n",
    "X_train_standardized = pd.DataFrame(standard.transform(X_train_stand))\n",
    "    \n",
    "# Standartize test set\n",
    "X_test_standardized = pd.DataFrame(standard.transform(X_test_stand))\n"
   ]
  },
  {
   "cell_type": "code",
   "execution_count": 45,
   "metadata": {},
   "outputs": [
    {
     "data": {
      "text/html": [
       "<div>\n",
       "<style scoped>\n",
       "    .dataframe tbody tr th:only-of-type {\n",
       "        vertical-align: middle;\n",
       "    }\n",
       "\n",
       "    .dataframe tbody tr th {\n",
       "        vertical-align: top;\n",
       "    }\n",
       "\n",
       "    .dataframe thead th {\n",
       "        text-align: right;\n",
       "    }\n",
       "</style>\n",
       "<table border=\"1\" class=\"dataframe\">\n",
       "  <thead>\n",
       "    <tr style=\"text-align: right;\">\n",
       "      <th></th>\n",
       "      <th>0</th>\n",
       "      <th>1</th>\n",
       "      <th>2</th>\n",
       "      <th>3</th>\n",
       "      <th>4</th>\n",
       "      <th>5</th>\n",
       "      <th>6</th>\n",
       "      <th>7</th>\n",
       "      <th>8</th>\n",
       "      <th>9</th>\n",
       "      <th>10</th>\n",
       "      <th>11</th>\n",
       "      <th>12</th>\n",
       "    </tr>\n",
       "  </thead>\n",
       "  <tbody>\n",
       "    <tr>\n",
       "      <th>0</th>\n",
       "      <td>-1.356798</td>\n",
       "      <td>0.722504</td>\n",
       "      <td>0.008099</td>\n",
       "      <td>-0.616856</td>\n",
       "      <td>0.914034</td>\n",
       "      <td>-0.383301</td>\n",
       "      <td>0.843133</td>\n",
       "      <td>0.532781</td>\n",
       "      <td>-0.676632</td>\n",
       "      <td>-0.920864</td>\n",
       "      <td>0.953905</td>\n",
       "      <td>-0.689701</td>\n",
       "      <td>-0.509048</td>\n",
       "    </tr>\n",
       "    <tr>\n",
       "      <th>1</th>\n",
       "      <td>0.385086</td>\n",
       "      <td>0.722504</td>\n",
       "      <td>-0.971891</td>\n",
       "      <td>1.169491</td>\n",
       "      <td>0.439527</td>\n",
       "      <td>-0.383301</td>\n",
       "      <td>-1.046109</td>\n",
       "      <td>-1.753582</td>\n",
       "      <td>1.477907</td>\n",
       "      <td>-0.193787</td>\n",
       "      <td>0.953905</td>\n",
       "      <td>-0.689701</td>\n",
       "      <td>1.178480</td>\n",
       "    </tr>\n",
       "    <tr>\n",
       "      <th>2</th>\n",
       "      <td>-0.921327</td>\n",
       "      <td>0.722504</td>\n",
       "      <td>0.988089</td>\n",
       "      <td>1.169491</td>\n",
       "      <td>-0.300704</td>\n",
       "      <td>-0.383301</td>\n",
       "      <td>0.843133</td>\n",
       "      <td>-0.139679</td>\n",
       "      <td>-0.676632</td>\n",
       "      <td>2.350982</td>\n",
       "      <td>-0.694988</td>\n",
       "      <td>-0.689701</td>\n",
       "      <td>-0.509048</td>\n",
       "    </tr>\n",
       "    <tr>\n",
       "      <th>3</th>\n",
       "      <td>0.058483</td>\n",
       "      <td>-1.384075</td>\n",
       "      <td>0.008099</td>\n",
       "      <td>0.276318</td>\n",
       "      <td>0.059921</td>\n",
       "      <td>-0.383301</td>\n",
       "      <td>-1.046109</td>\n",
       "      <td>0.487950</td>\n",
       "      <td>-0.676632</td>\n",
       "      <td>0.351521</td>\n",
       "      <td>-0.694988</td>\n",
       "      <td>-0.689701</td>\n",
       "      <td>-0.509048</td>\n",
       "    </tr>\n",
       "    <tr>\n",
       "      <th>4</th>\n",
       "      <td>0.602822</td>\n",
       "      <td>0.722504</td>\n",
       "      <td>-0.971891</td>\n",
       "      <td>-0.795490</td>\n",
       "      <td>-0.319684</td>\n",
       "      <td>2.608918</td>\n",
       "      <td>0.843133</td>\n",
       "      <td>0.443119</td>\n",
       "      <td>1.477907</td>\n",
       "      <td>0.351521</td>\n",
       "      <td>0.953905</td>\n",
       "      <td>1.333421</td>\n",
       "      <td>1.178480</td>\n",
       "    </tr>\n",
       "  </tbody>\n",
       "</table>\n",
       "</div>"
      ],
      "text/plain": [
       "         0         1         2         3         4         5         6   \\\n",
       "0 -1.356798  0.722504  0.008099 -0.616856  0.914034 -0.383301  0.843133   \n",
       "1  0.385086  0.722504 -0.971891  1.169491  0.439527 -0.383301 -1.046109   \n",
       "2 -0.921327  0.722504  0.988089  1.169491 -0.300704 -0.383301  0.843133   \n",
       "3  0.058483 -1.384075  0.008099  0.276318  0.059921 -0.383301 -1.046109   \n",
       "4  0.602822  0.722504 -0.971891 -0.795490 -0.319684  2.608918  0.843133   \n",
       "\n",
       "         7         8         9         10        11        12  \n",
       "0  0.532781 -0.676632 -0.920864  0.953905 -0.689701 -0.509048  \n",
       "1 -1.753582  1.477907 -0.193787  0.953905 -0.689701  1.178480  \n",
       "2 -0.139679 -0.676632  2.350982 -0.694988 -0.689701 -0.509048  \n",
       "3  0.487950 -0.676632  0.351521 -0.694988 -0.689701 -0.509048  \n",
       "4  0.443119  1.477907  0.351521  0.953905  1.333421  1.178480  "
      ]
     },
     "execution_count": 45,
     "metadata": {},
     "output_type": "execute_result"
    }
   ],
   "source": [
    "# Check standardized train set\n",
    "X_train_standardized.head()"
   ]
  },
  {
   "cell_type": "code",
   "execution_count": 46,
   "metadata": {
    "scrolled": true
   },
   "outputs": [
    {
     "data": {
      "text/html": [
       "<div>\n",
       "<style scoped>\n",
       "    .dataframe tbody tr th:only-of-type {\n",
       "        vertical-align: middle;\n",
       "    }\n",
       "\n",
       "    .dataframe tbody tr th {\n",
       "        vertical-align: top;\n",
       "    }\n",
       "\n",
       "    .dataframe thead th {\n",
       "        text-align: right;\n",
       "    }\n",
       "</style>\n",
       "<table border=\"1\" class=\"dataframe\">\n",
       "  <thead>\n",
       "    <tr style=\"text-align: right;\">\n",
       "      <th></th>\n",
       "      <th>0</th>\n",
       "      <th>1</th>\n",
       "      <th>2</th>\n",
       "      <th>3</th>\n",
       "      <th>4</th>\n",
       "      <th>5</th>\n",
       "      <th>6</th>\n",
       "      <th>7</th>\n",
       "      <th>8</th>\n",
       "      <th>9</th>\n",
       "      <th>10</th>\n",
       "      <th>11</th>\n",
       "      <th>12</th>\n",
       "    </tr>\n",
       "  </thead>\n",
       "  <tbody>\n",
       "    <tr>\n",
       "      <th>0</th>\n",
       "      <td>0.276218</td>\n",
       "      <td>0.722504</td>\n",
       "      <td>-0.971891</td>\n",
       "      <td>1.169491</td>\n",
       "      <td>0.553408</td>\n",
       "      <td>-0.383301</td>\n",
       "      <td>-1.046109</td>\n",
       "      <td>-1.708752</td>\n",
       "      <td>1.477907</td>\n",
       "      <td>-0.375556</td>\n",
       "      <td>-0.694988</td>\n",
       "      <td>0.321860</td>\n",
       "      <td>-2.196576</td>\n",
       "    </tr>\n",
       "    <tr>\n",
       "      <th>1</th>\n",
       "      <td>0.493954</td>\n",
       "      <td>0.722504</td>\n",
       "      <td>1.968079</td>\n",
       "      <td>2.360389</td>\n",
       "      <td>0.781172</td>\n",
       "      <td>-0.383301</td>\n",
       "      <td>-1.046109</td>\n",
       "      <td>0.398289</td>\n",
       "      <td>-0.676632</td>\n",
       "      <td>-0.739095</td>\n",
       "      <td>-0.694988</td>\n",
       "      <td>-0.689701</td>\n",
       "      <td>1.178480</td>\n",
       "    </tr>\n",
       "    <tr>\n",
       "      <th>2</th>\n",
       "      <td>0.276218</td>\n",
       "      <td>0.722504</td>\n",
       "      <td>0.988089</td>\n",
       "      <td>1.169491</td>\n",
       "      <td>-2.293633</td>\n",
       "      <td>2.608918</td>\n",
       "      <td>0.843133</td>\n",
       "      <td>1.025918</td>\n",
       "      <td>-0.676632</td>\n",
       "      <td>-0.739095</td>\n",
       "      <td>0.953905</td>\n",
       "      <td>0.321860</td>\n",
       "      <td>1.178480</td>\n",
       "    </tr>\n",
       "    <tr>\n",
       "      <th>3</th>\n",
       "      <td>0.167350</td>\n",
       "      <td>-1.384075</td>\n",
       "      <td>-0.971891</td>\n",
       "      <td>0.216773</td>\n",
       "      <td>3.077785</td>\n",
       "      <td>-0.383301</td>\n",
       "      <td>-1.046109</td>\n",
       "      <td>-0.005187</td>\n",
       "      <td>1.477907</td>\n",
       "      <td>0.805944</td>\n",
       "      <td>-0.694988</td>\n",
       "      <td>1.333421</td>\n",
       "      <td>1.178480</td>\n",
       "    </tr>\n",
       "    <tr>\n",
       "      <th>4</th>\n",
       "      <td>1.800367</td>\n",
       "      <td>-1.384075</td>\n",
       "      <td>0.988089</td>\n",
       "      <td>-1.212304</td>\n",
       "      <td>0.344625</td>\n",
       "      <td>2.608918</td>\n",
       "      <td>-1.046109</td>\n",
       "      <td>-0.901800</td>\n",
       "      <td>-0.676632</td>\n",
       "      <td>-0.920864</td>\n",
       "      <td>0.953905</td>\n",
       "      <td>0.321860</td>\n",
       "      <td>-0.509048</td>\n",
       "    </tr>\n",
       "  </tbody>\n",
       "</table>\n",
       "</div>"
      ],
      "text/plain": [
       "         0         1         2         3         4         5         6   \\\n",
       "0  0.276218  0.722504 -0.971891  1.169491  0.553408 -0.383301 -1.046109   \n",
       "1  0.493954  0.722504  1.968079  2.360389  0.781172 -0.383301 -1.046109   \n",
       "2  0.276218  0.722504  0.988089  1.169491 -2.293633  2.608918  0.843133   \n",
       "3  0.167350 -1.384075 -0.971891  0.216773  3.077785 -0.383301 -1.046109   \n",
       "4  1.800367 -1.384075  0.988089 -1.212304  0.344625  2.608918 -1.046109   \n",
       "\n",
       "         7         8         9         10        11        12  \n",
       "0 -1.708752  1.477907 -0.375556 -0.694988  0.321860 -2.196576  \n",
       "1  0.398289 -0.676632 -0.739095 -0.694988 -0.689701  1.178480  \n",
       "2  1.025918 -0.676632 -0.739095  0.953905  0.321860  1.178480  \n",
       "3 -0.005187  1.477907  0.805944 -0.694988  1.333421  1.178480  \n",
       "4 -0.901800 -0.676632 -0.920864  0.953905  0.321860 -0.509048  "
      ]
     },
     "execution_count": 46,
     "metadata": {},
     "output_type": "execute_result"
    }
   ],
   "source": [
    "# Check standardized test set\n",
    "X_test_standardized.head()"
   ]
  },
  {
   "cell_type": "markdown",
   "metadata": {},
   "source": [
    "#### Setting up models"
   ]
  },
  {
   "cell_type": "code",
   "execution_count": 59,
   "metadata": {},
   "outputs": [],
   "source": [
    "# Create dictionary for model scores\n",
    "\n",
    "model_scores = {}\n",
    "model_scores_normalized = {}\n",
    "model_scores_standardized = {}"
   ]
  },
  {
   "cell_type": "code",
   "execution_count": 60,
   "metadata": {},
   "outputs": [
    {
     "name": "stderr",
     "output_type": "stream",
     "text": [
      "/Users/anacarolinapick/opt/anaconda3/lib/python3.8/site-packages/sklearn/linear_model/_logistic.py:762: ConvergenceWarning: lbfgs failed to converge (status=1):\n",
      "STOP: TOTAL NO. of ITERATIONS REACHED LIMIT.\n",
      "\n",
      "Increase the number of iterations (max_iter) or scale the data as shown in:\n",
      "    https://scikit-learn.org/stable/modules/preprocessing.html\n",
      "Please also refer to the documentation for alternative solver options:\n",
      "    https://scikit-learn.org/stable/modules/linear_model.html#logistic-regression\n",
      "  n_iter_i = _check_optimize_result(\n"
     ]
    }
   ],
   "source": [
    "# Fit and score Logistic Regression\n",
    "\n",
    "\n",
    "# Set a random seed\n",
    "np.random.seed(42)\n",
    "\n",
    "# Instantiate the model\n",
    "log_reg = LogisticRegression()\n",
    "\n",
    "# Fit and score\n",
    "log_reg.fit(X_train, y_train)\n",
    "model_scores['Logistic Regression'] = log_reg.score (X_test, y_test)"
   ]
  },
  {
   "cell_type": "code",
   "execution_count": 61,
   "metadata": {},
   "outputs": [],
   "source": [
    "# Fit and score K-Nearest Neighbors\n",
    "\n",
    "\n",
    "# Set a random seed\n",
    "np.random.seed(42)\n",
    "\n",
    "# Instantiate the model\n",
    "knei = KNeighborsClassifier()\n",
    "\n",
    "# Fit and score\n",
    "knei.fit(X_train, y_train)\n",
    "model_scores['KNN'] = knei.score (X_test, y_test)"
   ]
  },
  {
   "cell_type": "code",
   "execution_count": 62,
   "metadata": {},
   "outputs": [],
   "source": [
    "# Fit and score Random Forest\n",
    "\n",
    "\n",
    "# Set a random seed\n",
    "np.random.seed(42)\n",
    "\n",
    "# Instantiate the model\n",
    "rand_for = RandomForestClassifier()\n",
    "\n",
    "# Fit and score\n",
    "rand_for.fit(X_train, y_train)\n",
    "model_scores['Random Forest'] = rand_for.score (X_test, y_test)"
   ]
  },
  {
   "cell_type": "code",
   "execution_count": 63,
   "metadata": {},
   "outputs": [
    {
     "name": "stderr",
     "output_type": "stream",
     "text": [
      "/Users/anacarolinapick/opt/anaconda3/lib/python3.8/site-packages/sklearn/svm/_base.py:976: ConvergenceWarning: Liblinear failed to converge, increase the number of iterations.\n",
      "  warnings.warn(\"Liblinear failed to converge, increase \"\n"
     ]
    }
   ],
   "source": [
    "# Fit and score Linear SVC\n",
    "\n",
    "\n",
    "# Set a random seed\n",
    "np.random.seed(42)\n",
    "\n",
    "# Instantiate the model\n",
    "lin_svc = LinearSVC()\n",
    "\n",
    "# Fit and score\n",
    "lin_svc.fit(X_train, y_train)\n",
    "model_scores['Linear SVC'] = lin_svc.score (X_test, y_test)"
   ]
  },
  {
   "cell_type": "code",
   "execution_count": 64,
   "metadata": {},
   "outputs": [
    {
     "data": {
      "text/plain": [
       "[{}, {}, {}, {}]"
      ]
     },
     "execution_count": 64,
     "metadata": {},
     "output_type": "execute_result"
    }
   ],
   "source": [
    "logistic_regression={}\n",
    "knn={}\n",
    "random_forest={}\n",
    "linear_svc={}\n",
    "\n",
    "dicts = [logistic_regression, knn, random_forest, linear_svc]\n",
    "dicts"
   ]
  },
  {
   "cell_type": "code",
   "execution_count": 65,
   "metadata": {},
   "outputs": [],
   "source": [
    "logistic_regression['lr_no_tuning'] = model_scores['Logistic Regression']\n",
    "knn['knn_no_tuning'] = model_scores['KNN']\n",
    "random_forest['rf_no_tuning'] = model_scores['Random Forest']\n",
    "linear_svc['ls_no_tuning'] = model_scores['Linear SVC']"
   ]
  },
  {
   "cell_type": "code",
   "execution_count": 66,
   "metadata": {},
   "outputs": [
    {
     "data": {
      "text/plain": [
       "[{'lr_no_tuning': 0.8852459016393442},\n",
       " {'knn_no_tuning': 0.6885245901639344},\n",
       " {'rf_no_tuning': 0.8360655737704918},\n",
       " {'ls_no_tuning': 0.8688524590163934}]"
      ]
     },
     "execution_count": 66,
     "metadata": {},
     "output_type": "execute_result"
    }
   ],
   "source": [
    "dicts = [logistic_regression, knn, random_forest, linear_svc]\n",
    "dicts"
   ]
  },
  {
   "cell_type": "markdown",
   "metadata": {},
   "source": [
    "* Since there was a warning saying the Logistig Regression model did not converge when trying to fit/score it, there are two possible oiptions: \n",
    "    1. use scaled data\n",
    "    2. increase the `max_iter` argument when calling the model"
   ]
  },
  {
   "cell_type": "code",
   "execution_count": 67,
   "metadata": {},
   "outputs": [],
   "source": [
    "# Fit and score Logistic Regression\n",
    "\n",
    "\n",
    "# Set a random seed\n",
    "np.random.seed(42)\n",
    "\n",
    "# Instantiate the model\n",
    "log_reg = LogisticRegression()\n",
    "\n",
    "# Fit and score\n",
    "log_reg.fit(X_train_normalized, y_train)\n",
    "model_scores_normalized['Logistic Regression'] = log_reg.score (X_test_normalized, y_test)"
   ]
  },
  {
   "cell_type": "code",
   "execution_count": 68,
   "metadata": {},
   "outputs": [],
   "source": [
    "# Fit and score K-Nearest Neighbors\n",
    "\n",
    "\n",
    "# Set a random seed\n",
    "np.random.seed(42)\n",
    "\n",
    "# Instantiate the model\n",
    "knei = KNeighborsClassifier()\n",
    "\n",
    "# Fit and score\n",
    "knei.fit(X_train_normalized, y_train)\n",
    "model_scores_normalized['KNN'] = knei.score (X_test_normalized, y_test)"
   ]
  },
  {
   "cell_type": "code",
   "execution_count": 69,
   "metadata": {},
   "outputs": [],
   "source": [
    "# Fit and score Random Forest\n",
    "\n",
    "\n",
    "# Set a random seed\n",
    "np.random.seed(42)\n",
    "\n",
    "# Instantiate the model\n",
    "rand_for = RandomForestClassifier()\n",
    "\n",
    "# Fit and score\n",
    "rand_for.fit(X_train_normalized, y_train)\n",
    "model_scores_normalized['Random Forest'] = rand_for.score (X_test_normalized, y_test)"
   ]
  },
  {
   "cell_type": "code",
   "execution_count": 70,
   "metadata": {},
   "outputs": [],
   "source": [
    "# Fit and score Linear SVC\n",
    "\n",
    "\n",
    "# Set a random seed\n",
    "np.random.seed(42)\n",
    "\n",
    "# Instantiate the model\n",
    "lin_svc = LinearSVC()\n",
    "\n",
    "# Fit and score\n",
    "lin_svc.fit(X_train_normalized, y_train)\n",
    "model_scores_normalized['Linear SVC'] = lin_svc.score (X_test_normalized, y_test)"
   ]
  },
  {
   "cell_type": "code",
   "execution_count": 71,
   "metadata": {
    "scrolled": false
   },
   "outputs": [],
   "source": [
    "logistic_regression['lr_no_tuning_nor'] = model_scores_normalized['Logistic Regression']\n",
    "knn['knn_no_tuning_nor'] = model_scores_normalized['KNN']\n",
    "random_forest['rf_no_tuning_nor'] = model_scores_normalized['Random Forest']\n",
    "linear_svc['ls_no_tuning_nor'] = model_scores_normalized['Linear SVC']"
   ]
  },
  {
   "cell_type": "code",
   "execution_count": 72,
   "metadata": {},
   "outputs": [
    {
     "data": {
      "text/plain": [
       "[{'lr_no_tuning': 0.8852459016393442, 'lr_no_tuning_nor': 0.8524590163934426},\n",
       " {'knn_no_tuning': 0.6885245901639344,\n",
       "  'knn_no_tuning_nor': 0.8360655737704918},\n",
       " {'rf_no_tuning': 0.8360655737704918, 'rf_no_tuning_nor': 0.8360655737704918},\n",
       " {'ls_no_tuning': 0.8688524590163934, 'ls_no_tuning_nor': 0.8524590163934426}]"
      ]
     },
     "execution_count": 72,
     "metadata": {},
     "output_type": "execute_result"
    }
   ],
   "source": [
    "dicts"
   ]
  },
  {
   "cell_type": "code",
   "execution_count": 73,
   "metadata": {},
   "outputs": [],
   "source": [
    "# Fit and score Logistic Regression\n",
    "\n",
    "\n",
    "# Set a random seed\n",
    "np.random.seed(42)\n",
    "\n",
    "# Instantiate the model\n",
    "log_reg = LogisticRegression()\n",
    "\n",
    "# Fit and score\n",
    "log_reg.fit(X_train_standardized, y_train)\n",
    "model_scores_standardized['Logistic Regression'] = log_reg.score (X_test_standardized, y_test)"
   ]
  },
  {
   "cell_type": "code",
   "execution_count": 74,
   "metadata": {},
   "outputs": [],
   "source": [
    "# Fit and score K-Nearest Neighbors\n",
    "\n",
    "\n",
    "# Set a random seed\n",
    "np.random.seed(42)\n",
    "\n",
    "# Instantiate the model\n",
    "knei = KNeighborsClassifier()\n",
    "\n",
    "# Fit and score\n",
    "knei.fit(X_train_standardized, y_train)\n",
    "model_scores_standardized['KNN'] = knei.score (X_test_standardized, y_test)"
   ]
  },
  {
   "cell_type": "code",
   "execution_count": 75,
   "metadata": {},
   "outputs": [],
   "source": [
    "# Fit and score Random Forest\n",
    "\n",
    "\n",
    "# Set a random seed\n",
    "np.random.seed(42)\n",
    "\n",
    "# Instantiate the model\n",
    "rand_for = RandomForestClassifier()\n",
    "\n",
    "# Fit and score\n",
    "rand_for.fit(X_train_standardized, y_train)\n",
    "model_scores_standardized['Random Forest'] = rand_for.score (X_test_standardized, y_test)"
   ]
  },
  {
   "cell_type": "code",
   "execution_count": 76,
   "metadata": {},
   "outputs": [],
   "source": [
    "# Fit and score Linear SVC\n",
    "\n",
    "\n",
    "# Set a random seed\n",
    "np.random.seed(42)\n",
    "\n",
    "# Instantiate the model\n",
    "lin_svc = LinearSVC()\n",
    "\n",
    "# Fit and score\n",
    "lin_svc.fit(X_train_standardized, y_train)\n",
    "model_scores_standardized['Linear SVC'] = lin_svc.score (X_test_standardized, y_test)"
   ]
  },
  {
   "cell_type": "code",
   "execution_count": 77,
   "metadata": {},
   "outputs": [],
   "source": [
    "logistic_regression['lr_no_tuning_std'] = model_scores_standardized['Logistic Regression']\n",
    "knn['knn_no_tuning_std'] = model_scores_standardized['KNN']\n",
    "random_forest['rf_no_tuning_std'] = model_scores_standardized['Random Forest']\n",
    "linear_svc['ls_no_tuning_std'] = model_scores_standardized['Linear SVC']"
   ]
  },
  {
   "cell_type": "code",
   "execution_count": 78,
   "metadata": {},
   "outputs": [
    {
     "data": {
      "text/plain": [
       "[{'lr_no_tuning': 0.8852459016393442,\n",
       "  'lr_no_tuning_nor': 0.8524590163934426,\n",
       "  'lr_no_tuning_std': 0.8524590163934426},\n",
       " {'knn_no_tuning': 0.6885245901639344,\n",
       "  'knn_no_tuning_nor': 0.8360655737704918,\n",
       "  'knn_no_tuning_std': 0.9016393442622951},\n",
       " {'rf_no_tuning': 0.8360655737704918,\n",
       "  'rf_no_tuning_nor': 0.8360655737704918,\n",
       "  'rf_no_tuning_std': 0.8360655737704918},\n",
       " {'ls_no_tuning': 0.8688524590163934,\n",
       "  'ls_no_tuning_nor': 0.8524590163934426,\n",
       "  'ls_no_tuning_std': 0.8688524590163934}]"
      ]
     },
     "execution_count": 78,
     "metadata": {},
     "output_type": "execute_result"
    }
   ],
   "source": [
    "dicts"
   ]
  },
  {
   "cell_type": "markdown",
   "metadata": {},
   "source": [
    "### Comparing the models"
   ]
  },
  {
   "cell_type": "code",
   "execution_count": 79,
   "metadata": {},
   "outputs": [
    {
     "data": {
      "image/png": "[encoded data removed]",
      "text/plain": [
       "<Figure size 432x288 with 1 Axes>"
      ]
     },
     "metadata": {
      "needs_background": "light"
     },
     "output_type": "display_data"
    }
   ],
   "source": [
    "models_comp = [model_scores, model_scores_normalized, model_scores_standardized]\n",
    "models_comparison = pd.DataFrame(models_comp)\n",
    "\n",
    "models_comparison.T.plot.bar();\n",
    "plt.title('Comparing models accuracy improvement after data scaling');\n",
    "plt.legend(['Using raw data', 'Using normalized data', 'Using standardized data'], loc='lower right');\n",
    "plt.xticks(rotation=0);\n",
    "plt.ylabel('Accuracy');"
   ]
  },
  {
   "cell_type": "markdown",
   "metadata": {},
   "source": [
    "### Tuning the models\n",
    "\n",
    "The models will be tuned based on the following items:\n",
    "1. hyperparameter tuning\n",
    "* confusion matrix\n",
    "* cross-validation\n",
    "* precision\n",
    "* recall\n",
    "* f1 score\n",
    "* classification report\n",
    "* ROC curve\n",
    "* area under curve\n",
    "* feature importance\n",
    "\n",
    "In order to be able to have a sense of the improvement of all models, I'll use raw data, normalized data and standardized data."
   ]
  },
  {
   "cell_type": "markdown",
   "metadata": {},
   "source": [
    "#### 1. Hyperparameter Tuning"
   ]
  },
  {
   "cell_type": "markdown",
   "metadata": {},
   "source": [
    "##### K-Neighbors Classifier \n",
    "\n",
    "First I'll try only increasing the number of neighbors for the KNN model using raw, normalized and standardized data."
   ]
  },
  {
   "cell_type": "code",
   "execution_count": 80,
   "metadata": {},
   "outputs": [],
   "source": [
    "# Set a random seed\n",
    "np.random.seed(42)\n",
    "\n",
    "train_scores = []\n",
    "test_scores = []\n",
    "\n",
    "train_scores_normalized = []\n",
    "test_scores_normalized = []\n",
    "\n",
    "train_scores_standardized = []\n",
    "test_scores_standardized = []\n",
    "\n",
    "# Create a list of different values for n_neighbors\n",
    "neighbors = range(1, 26)\n",
    "\n",
    "\n",
    "# Instantiate KNN\n",
    "knei = KNeighborsClassifier()"
   ]
  },
  {
   "cell_type": "code",
   "execution_count": 81,
   "metadata": {},
   "outputs": [],
   "source": [
    "# Fit KNN for each value of n_neighbors previously defined using raw data\n",
    "for i in neighbors:\n",
    "    knei.set_params(n_neighbors=i)\n",
    "    knei.fit(X_train, y_train)\n",
    "    \n",
    "    # Add the score obtained for each value of n_neighbors to the lists of train and test scores\n",
    "    train_scores.append(knei.score(X_train, y_train))\n",
    "    test_scores.append(knei.score(X_test, y_test))"
   ]
  },
  {
   "cell_type": "code",
   "execution_count": 82,
   "metadata": {},
   "outputs": [],
   "source": [
    "# Fit KNN for each value of n_neighbors previously defined using normalized data\n",
    "for i in neighbors:\n",
    "    knei.set_params(n_neighbors=i)\n",
    "    knei.fit(X_train_normalized, y_train)\n",
    "    \n",
    "    # Add the score obtained for each value of n_neighbors to the lists of train and test scores\n",
    "    train_scores_normalized.append(knei.score(X_train_normalized, y_train))\n",
    "    test_scores_normalized.append(knei.score(X_test_normalized, y_test))    "
   ]
  },
  {
   "cell_type": "code",
   "execution_count": 83,
   "metadata": {},
   "outputs": [],
   "source": [
    "# Fit KNN for each value of n_neighbors previously defined using standardized data\n",
    "for i in neighbors:\n",
    "    knei.set_params(n_neighbors=i)\n",
    "    knei.fit(X_train_standardized, y_train)\n",
    "    \n",
    "    # Add the score obtained for each value of n_neighbors to the lists of train and test scores\n",
    "    train_scores_standardized.append(knei.score(X_train_standardized, y_train))\n",
    "    test_scores_standardized.append(knei.score(X_test_standardized, y_test))      "
   ]
  },
  {
   "cell_type": "code",
   "execution_count": 84,
   "metadata": {},
   "outputs": [
    {
     "data": {
      "text/html": [
       "<div>\n",
       "<style scoped>\n",
       "    .dataframe tbody tr th:only-of-type {\n",
       "        vertical-align: middle;\n",
       "    }\n",
       "\n",
       "    .dataframe tbody tr th {\n",
       "        vertical-align: top;\n",
       "    }\n",
       "\n",
       "    .dataframe thead th {\n",
       "        text-align: right;\n",
       "    }\n",
       "</style>\n",
       "<table border=\"1\" class=\"dataframe\">\n",
       "  <thead>\n",
       "    <tr style=\"text-align: right;\">\n",
       "      <th></th>\n",
       "      <th>train_scores</th>\n",
       "      <th>train_scores_normalized</th>\n",
       "      <th>train_scores_standardized</th>\n",
       "    </tr>\n",
       "  </thead>\n",
       "  <tbody>\n",
       "    <tr>\n",
       "      <th>0</th>\n",
       "      <td>1.000000</td>\n",
       "      <td>1.000000</td>\n",
       "      <td>1.000000</td>\n",
       "    </tr>\n",
       "    <tr>\n",
       "      <th>1</th>\n",
       "      <td>0.809917</td>\n",
       "      <td>0.880165</td>\n",
       "      <td>0.884298</td>\n",
       "    </tr>\n",
       "    <tr>\n",
       "      <th>2</th>\n",
       "      <td>0.772727</td>\n",
       "      <td>0.884298</td>\n",
       "      <td>0.888430</td>\n",
       "    </tr>\n",
       "    <tr>\n",
       "      <th>3</th>\n",
       "      <td>0.743802</td>\n",
       "      <td>0.859504</td>\n",
       "      <td>0.863636</td>\n",
       "    </tr>\n",
       "    <tr>\n",
       "      <th>4</th>\n",
       "      <td>0.760331</td>\n",
       "      <td>0.847107</td>\n",
       "      <td>0.855372</td>\n",
       "    </tr>\n",
       "    <tr>\n",
       "      <th>5</th>\n",
       "      <td>0.752066</td>\n",
       "      <td>0.847107</td>\n",
       "      <td>0.851240</td>\n",
       "    </tr>\n",
       "    <tr>\n",
       "      <th>6</th>\n",
       "      <td>0.743802</td>\n",
       "      <td>0.863636</td>\n",
       "      <td>0.867769</td>\n",
       "    </tr>\n",
       "    <tr>\n",
       "      <th>7</th>\n",
       "      <td>0.723140</td>\n",
       "      <td>0.863636</td>\n",
       "      <td>0.863636</td>\n",
       "    </tr>\n",
       "    <tr>\n",
       "      <th>8</th>\n",
       "      <td>0.719008</td>\n",
       "      <td>0.867769</td>\n",
       "      <td>0.855372</td>\n",
       "    </tr>\n",
       "    <tr>\n",
       "      <th>9</th>\n",
       "      <td>0.694215</td>\n",
       "      <td>0.859504</td>\n",
       "      <td>0.842975</td>\n",
       "    </tr>\n",
       "    <tr>\n",
       "      <th>10</th>\n",
       "      <td>0.727273</td>\n",
       "      <td>0.830579</td>\n",
       "      <td>0.834711</td>\n",
       "    </tr>\n",
       "    <tr>\n",
       "      <th>11</th>\n",
       "      <td>0.698347</td>\n",
       "      <td>0.822314</td>\n",
       "      <td>0.834711</td>\n",
       "    </tr>\n",
       "    <tr>\n",
       "      <th>12</th>\n",
       "      <td>0.690083</td>\n",
       "      <td>0.809917</td>\n",
       "      <td>0.847107</td>\n",
       "    </tr>\n",
       "    <tr>\n",
       "      <th>13</th>\n",
       "      <td>0.694215</td>\n",
       "      <td>0.797521</td>\n",
       "      <td>0.847107</td>\n",
       "    </tr>\n",
       "    <tr>\n",
       "      <th>14</th>\n",
       "      <td>0.685950</td>\n",
       "      <td>0.805785</td>\n",
       "      <td>0.859504</td>\n",
       "    </tr>\n",
       "    <tr>\n",
       "      <th>15</th>\n",
       "      <td>0.673554</td>\n",
       "      <td>0.785124</td>\n",
       "      <td>0.855372</td>\n",
       "    </tr>\n",
       "    <tr>\n",
       "      <th>16</th>\n",
       "      <td>0.685950</td>\n",
       "      <td>0.793388</td>\n",
       "      <td>0.838843</td>\n",
       "    </tr>\n",
       "    <tr>\n",
       "      <th>17</th>\n",
       "      <td>0.665289</td>\n",
       "      <td>0.793388</td>\n",
       "      <td>0.855372</td>\n",
       "    </tr>\n",
       "    <tr>\n",
       "      <th>18</th>\n",
       "      <td>0.681818</td>\n",
       "      <td>0.801653</td>\n",
       "      <td>0.838843</td>\n",
       "    </tr>\n",
       "    <tr>\n",
       "      <th>19</th>\n",
       "      <td>0.669421</td>\n",
       "      <td>0.801653</td>\n",
       "      <td>0.842975</td>\n",
       "    </tr>\n",
       "    <tr>\n",
       "      <th>20</th>\n",
       "      <td>0.685950</td>\n",
       "      <td>0.789256</td>\n",
       "      <td>0.822314</td>\n",
       "    </tr>\n",
       "    <tr>\n",
       "      <th>21</th>\n",
       "      <td>0.669421</td>\n",
       "      <td>0.780992</td>\n",
       "      <td>0.834711</td>\n",
       "    </tr>\n",
       "    <tr>\n",
       "      <th>22</th>\n",
       "      <td>0.702479</td>\n",
       "      <td>0.793388</td>\n",
       "      <td>0.842975</td>\n",
       "    </tr>\n",
       "    <tr>\n",
       "      <th>23</th>\n",
       "      <td>0.673554</td>\n",
       "      <td>0.780992</td>\n",
       "      <td>0.838843</td>\n",
       "    </tr>\n",
       "    <tr>\n",
       "      <th>24</th>\n",
       "      <td>0.698347</td>\n",
       "      <td>0.793388</td>\n",
       "      <td>0.834711</td>\n",
       "    </tr>\n",
       "  </tbody>\n",
       "</table>\n",
       "</div>"
      ],
      "text/plain": [
       "    train_scores  train_scores_normalized  train_scores_standardized\n",
       "0       1.000000                 1.000000                   1.000000\n",
       "1       0.809917                 0.880165                   0.884298\n",
       "2       0.772727                 0.884298                   0.888430\n",
       "3       0.743802                 0.859504                   0.863636\n",
       "4       0.760331                 0.847107                   0.855372\n",
       "5       0.752066                 0.847107                   0.851240\n",
       "6       0.743802                 0.863636                   0.867769\n",
       "7       0.723140                 0.863636                   0.863636\n",
       "8       0.719008                 0.867769                   0.855372\n",
       "9       0.694215                 0.859504                   0.842975\n",
       "10      0.727273                 0.830579                   0.834711\n",
       "11      0.698347                 0.822314                   0.834711\n",
       "12      0.690083                 0.809917                   0.847107\n",
       "13      0.694215                 0.797521                   0.847107\n",
       "14      0.685950                 0.805785                   0.859504\n",
       "15      0.673554                 0.785124                   0.855372\n",
       "16      0.685950                 0.793388                   0.838843\n",
       "17      0.665289                 0.793388                   0.855372\n",
       "18      0.681818                 0.801653                   0.838843\n",
       "19      0.669421                 0.801653                   0.842975\n",
       "20      0.685950                 0.789256                   0.822314\n",
       "21      0.669421                 0.780992                   0.834711\n",
       "22      0.702479                 0.793388                   0.842975\n",
       "23      0.673554                 0.780992                   0.838843\n",
       "24      0.698347                 0.793388                   0.834711"
      ]
     },
     "execution_count": 84,
     "metadata": {},
     "output_type": "execute_result"
    }
   ],
   "source": [
    "train_sets_scores =pd.DataFrame(list(zip(train_scores, train_scores_normalized, train_scores_standardized)),\n",
    "                                columns =['train_scores', 'train_scores_normalized', 'train_scores_standardized']) \n",
    "train_sets_scores"
   ]
  },
  {
   "cell_type": "code",
   "execution_count": 85,
   "metadata": {},
   "outputs": [],
   "source": [
    "# Separate KNN results with and without hyperparameter tuning to compare\n",
    "\n",
    "max_score =  [model_scores['KNN'], max(test_scores)]\n",
    "max_score_normalized = [model_scores_normalized['KNN'], max(test_scores_normalized)]\n",
    "max_score_standardized = [model_scores_standardized['KNN'], max(test_scores_standardized)]"
   ]
  },
  {
   "cell_type": "code",
   "execution_count": 86,
   "metadata": {},
   "outputs": [],
   "source": [
    "\n",
    "knn['knn_tun_more_neig'] = max(test_scores)\n",
    "knn['knn_tun_more_neig_nor'] = max(test_scores_normalized)\n",
    "knn['knn_tun_more_neig_std'] = max(test_scores_standardized)"
   ]
  },
  {
   "cell_type": "code",
   "execution_count": 87,
   "metadata": {},
   "outputs": [
    {
     "data": {
      "text/plain": [
       "[{'lr_no_tuning': 0.8852459016393442,\n",
       "  'lr_no_tuning_nor': 0.8524590163934426,\n",
       "  'lr_no_tuning_std': 0.8524590163934426},\n",
       " {'knn_no_tuning': 0.6885245901639344,\n",
       "  'knn_no_tuning_nor': 0.8360655737704918,\n",
       "  'knn_no_tuning_std': 0.9016393442622951,\n",
       "  'knn_tun_more_neig': 0.7540983606557377,\n",
       "  'knn_tun_more_neig_nor': 0.8524590163934426,\n",
       "  'knn_tun_more_neig_std': 0.9180327868852459},\n",
       " {'rf_no_tuning': 0.8360655737704918,\n",
       "  'rf_no_tuning_nor': 0.8360655737704918,\n",
       "  'rf_no_tuning_std': 0.8360655737704918},\n",
       " {'ls_no_tuning': 0.8688524590163934,\n",
       "  'ls_no_tuning_nor': 0.8524590163934426,\n",
       "  'ls_no_tuning_std': 0.8688524590163934}]"
      ]
     },
     "execution_count": 87,
     "metadata": {},
     "output_type": "execute_result"
    }
   ],
   "source": [
    "dicts"
   ]
  },
  {
   "cell_type": "code",
   "execution_count": 88,
   "metadata": {},
   "outputs": [
    {
     "data": {
      "text/html": [
       "<div>\n",
       "<style scoped>\n",
       "    .dataframe tbody tr th:only-of-type {\n",
       "        vertical-align: middle;\n",
       "    }\n",
       "\n",
       "    .dataframe tbody tr th {\n",
       "        vertical-align: top;\n",
       "    }\n",
       "\n",
       "    .dataframe thead th {\n",
       "        text-align: right;\n",
       "    }\n",
       "</style>\n",
       "<table border=\"1\" class=\"dataframe\">\n",
       "  <thead>\n",
       "    <tr style=\"text-align: right;\">\n",
       "      <th></th>\n",
       "      <th>test_scores</th>\n",
       "      <th>test_scores_normalized</th>\n",
       "      <th>test_scores_standardized</th>\n",
       "    </tr>\n",
       "  </thead>\n",
       "  <tbody>\n",
       "    <tr>\n",
       "      <th>0</th>\n",
       "      <td>0.622951</td>\n",
       "      <td>0.803279</td>\n",
       "      <td>0.852459</td>\n",
       "    </tr>\n",
       "    <tr>\n",
       "      <th>1</th>\n",
       "      <td>0.639344</td>\n",
       "      <td>0.754098</td>\n",
       "      <td>0.819672</td>\n",
       "    </tr>\n",
       "    <tr>\n",
       "      <th>2</th>\n",
       "      <td>0.655738</td>\n",
       "      <td>0.852459</td>\n",
       "      <td>0.852459</td>\n",
       "    </tr>\n",
       "    <tr>\n",
       "      <th>3</th>\n",
       "      <td>0.672131</td>\n",
       "      <td>0.786885</td>\n",
       "      <td>0.852459</td>\n",
       "    </tr>\n",
       "    <tr>\n",
       "      <th>4</th>\n",
       "      <td>0.688525</td>\n",
       "      <td>0.836066</td>\n",
       "      <td>0.901639</td>\n",
       "    </tr>\n",
       "    <tr>\n",
       "      <th>5</th>\n",
       "      <td>0.721311</td>\n",
       "      <td>0.819672</td>\n",
       "      <td>0.901639</td>\n",
       "    </tr>\n",
       "    <tr>\n",
       "      <th>6</th>\n",
       "      <td>0.704918</td>\n",
       "      <td>0.819672</td>\n",
       "      <td>0.918033</td>\n",
       "    </tr>\n",
       "    <tr>\n",
       "      <th>7</th>\n",
       "      <td>0.688525</td>\n",
       "      <td>0.803279</td>\n",
       "      <td>0.868852</td>\n",
       "    </tr>\n",
       "    <tr>\n",
       "      <th>8</th>\n",
       "      <td>0.688525</td>\n",
       "      <td>0.819672</td>\n",
       "      <td>0.901639</td>\n",
       "    </tr>\n",
       "    <tr>\n",
       "      <th>9</th>\n",
       "      <td>0.704918</td>\n",
       "      <td>0.819672</td>\n",
       "      <td>0.885246</td>\n",
       "    </tr>\n",
       "    <tr>\n",
       "      <th>10</th>\n",
       "      <td>0.754098</td>\n",
       "      <td>0.836066</td>\n",
       "      <td>0.885246</td>\n",
       "    </tr>\n",
       "    <tr>\n",
       "      <th>11</th>\n",
       "      <td>0.737705</td>\n",
       "      <td>0.836066</td>\n",
       "      <td>0.868852</td>\n",
       "    </tr>\n",
       "    <tr>\n",
       "      <th>12</th>\n",
       "      <td>0.737705</td>\n",
       "      <td>0.819672</td>\n",
       "      <td>0.885246</td>\n",
       "    </tr>\n",
       "    <tr>\n",
       "      <th>13</th>\n",
       "      <td>0.737705</td>\n",
       "      <td>0.836066</td>\n",
       "      <td>0.868852</td>\n",
       "    </tr>\n",
       "    <tr>\n",
       "      <th>14</th>\n",
       "      <td>0.688525</td>\n",
       "      <td>0.836066</td>\n",
       "      <td>0.868852</td>\n",
       "    </tr>\n",
       "    <tr>\n",
       "      <th>15</th>\n",
       "      <td>0.721311</td>\n",
       "      <td>0.803279</td>\n",
       "      <td>0.885246</td>\n",
       "    </tr>\n",
       "    <tr>\n",
       "      <th>16</th>\n",
       "      <td>0.688525</td>\n",
       "      <td>0.836066</td>\n",
       "      <td>0.885246</td>\n",
       "    </tr>\n",
       "    <tr>\n",
       "      <th>17</th>\n",
       "      <td>0.688525</td>\n",
       "      <td>0.836066</td>\n",
       "      <td>0.901639</td>\n",
       "    </tr>\n",
       "    <tr>\n",
       "      <th>18</th>\n",
       "      <td>0.704918</td>\n",
       "      <td>0.819672</td>\n",
       "      <td>0.885246</td>\n",
       "    </tr>\n",
       "    <tr>\n",
       "      <th>19</th>\n",
       "      <td>0.655738</td>\n",
       "      <td>0.852459</td>\n",
       "      <td>0.901639</td>\n",
       "    </tr>\n",
       "    <tr>\n",
       "      <th>20</th>\n",
       "      <td>0.704918</td>\n",
       "      <td>0.819672</td>\n",
       "      <td>0.885246</td>\n",
       "    </tr>\n",
       "    <tr>\n",
       "      <th>21</th>\n",
       "      <td>0.721311</td>\n",
       "      <td>0.852459</td>\n",
       "      <td>0.885246</td>\n",
       "    </tr>\n",
       "    <tr>\n",
       "      <th>22</th>\n",
       "      <td>0.721311</td>\n",
       "      <td>0.836066</td>\n",
       "      <td>0.885246</td>\n",
       "    </tr>\n",
       "    <tr>\n",
       "      <th>23</th>\n",
       "      <td>0.721311</td>\n",
       "      <td>0.836066</td>\n",
       "      <td>0.885246</td>\n",
       "    </tr>\n",
       "    <tr>\n",
       "      <th>24</th>\n",
       "      <td>0.704918</td>\n",
       "      <td>0.803279</td>\n",
       "      <td>0.885246</td>\n",
       "    </tr>\n",
       "  </tbody>\n",
       "</table>\n",
       "</div>"
      ],
      "text/plain": [
       "    test_scores  test_scores_normalized  test_scores_standardized\n",
       "0      0.622951                0.803279                  0.852459\n",
       "1      0.639344                0.754098                  0.819672\n",
       "2      0.655738                0.852459                  0.852459\n",
       "3      0.672131                0.786885                  0.852459\n",
       "4      0.688525                0.836066                  0.901639\n",
       "5      0.721311                0.819672                  0.901639\n",
       "6      0.704918                0.819672                  0.918033\n",
       "7      0.688525                0.803279                  0.868852\n",
       "8      0.688525                0.819672                  0.901639\n",
       "9      0.704918                0.819672                  0.885246\n",
       "10     0.754098                0.836066                  0.885246\n",
       "11     0.737705                0.836066                  0.868852\n",
       "12     0.737705                0.819672                  0.885246\n",
       "13     0.737705                0.836066                  0.868852\n",
       "14     0.688525                0.836066                  0.868852\n",
       "15     0.721311                0.803279                  0.885246\n",
       "16     0.688525                0.836066                  0.885246\n",
       "17     0.688525                0.836066                  0.901639\n",
       "18     0.704918                0.819672                  0.885246\n",
       "19     0.655738                0.852459                  0.901639\n",
       "20     0.704918                0.819672                  0.885246\n",
       "21     0.721311                0.852459                  0.885246\n",
       "22     0.721311                0.836066                  0.885246\n",
       "23     0.721311                0.836066                  0.885246\n",
       "24     0.704918                0.803279                  0.885246"
      ]
     },
     "execution_count": 88,
     "metadata": {},
     "output_type": "execute_result"
    }
   ],
   "source": [
    "tuned_scores = [max_score, max_score_normalized, max_score_standardized]\n",
    "\n",
    "test_sets_scores =pd.DataFrame(list(zip(test_scores, test_scores_normalized, test_scores_standardized)),\n",
    "                                columns =['test_scores', 'test_scores_normalized', 'test_scores_standardized']) \n",
    "test_sets_scores"
   ]
  },
  {
   "cell_type": "code",
   "execution_count": 89,
   "metadata": {},
   "outputs": [
    {
     "data": {
      "text/plain": [
       "Text(0.5, 1.0, 'Train set scores using between 1 and 25 neighbors')"
      ]
     },
     "execution_count": 89,
     "metadata": {},
     "output_type": "execute_result"
    },
    {
     "data": {
      "image/png": "[encoded data removed]",
      "text/plain": [
       "<Figure size 432x288 with 1 Axes>"
      ]
     },
     "metadata": {
      "needs_background": "light"
     },
     "output_type": "display_data"
    }
   ],
   "source": [
    "plt.plot(neighbors, train_sets_scores);\n",
    "plt.legend(['Train Set - Raw', 'Train Set - Normalized', 'Train Set - Standardized', 'Test Set - Raw', 'Test Set - Normalized', 'Test Set - Standardized']);\n",
    "plt.title('Train set scores using between 1 and 25 neighbors')"
   ]
  },
  {
   "cell_type": "code",
   "execution_count": 90,
   "metadata": {},
   "outputs": [
    {
     "name": "stdout",
     "output_type": "stream",
     "text": [
      "Maximum KNN score for the test set on raw data: 75.41%\n",
      "Maximum KNN score for the test set on normalized data: 85.25%\n",
      "Maximum KNN score for the test set on standardized data: 91.80%\n"
     ]
    },
    {
     "data": {
      "image/png": "[encoded data removed]",
      "text/plain": [
       "<Figure size 432x288 with 1 Axes>"
      ]
     },
     "metadata": {
      "needs_background": "light"
     },
     "output_type": "display_data"
    }
   ],
   "source": [
    "plt.plot(neighbors, test_sets_scores);\n",
    "plt.legend(['Test Set - Raw', 'Test Set - Normalized', 'Test Set - Standardized']);\n",
    "plt.title('Test set scores using between 1 and 25 neighbors')\n",
    "\n",
    "print(f'Maximum KNN score for the test set on raw data: {max(test_scores)*100:.2f}%')\n",
    "print(f'Maximum KNN score for the test set on normalized data: {max(test_scores_normalized)*100:.2f}%')\n",
    "print(f'Maximum KNN score for the test set on standardized data: {max(test_scores_standardized)*100:.2f}%')"
   ]
  },
  {
   "cell_type": "code",
   "execution_count": 91,
   "metadata": {},
   "outputs": [
    {
     "data": {
      "image/png": "[encoded data removed]",
      "text/plain": [
       "<Figure size 432x288 with 1 Axes>"
      ]
     },
     "metadata": {
      "needs_background": "light"
     },
     "output_type": "display_data"
    }
   ],
   "source": [
    "models_comp = [max_score, max_score_normalized, max_score_standardized]\n",
    "models_comparison = pd.DataFrame(models_comp, index = ['Raw data', 'Normalized data', 'Standardized data'])\n",
    "models_comparison.rename(columns = {0:'Without tuning', 1:'With tuning'}, inplace = True)\n",
    "\n",
    "\n",
    "models_comparison.T.plot.bar();\n",
    "plt.title('Comparing KNN accuracy before and after tuning (increased number of neighbors)');\n",
    "plt.legend(['Using raw data', 'Using normalized data', 'Using standardized data'], loc='lower right');\n",
    "ticks = [0,1]\n",
    "labels = ['Without tuning', 'With tuning']\n",
    "plt.xticks(ticks, labels, rotation=0);\n",
    "plt.ylabel('Accuracy');"
   ]
  },
  {
   "cell_type": "code",
   "execution_count": 92,
   "metadata": {},
   "outputs": [
    {
     "data": {
      "text/html": [
       "<div>\n",
       "<style scoped>\n",
       "    .dataframe tbody tr th:only-of-type {\n",
       "        vertical-align: middle;\n",
       "    }\n",
       "\n",
       "    .dataframe tbody tr th {\n",
       "        vertical-align: top;\n",
       "    }\n",
       "\n",
       "    .dataframe thead th {\n",
       "        text-align: right;\n",
       "    }\n",
       "</style>\n",
       "<table border=\"1\" class=\"dataframe\">\n",
       "  <thead>\n",
       "    <tr style=\"text-align: right;\">\n",
       "      <th></th>\n",
       "      <th>Without tuning</th>\n",
       "      <th>With tuning</th>\n",
       "    </tr>\n",
       "  </thead>\n",
       "  <tbody>\n",
       "    <tr>\n",
       "      <th>Raw data</th>\n",
       "      <td>0.688525</td>\n",
       "      <td>0.754098</td>\n",
       "    </tr>\n",
       "    <tr>\n",
       "      <th>Normalized data</th>\n",
       "      <td>0.836066</td>\n",
       "      <td>0.852459</td>\n",
       "    </tr>\n",
       "    <tr>\n",
       "      <th>Standardized data</th>\n",
       "      <td>0.901639</td>\n",
       "      <td>0.918033</td>\n",
       "    </tr>\n",
       "  </tbody>\n",
       "</table>\n",
       "</div>"
      ],
      "text/plain": [
       "                   Without tuning  With tuning\n",
       "Raw data                 0.688525     0.754098\n",
       "Normalized data          0.836066     0.852459\n",
       "Standardized data        0.901639     0.918033"
      ]
     },
     "execution_count": 92,
     "metadata": {},
     "output_type": "execute_result"
    }
   ],
   "source": [
    "models_comparison"
   ]
  },
  {
   "cell_type": "markdown",
   "metadata": {},
   "source": [
    "**-> Randomized Search CV**"
   ]
  },
  {
   "cell_type": "markdown",
   "metadata": {},
   "source": [
    "##### Logistic Regression\n",
    "\n",
    "To try and improve the Logistic Regression model performance using Randomized Search CV, I will pass the following parameters to a dictionary, over which the randomized search will iterate over and randomly select combinations (number of combinations given by `n_iter`) to train and test.\n",
    "\n",
    "* `C`: parameter that determines the strenght of the regularization ([regularization as a penalty against complexity](https://www.kdnuggets.com/2016/06/regularization-logistic-regression.html), i.e. it helps the model be less affected by abnormalities and prevents overfitting). C is the inverse of the regulaziation strenght, so higher values of C mean less regularization. \n",
    "* `solver`: algorithm to use in the optimization problem\n",
    "* `penalty`\n",
    "\n",
    "\n",
    "https://www.knime.com/blog/regularization-for-logistic-regression-l1-l2-gauss-or-laplace"
   ]
  },
  {
   "cell_type": "code",
   "execution_count": 93,
   "metadata": {},
   "outputs": [],
   "source": [
    "# Create a Hyperparameter dictionary for Logistic Regression\n",
    "log_reg_dict = {'C': np.logspace(-4, 4, 20),\n",
    "                'solver': ['liblinear'], \n",
    "                'penalty' : ['l1', 'l2']}\n",
    "\n",
    "\n",
    "# Set a random seed\n",
    "np.random.seed(42)\n",
    "\n",
    "# Set up the random hyperparameter search for Logistic Regression\n",
    "rs_log_reg = RandomizedSearchCV(LogisticRegression(dual = False),\n",
    "                                param_distributions=log_reg_dict,\n",
    "                                cv=5,\n",
    "                                n_iter=20,\n",
    "                                verbose=True)\n",
    "\n",
    "# ^^^^ what each of these arguments in rs_log_reg mean?"
   ]
  },
  {
   "cell_type": "code",
   "execution_count": 94,
   "metadata": {},
   "outputs": [
    {
     "name": "stdout",
     "output_type": "stream",
     "text": [
      "Fitting 5 folds for each of 20 candidates, totalling 100 fits\n"
     ]
    },
    {
     "name": "stderr",
     "output_type": "stream",
     "text": [
      "[Parallel(n_jobs=1)]: Using backend SequentialBackend with 1 concurrent workers.\n"
     ]
    },
    {
     "name": "stdout",
     "output_type": "stream",
     "text": [
      "{'solver': 'liblinear', 'penalty': 'l2', 'C': 0.23357214690901212}\n",
      "score on RAW DATA = 0.8852459016393442\n"
     ]
    },
    {
     "name": "stderr",
     "output_type": "stream",
     "text": [
      "[Parallel(n_jobs=1)]: Done 100 out of 100 | elapsed:    0.8s finished\n"
     ]
    }
   ],
   "source": [
    "# Fit randomized hyperparameter search model for Logistic Regression using RAW DATA\n",
    "raw_rs_log_reg = rs_log_reg.fit(X_train, y_train)\n",
    "\n",
    "# Find best hyperparameters for Logistic Regression using RAW DATA\n",
    "print(raw_rs_log_reg.best_params_)\n",
    "\n",
    "# Score Logistic Regression using RAW DATA\n",
    "rs_raw_score_log_reg = raw_rs_log_reg.score(X_test, y_test)\n",
    "print(f'score on RAW DATA = {rs_raw_score_log_reg}')"
   ]
  },
  {
   "cell_type": "code",
   "execution_count": 95,
   "metadata": {},
   "outputs": [
    {
     "name": "stdout",
     "output_type": "stream",
     "text": [
      "Fitting 5 folds for each of 20 candidates, totalling 100 fits\n"
     ]
    },
    {
     "name": "stderr",
     "output_type": "stream",
     "text": [
      "[Parallel(n_jobs=1)]: Using backend SequentialBackend with 1 concurrent workers.\n"
     ]
    },
    {
     "name": "stdout",
     "output_type": "stream",
     "text": [
      "{'solver': 'liblinear', 'penalty': 'l2', 'C': 29.763514416313132}\n",
      "score on NORMALIZED DATA = 0.8524590163934426\n"
     ]
    },
    {
     "name": "stderr",
     "output_type": "stream",
     "text": [
      "[Parallel(n_jobs=1)]: Done 100 out of 100 | elapsed:    0.5s finished\n"
     ]
    }
   ],
   "source": [
    "# Fit randomized hyperparameter search model for Logistic Regression using NORMALIZED DATA\n",
    "normalized_rs_log_reg = rs_log_reg.fit(X_train_normalized, y_train)\n",
    "\n",
    "# Find best hyperparameters for Logistic Regression using NORMALIZED DATA\n",
    "print(normalized_rs_log_reg.best_params_)\n",
    "\n",
    "# Score Logistic Regression using NORMALIZED DATA\n",
    "rs_normalized_score_log_reg=normalized_rs_log_reg.score(X_test_normalized, y_test)\n",
    "print(f'score on NORMALIZED DATA = {rs_normalized_score_log_reg}')"
   ]
  },
  {
   "cell_type": "code",
   "execution_count": 96,
   "metadata": {},
   "outputs": [
    {
     "name": "stderr",
     "output_type": "stream",
     "text": [
      "[Parallel(n_jobs=1)]: Using backend SequentialBackend with 1 concurrent workers.\n"
     ]
    },
    {
     "name": "stdout",
     "output_type": "stream",
     "text": [
      "Fitting 5 folds for each of 20 candidates, totalling 100 fits\n",
      "{'solver': 'liblinear', 'penalty': 'l2', 'C': 1.623776739188721}\n",
      "score on STANDARDIZED DATA = 0.8524590163934426\n"
     ]
    },
    {
     "name": "stderr",
     "output_type": "stream",
     "text": [
      "[Parallel(n_jobs=1)]: Done 100 out of 100 | elapsed:    0.4s finished\n"
     ]
    }
   ],
   "source": [
    "# Fit randomized hyperparameter search model for Logistic Regression using STANDARDIZED DATA\n",
    "standardized_rs_log_reg = rs_log_reg.fit(X_train_standardized, y_train)\n",
    "\n",
    "# Find best hyperparameters for Logistic Regression using STANDARDIZED DATA\n",
    "print(standardized_rs_log_reg.best_params_)\n",
    "\n",
    "# Score Logistic Regression using STANDARDIZED DATA\n",
    "rs_standardized_score_log_reg = standardized_rs_log_reg.score(X_test_standardized, y_test)\n",
    "print(f'score on STANDARDIZED DATA = {rs_standardized_score_log_reg}')"
   ]
  },
  {
   "cell_type": "markdown",
   "metadata": {},
   "source": [
    "* I also tried using `lbfgs` solver but it did not converge and had the same results as `liblinear` even when increasing `max_iter` up to 1E6.\n",
    "* Increasing `cv` value caused loss in accuracy using raw and normalized data, but for a `cv`=20 the accuracy using standardized data increased to 0.8852459016393442. \n",
    "* Because of the extra computational power and time needed to perform using higher `cv` values, I mantained it at the default value of 5, since it resulted in the same accuracy but for a different data group.\n",
    "\n",
    "* when instantiating the model `LogisticRegression()`, the parameter `dual`is set to false, as according to the model's documentation this is to be preferred when the number of samples if inferior to the number of features."
   ]
  },
  {
   "cell_type": "code",
   "execution_count": 97,
   "metadata": {},
   "outputs": [],
   "source": [
    "logistic_regression['lr_rs_tun_raw'] = rs_raw_score_log_reg\n",
    "logistic_regression['lr_rs_tun_nor'] = rs_normalized_score_log_reg\n",
    "logistic_regression['lr_rs_tun_std'] = rs_standardized_score_log_reg"
   ]
  },
  {
   "cell_type": "code",
   "execution_count": 98,
   "metadata": {},
   "outputs": [
    {
     "data": {
      "text/plain": [
       "[{'lr_no_tuning': 0.8852459016393442,\n",
       "  'lr_no_tuning_nor': 0.8524590163934426,\n",
       "  'lr_no_tuning_std': 0.8524590163934426,\n",
       "  'lr_rs_tun_raw': 0.8852459016393442,\n",
       "  'lr_rs_tun_nor': 0.8524590163934426,\n",
       "  'lr_rs_tun_std': 0.8524590163934426},\n",
       " {'knn_no_tuning': 0.6885245901639344,\n",
       "  'knn_no_tuning_nor': 0.8360655737704918,\n",
       "  'knn_no_tuning_std': 0.9016393442622951,\n",
       "  'knn_tun_more_neig': 0.7540983606557377,\n",
       "  'knn_tun_more_neig_nor': 0.8524590163934426,\n",
       "  'knn_tun_more_neig_std': 0.9180327868852459},\n",
       " {'rf_no_tuning': 0.8360655737704918,\n",
       "  'rf_no_tuning_nor': 0.8360655737704918,\n",
       "  'rf_no_tuning_std': 0.8360655737704918},\n",
       " {'ls_no_tuning': 0.8688524590163934,\n",
       "  'ls_no_tuning_nor': 0.8524590163934426,\n",
       "  'ls_no_tuning_std': 0.8688524590163934}]"
      ]
     },
     "execution_count": 98,
     "metadata": {},
     "output_type": "execute_result"
    }
   ],
   "source": [
    "dicts"
   ]
  },
  {
   "cell_type": "markdown",
   "metadata": {},
   "source": [
    "##### K-Nearest Neighbors Classifier\n",
    "\n",
    "* `n_neighbor`: is the number of neighbors used by the model\n",
    "* `weights`: is the function used to weight each point \n",
    "* `algorithm`: is the algorithm used to compute the nearest neighbors. `auto` tries to automatically decide the most appropriate\n",
    "* `metric`: distance metric used for the tree"
   ]
  },
  {
   "cell_type": "code",
   "execution_count": 99,
   "metadata": {},
   "outputs": [],
   "source": [
    "# Create a Hyperparameter dictionary for KNN\n",
    "knn_dict = {'n_neighbors': range(1, 26),\n",
    "            'weights': ['uniform', 'distance'],\n",
    "            'algorithm':['auto'],\n",
    "            'metric':['euclidean', 'manhattan']}\n",
    "\n",
    "                 # 'metric':['euclidean', 'manhattan']   \n",
    "\n",
    "    \n",
    "# Set a random seed\n",
    "np.random.seed(42)\n",
    "\n",
    "# Set up random hyperparameter search for KNN\n",
    "rs_knn = RandomizedSearchCV(KNeighborsClassifier(),\n",
    "                            param_distributions=knn_dict,\n",
    "                            cv=5,\n",
    "                            n_iter=20, \n",
    "                            verbose=True)"
   ]
  },
  {
   "cell_type": "code",
   "execution_count": 100,
   "metadata": {
    "scrolled": true
   },
   "outputs": [
    {
     "name": "stdout",
     "output_type": "stream",
     "text": [
      "Fitting 5 folds for each of 20 candidates, totalling 100 fits\n"
     ]
    },
    {
     "name": "stderr",
     "output_type": "stream",
     "text": [
      "[Parallel(n_jobs=1)]: Using backend SequentialBackend with 1 concurrent workers.\n"
     ]
    },
    {
     "name": "stdout",
     "output_type": "stream",
     "text": [
      "{'weights': 'uniform', 'n_neighbors': 3, 'metric': 'euclidean', 'algorithm': 'auto'}\n",
      "score on RAW DATA = 0.6557377049180327\n"
     ]
    },
    {
     "name": "stderr",
     "output_type": "stream",
     "text": [
      "[Parallel(n_jobs=1)]: Done 100 out of 100 | elapsed:    0.7s finished\n"
     ]
    }
   ],
   "source": [
    "# Fit randomized hyperparameter search model for KNN using RAW DATA\n",
    "raw_rs_knn = rs_knn.fit(X_train, y_train)\n",
    "\n",
    "# Find best hyperparameters for KNN using RAW DATA\n",
    "print(raw_rs_knn.best_params_)\n",
    "\n",
    "# Score KNN using RAW DATA\n",
    "rs_raw_score_knn = raw_rs_knn.score(X_test, y_test)\n",
    "print(f'score on RAW DATA = {rs_raw_score_knn}')"
   ]
  },
  {
   "cell_type": "code",
   "execution_count": 101,
   "metadata": {},
   "outputs": [
    {
     "name": "stderr",
     "output_type": "stream",
     "text": [
      "[Parallel(n_jobs=1)]: Using backend SequentialBackend with 1 concurrent workers.\n"
     ]
    },
    {
     "name": "stdout",
     "output_type": "stream",
     "text": [
      "Fitting 5 folds for each of 20 candidates, totalling 100 fits\n",
      "{'weights': 'distance', 'n_neighbors': 5, 'metric': 'manhattan', 'algorithm': 'auto'}\n",
      "score on NORMALIZED DATA = 0.8524590163934426\n"
     ]
    },
    {
     "name": "stderr",
     "output_type": "stream",
     "text": [
      "[Parallel(n_jobs=1)]: Done 100 out of 100 | elapsed:    0.7s finished\n"
     ]
    }
   ],
   "source": [
    "# Fit randomized hyperparameter search model for KNN using NORMALIZED DATA\n",
    "normalized_rs_knn = rs_knn.fit(X_train_normalized, y_train)\n",
    "\n",
    "# Find best hyperparameters for KNN using NORMALIZED DATA\n",
    "print(normalized_rs_knn.best_params_)\n",
    "\n",
    "# Score KNN using NORMALIZED DATA\n",
    "rs_normalized_score_knn = normalized_rs_knn.score(X_test_normalized, y_test)\n",
    "print(f'score on NORMALIZED DATA = {rs_normalized_score_knn}')"
   ]
  },
  {
   "cell_type": "code",
   "execution_count": 102,
   "metadata": {},
   "outputs": [
    {
     "name": "stderr",
     "output_type": "stream",
     "text": [
      "[Parallel(n_jobs=1)]: Using backend SequentialBackend with 1 concurrent workers.\n"
     ]
    },
    {
     "name": "stdout",
     "output_type": "stream",
     "text": [
      "Fitting 5 folds for each of 20 candidates, totalling 100 fits\n",
      "{'weights': 'distance', 'n_neighbors': 18, 'metric': 'manhattan', 'algorithm': 'auto'}\n",
      "score on STANDARDIZED DATA = 0.8852459016393442\n"
     ]
    },
    {
     "name": "stderr",
     "output_type": "stream",
     "text": [
      "[Parallel(n_jobs=1)]: Done 100 out of 100 | elapsed:    0.6s finished\n"
     ]
    }
   ],
   "source": [
    "# Fit randomized hyperparameter search model for KNN using STANDARDIZED DATA\n",
    "standardized_rs_knn = rs_knn.fit(X_train_standardized, y_train)\n",
    "\n",
    "# Find best hyperparameters for KNN using STANDARDIZED DATA\n",
    "print(standardized_rs_knn.best_params_)\n",
    "\n",
    "# Score KNN using STANDARDIZED DATA\n",
    "rs_standardized_score_knn = standardized_rs_knn.score(X_test_standardized, y_test)\n",
    "print(f'score on STANDARDIZED DATA = {rs_standardized_score_knn}')"
   ]
  },
  {
   "cell_type": "code",
   "execution_count": 103,
   "metadata": {},
   "outputs": [
    {
     "data": {
      "text/plain": [
       "[{'lr_no_tuning': 0.8852459016393442,\n",
       "  'lr_no_tuning_nor': 0.8524590163934426,\n",
       "  'lr_no_tuning_std': 0.8524590163934426,\n",
       "  'lr_rs_tun_raw': 0.8852459016393442,\n",
       "  'lr_rs_tun_nor': 0.8524590163934426,\n",
       "  'lr_rs_tun_std': 0.8524590163934426},\n",
       " {'knn_no_tuning': 0.6885245901639344,\n",
       "  'knn_no_tuning_nor': 0.8360655737704918,\n",
       "  'knn_no_tuning_std': 0.9016393442622951,\n",
       "  'knn_tun_more_neig': 0.7540983606557377,\n",
       "  'knn_tun_more_neig_nor': 0.8524590163934426,\n",
       "  'knn_tun_more_neig_std': 0.9180327868852459,\n",
       "  'knn_rs_tun_raw': 0.6557377049180327,\n",
       "  'knn_rs_tun_nor': 0.8524590163934426,\n",
       "  'knn_rs_tun_std': 0.8852459016393442},\n",
       " {'rf_no_tuning': 0.8360655737704918,\n",
       "  'rf_no_tuning_nor': 0.8360655737704918,\n",
       "  'rf_no_tuning_std': 0.8360655737704918},\n",
       " {'ls_no_tuning': 0.8688524590163934,\n",
       "  'ls_no_tuning_nor': 0.8524590163934426,\n",
       "  'ls_no_tuning_std': 0.8688524590163934}]"
      ]
     },
     "execution_count": 103,
     "metadata": {},
     "output_type": "execute_result"
    }
   ],
   "source": [
    "knn['knn_rs_tun_raw'] = rs_raw_score_knn\n",
    "knn['knn_rs_tun_nor'] = rs_normalized_score_knn\n",
    "knn['knn_rs_tun_std'] = rs_standardized_score_knn\n",
    "\n",
    "dicts"
   ]
  },
  {
   "cell_type": "markdown",
   "metadata": {},
   "source": [
    "* Despite the observed increase in accuracy, the best result remains the one obtained from scoring the standardized data without hyperparameter tuning."
   ]
  },
  {
   "cell_type": "markdown",
   "metadata": {},
   "source": [
    "##### Random Forest\n",
    "\n",
    "To try and improve the Random Forest model performance using Randomized Search CV, I will pass the following parameters to a dictionary, over which the randomized search will iterate over and randomly select combinations (number of combinations given by `n_iter`) to train and test.\n",
    "\n",
    "* `n_estimators`: is the number of decision trees used in the model's forest. The default value is 10 trees in the forest.\n",
    "* `max_depth`: is the maximum depth of the decision trees. The default value is none, i.e. no maximum depth. This means that by default every tree will be expanded until all the data on every leaf comes from the same class (the leaf is said pure).\n",
    "* `min_samples_split`: is how many samples there must be in an internal node before it can be split into more specific classifications\n",
    "* `min_samples_leaf`: is how many samples a leaf must classify\n",
    "\n"
   ]
  },
  {
   "cell_type": "code",
   "execution_count": 104,
   "metadata": {
    "scrolled": true
   },
   "outputs": [],
   "source": [
    "# Create a Hyperparameter dictionary for Random Forest\n",
    "rf_dict = {'n_estimators':np.arange(10, 1000, 50),\n",
    "          'max_depth':[None, 3, 5, 10],\n",
    "          'min_samples_split':np.arange(2, 20, 2),\n",
    "          'min_samples_leaf':np.arange(1, 20, 2)}\n",
    "\n",
    "# Set a random seed\n",
    "np.random.seed(42)\n",
    "\n",
    "# Set up the random hyperparameter search for Random Forest Classifier\n",
    "rs_rf= RandomizedSearchCV(RandomForestClassifier(),\n",
    "                         param_distributions=rf_dict,\n",
    "                         cv = 5,\n",
    "                         n_iter=20,\n",
    "                         verbose=True)"
   ]
  },
  {
   "cell_type": "code",
   "execution_count": 105,
   "metadata": {},
   "outputs": [
    {
     "name": "stdout",
     "output_type": "stream",
     "text": [
      "Fitting 5 folds for each of 20 candidates, totalling 100 fits\n"
     ]
    },
    {
     "name": "stderr",
     "output_type": "stream",
     "text": [
      "[Parallel(n_jobs=1)]: Using backend SequentialBackend with 1 concurrent workers.\n",
      "[Parallel(n_jobs=1)]: Done 100 out of 100 | elapsed:  1.2min finished\n"
     ]
    },
    {
     "name": "stdout",
     "output_type": "stream",
     "text": [
      "{'n_estimators': 210, 'min_samples_split': 4, 'min_samples_leaf': 19, 'max_depth': 3}\n",
      "score on RAW DATA = 0.8688524590163934\n"
     ]
    }
   ],
   "source": [
    "# Fit randomized hyperparameter search model for Random Forest using RAW DATA\n",
    "raw_rs_rf = rs_rf.fit(X_train, y_train)\n",
    "\n",
    "# Find best hyperparameters for Random Forest using RAW DATA\n",
    "print(raw_rs_rf.best_params_)\n",
    "\n",
    "# Score Random Forest using RAW DATA\n",
    "rs_raw_score_rf = raw_rs_rf.score(X_test, y_test)\n",
    "print(f'score on RAW DATA = {rs_raw_score_rf}')"
   ]
  },
  {
   "cell_type": "code",
   "execution_count": 106,
   "metadata": {},
   "outputs": [
    {
     "name": "stdout",
     "output_type": "stream",
     "text": [
      "Fitting 5 folds for each of 20 candidates, totalling 100 fits\n"
     ]
    },
    {
     "name": "stderr",
     "output_type": "stream",
     "text": [
      "[Parallel(n_jobs=1)]: Using backend SequentialBackend with 1 concurrent workers.\n",
      "[Parallel(n_jobs=1)]: Done 100 out of 100 | elapsed:  1.1min finished\n"
     ]
    },
    {
     "name": "stdout",
     "output_type": "stream",
     "text": [
      "{'n_estimators': 510, 'min_samples_split': 6, 'min_samples_leaf': 9, 'max_depth': 3}\n",
      "score on NORMALIZED DATA = 0.8688524590163934\n"
     ]
    }
   ],
   "source": [
    "# Fit randomized hyperparameter search model for Random Forest using NORMALIZED DATA\n",
    "normalized_rs_rf = rs_rf.fit(X_train_normalized, y_train)\n",
    "\n",
    "# Find best hyperparameters for Random Forest using NORMALIZED DATA\n",
    "print(normalized_rs_rf.best_params_)\n",
    "\n",
    "# Score Random Forest using NORMALIZED DATA\n",
    "rs_normalized_score_rf = normalized_rs_rf.score(X_test_normalized, y_test)\n",
    "print(f'score on NORMALIZED DATA = {rs_normalized_score_rf}')"
   ]
  },
  {
   "cell_type": "code",
   "execution_count": 107,
   "metadata": {},
   "outputs": [
    {
     "name": "stdout",
     "output_type": "stream",
     "text": [
      "Fitting 5 folds for each of 20 candidates, totalling 100 fits\n"
     ]
    },
    {
     "name": "stderr",
     "output_type": "stream",
     "text": [
      "[Parallel(n_jobs=1)]: Using backend SequentialBackend with 1 concurrent workers.\n",
      "[Parallel(n_jobs=1)]: Done 100 out of 100 | elapsed:  1.3min finished\n"
     ]
    },
    {
     "name": "stdout",
     "output_type": "stream",
     "text": [
      "{'n_estimators': 360, 'min_samples_split': 16, 'min_samples_leaf': 19, 'max_depth': 3}\n",
      "score on STANDARDIZED DATA = 0.8688524590163934\n"
     ]
    }
   ],
   "source": [
    "# Fit randomized hyperparameter search model for Random Forest using NORMALIZED DATA\n",
    "standardized_rs_rf = rs_rf.fit(X_train_standardized, y_train)\n",
    "\n",
    "# Find best hyperparameters for Random Forest using NORMALIZED DATA\n",
    "print(standardized_rs_rf.best_params_)\n",
    "\n",
    "# Score Random Forest using NORMALIZED DATA\n",
    "rs_standardized_score_rf = standardized_rs_rf.score(X_test_standardized, y_test)\n",
    "print(f'score on STANDARDIZED DATA = {rs_standardized_score_rf}')"
   ]
  },
  {
   "cell_type": "code",
   "execution_count": 108,
   "metadata": {},
   "outputs": [
    {
     "data": {
      "text/plain": [
       "[{'lr_no_tuning': 0.8852459016393442,\n",
       "  'lr_no_tuning_nor': 0.8524590163934426,\n",
       "  'lr_no_tuning_std': 0.8524590163934426,\n",
       "  'lr_rs_tun_raw': 0.8852459016393442,\n",
       "  'lr_rs_tun_nor': 0.8524590163934426,\n",
       "  'lr_rs_tun_std': 0.8524590163934426},\n",
       " {'knn_no_tuning': 0.6885245901639344,\n",
       "  'knn_no_tuning_nor': 0.8360655737704918,\n",
       "  'knn_no_tuning_std': 0.9016393442622951,\n",
       "  'knn_tun_more_neig': 0.7540983606557377,\n",
       "  'knn_tun_more_neig_nor': 0.8524590163934426,\n",
       "  'knn_tun_more_neig_std': 0.9180327868852459,\n",
       "  'knn_rs_tun_raw': 0.6557377049180327,\n",
       "  'knn_rs_tun_nor': 0.8524590163934426,\n",
       "  'knn_rs_tun_std': 0.8852459016393442},\n",
       " {'rf_no_tuning': 0.8360655737704918,\n",
       "  'rf_no_tuning_nor': 0.8360655737704918,\n",
       "  'rf_no_tuning_std': 0.8360655737704918,\n",
       "  'rf_rs_tun_raw': 0.8688524590163934,\n",
       "  'rf_rs_tun_nor': 0.8688524590163934,\n",
       "  'rf_rs_tun_std': 0.8688524590163934},\n",
       " {'ls_no_tuning': 0.8688524590163934,\n",
       "  'ls_no_tuning_nor': 0.8524590163934426,\n",
       "  'ls_no_tuning_std': 0.8688524590163934}]"
      ]
     },
     "execution_count": 108,
     "metadata": {},
     "output_type": "execute_result"
    }
   ],
   "source": [
    "random_forest['rf_rs_tun_raw'] = rs_raw_score_rf\n",
    "random_forest['rf_rs_tun_nor'] = rs_normalized_score_rf\n",
    "random_forest['rf_rs_tun_std'] = rs_standardized_score_rf\n",
    "\n",
    "dicts"
   ]
  },
  {
   "cell_type": "markdown",
   "metadata": {},
   "source": [
    "* Using `RandomizedSearchCV` with the hyperparameters set as shown above it was possible to obtain an increase in accuracy in comparison to the results obtained previously, but no further improvement was achieved when trying other hyperparameter values or changing the `cv` and/or `n_iter` values."
   ]
  },
  {
   "cell_type": "markdown",
   "metadata": {},
   "source": [
    "##### Linear SVC\n",
    "\n",
    "To try and improve the Random Forest model performance using Randomized Search CV, I will pass the following parameters to a dictionary, over which the randomized search will iterate over and randomly select combinations (number of combinations given by n_iter) to train and test.\n",
    "\n",
    "* `C`: is the regularization parameter. The same as in the Logistic Regression model.\n",
    "* `penalty`: is norm used in the penalization.\n",
    "* `class_weight`: ajusts the weight of each class\n"
   ]
  },
  {
   "cell_type": "code",
   "execution_count": 109,
   "metadata": {
    "scrolled": true
   },
   "outputs": [],
   "source": [
    "# Create a Hyperparameter dictionary for Linear SVC\n",
    "linear_svc_dict = {'C': np.logspace(-4, 4, 100),\n",
    "                   'class_weight': ['balanced'],\n",
    "                   'penalty' : ['l1', 'l2'] }\n",
    "\n",
    "# Set a random seed\n",
    "np.random.seed(42)\n",
    "\n",
    "# Set up the random hyperparameter search for Random Forest Classifier\n",
    "rs_linear_svc= RandomizedSearchCV(LinearSVC(dual = False, max_iter=10000),\n",
    "                                  param_distributions=linear_svc_dict,\n",
    "                                  cv = 5,\n",
    "                                  verbose=True)"
   ]
  },
  {
   "cell_type": "code",
   "execution_count": 110,
   "metadata": {},
   "outputs": [
    {
     "name": "stdout",
     "output_type": "stream",
     "text": [
      "Fitting 5 folds for each of 10 candidates, totalling 50 fits\n"
     ]
    },
    {
     "name": "stderr",
     "output_type": "stream",
     "text": [
      "[Parallel(n_jobs=1)]: Using backend SequentialBackend with 1 concurrent workers.\n"
     ]
    },
    {
     "name": "stdout",
     "output_type": "stream",
     "text": [
      "{'penalty': 'l2', 'class_weight': 'balanced', 'C': 0.6280291441834259}\n",
      "score on RAW DATA = 0.8524590163934426\n"
     ]
    },
    {
     "name": "stderr",
     "output_type": "stream",
     "text": [
      "[Parallel(n_jobs=1)]: Done  50 out of  50 | elapsed:    0.4s finished\n"
     ]
    }
   ],
   "source": [
    "# Fit randomized hyperparameter search model for Linear SVC using RAW DATA\n",
    "raw_rs_linear_svc = rs_linear_svc.fit(X_train, y_train)\n",
    "\n",
    "# Find best hyperparameters for Linear SVC using RAW DATA\n",
    "print(raw_rs_linear_svc.best_params_)\n",
    "\n",
    "# Score Linear SVC using RAW DATA\n",
    "rs_raw_score_linear_svc = raw_rs_linear_svc.score(X_test, y_test)\n",
    "print(f'score on RAW DATA = {rs_raw_score_linear_svc}')"
   ]
  },
  {
   "cell_type": "code",
   "execution_count": 111,
   "metadata": {},
   "outputs": [
    {
     "name": "stderr",
     "output_type": "stream",
     "text": [
      "[Parallel(n_jobs=1)]: Using backend SequentialBackend with 1 concurrent workers.\n"
     ]
    },
    {
     "name": "stdout",
     "output_type": "stream",
     "text": [
      "Fitting 5 folds for each of 10 candidates, totalling 50 fits\n",
      "{'penalty': 'l2', 'class_weight': 'balanced', 'C': 4.862601580065354}\n",
      "score on NORMALIZED DATA = 0.8360655737704918\n"
     ]
    },
    {
     "name": "stderr",
     "output_type": "stream",
     "text": [
      "[Parallel(n_jobs=1)]: Done  50 out of  50 | elapsed:    0.3s finished\n"
     ]
    }
   ],
   "source": [
    "# Fit randomized hyperparameter search model for Linear SVC using NORMALIZED DATA\n",
    "normalized_rs_linear_svc = rs_linear_svc.fit(X_train_normalized, y_train)\n",
    "\n",
    "# Find best hyperparameters for Linear SVC using NORMALIZED DATA\n",
    "print(normalized_rs_linear_svc.best_params_)\n",
    "\n",
    "# Score Linear SVC using NORMALIZED DATA\n",
    "rs_normalized_score_linear_svc = normalized_rs_linear_svc.score(X_test_normalized, y_test)\n",
    "print(f'score on NORMALIZED DATA = {rs_normalized_score_linear_svc}')"
   ]
  },
  {
   "cell_type": "code",
   "execution_count": 112,
   "metadata": {},
   "outputs": [
    {
     "name": "stderr",
     "output_type": "stream",
     "text": [
      "[Parallel(n_jobs=1)]: Using backend SequentialBackend with 1 concurrent workers.\n"
     ]
    },
    {
     "name": "stdout",
     "output_type": "stream",
     "text": [
      "Fitting 5 folds for each of 10 candidates, totalling 50 fits\n",
      "{'penalty': 'l2', 'class_weight': 'balanced', 'C': 0.0009326033468832199}\n",
      "score on STANDARDIZED DATA = 0.8688524590163934\n"
     ]
    },
    {
     "name": "stderr",
     "output_type": "stream",
     "text": [
      "[Parallel(n_jobs=1)]: Done  50 out of  50 | elapsed:    0.2s finished\n"
     ]
    }
   ],
   "source": [
    "# Fit randomized hyperparameter search model for Linear SVC using STANDARDIZED DATA\n",
    "standardized_rs_linear_svc = rs_linear_svc.fit(X_train_standardized, y_train)\n",
    "\n",
    "# Find best hyperparameters for Linear SVC using STANDARDIZED DATA\n",
    "print(standardized_rs_linear_svc.best_params_)\n",
    "\n",
    "# Score Linear SVC using STANDARDIZED DATA\n",
    "rs_standardized_score_linear_svc = standardized_rs_linear_svc.score(X_test_standardized, y_test)\n",
    "print(f'score on STANDARDIZED DATA = {rs_standardized_score_linear_svc}')"
   ]
  },
  {
   "cell_type": "code",
   "execution_count": 113,
   "metadata": {},
   "outputs": [
    {
     "data": {
      "text/plain": [
       "[{'lr_no_tuning': 0.8852459016393442,\n",
       "  'lr_no_tuning_nor': 0.8524590163934426,\n",
       "  'lr_no_tuning_std': 0.8524590163934426,\n",
       "  'lr_rs_tun_raw': 0.8852459016393442,\n",
       "  'lr_rs_tun_nor': 0.8524590163934426,\n",
       "  'lr_rs_tun_std': 0.8524590163934426},\n",
       " {'knn_no_tuning': 0.6885245901639344,\n",
       "  'knn_no_tuning_nor': 0.8360655737704918,\n",
       "  'knn_no_tuning_std': 0.9016393442622951,\n",
       "  'knn_tun_more_neig': 0.7540983606557377,\n",
       "  'knn_tun_more_neig_nor': 0.8524590163934426,\n",
       "  'knn_tun_more_neig_std': 0.9180327868852459,\n",
       "  'knn_rs_tun_raw': 0.6557377049180327,\n",
       "  'knn_rs_tun_nor': 0.8524590163934426,\n",
       "  'knn_rs_tun_std': 0.8852459016393442},\n",
       " {'rf_no_tuning': 0.8360655737704918,\n",
       "  'rf_no_tuning_nor': 0.8360655737704918,\n",
       "  'rf_no_tuning_std': 0.8360655737704918,\n",
       "  'rf_rs_tun_raw': 0.8688524590163934,\n",
       "  'rf_rs_tun_nor': 0.8688524590163934,\n",
       "  'rf_rs_tun_std': 0.8688524590163934},\n",
       " {'ls_no_tuning': 0.8688524590163934,\n",
       "  'ls_no_tuning_nor': 0.8524590163934426,\n",
       "  'ls_no_tuning_std': 0.8688524590163934,\n",
       "  'ls_rs_tun_raw': 0.8524590163934426,\n",
       "  'ls_rs_tun_nor': 0.8360655737704918,\n",
       "  'ls_rs_tun_std': 0.8688524590163934}]"
      ]
     },
     "execution_count": 113,
     "metadata": {},
     "output_type": "execute_result"
    }
   ],
   "source": [
    "linear_svc['ls_rs_tun_raw'] = rs_raw_score_linear_svc\n",
    "linear_svc['ls_rs_tun_nor'] = rs_normalized_score_linear_svc\n",
    "linear_svc['ls_rs_tun_std'] = rs_standardized_score_linear_svc\n",
    "\n",
    "dicts"
   ]
  },
  {
   "cell_type": "markdown",
   "metadata": {},
   "source": [
    "* when instantiating the model `LinearSVC`, the parameter dualis set to false, as according to the model's documentation this is to be preferred when the number of samples if inferior to the number of features.\n",
    "* `RandomizedSearchCV` resulted in an accuracy increase when scoring the model using standardized data."
   ]
  },
  {
   "cell_type": "code",
   "execution_count": 114,
   "metadata": {},
   "outputs": [],
   "source": [
    "# ADD HERE PLOT COMPARING RANDOM FOREST BEFORE AND AFTER RANDOMIZED SEARCH CV"
   ]
  },
  {
   "cell_type": "markdown",
   "metadata": {},
   "source": [
    "**-> Grid Search CV**\n",
    " \n",
    "`GridSearchCV` searches exhaustively over specified parameter values for an estimator.\n",
    "\n",
    "When running `GridSearchCV` I used the same hyperparameter sets on each model as I had used for `RandomizedSearchCV` in order to compare their results."
   ]
  },
  {
   "cell_type": "markdown",
   "metadata": {},
   "source": [
    "##### Logistic Regression "
   ]
  },
  {
   "cell_type": "code",
   "execution_count": 115,
   "metadata": {},
   "outputs": [],
   "source": [
    "# # Create a Hyperparameter dictionary for Logisti Regression\n",
    "log_reg_grid = {'C': np.logspace(-4, 4, 20),\n",
    "                'solver': ['liblinear'], \n",
    "                'penalty' : ['l1', 'l2']}\n",
    "\n",
    "# Set a random seed\n",
    "np.random.seed(42)\n",
    "\n",
    "# setting up grid hyperparameter search\n",
    "gs_log_reg = GridSearchCV(LogisticRegression(dual = False),\n",
    "                         param_grid=log_reg_grid,\n",
    "                         cv=5,\n",
    "                         verbose=True)"
   ]
  },
  {
   "cell_type": "code",
   "execution_count": 116,
   "metadata": {},
   "outputs": [
    {
     "name": "stderr",
     "output_type": "stream",
     "text": [
      "[Parallel(n_jobs=1)]: Using backend SequentialBackend with 1 concurrent workers.\n"
     ]
    },
    {
     "name": "stdout",
     "output_type": "stream",
     "text": [
      "Fitting 5 folds for each of 40 candidates, totalling 200 fits\n",
      "{'C': 0.23357214690901212, 'penalty': 'l2', 'solver': 'liblinear'}\n",
      "Grid Search score on RAW DATA = 0.8852459016393442\n"
     ]
    },
    {
     "name": "stderr",
     "output_type": "stream",
     "text": [
      "[Parallel(n_jobs=1)]: Done 200 out of 200 | elapsed:    1.4s finished\n"
     ]
    }
   ],
   "source": [
    "# Fit randomized hyperparameter search model for Logistic Regression using RAW DATA\n",
    "raw_gs_log_reg = gs_log_reg.fit(X_train, y_train)\n",
    "\n",
    "# Find best hyperparameters for Logistic Regression using RAW DATA\n",
    "print(raw_gs_log_reg.best_params_)\n",
    "\n",
    "# Score Logistic Regression using RAW DATA\n",
    "gs_raw_score_log_reg = raw_gs_log_reg.score(X_test, y_test)\n",
    "print(f'Grid Search score on RAW DATA = {gs_raw_score_log_reg}')"
   ]
  },
  {
   "cell_type": "code",
   "execution_count": 117,
   "metadata": {},
   "outputs": [
    {
     "name": "stderr",
     "output_type": "stream",
     "text": [
      "[Parallel(n_jobs=1)]: Using backend SequentialBackend with 1 concurrent workers.\n"
     ]
    },
    {
     "name": "stdout",
     "output_type": "stream",
     "text": [
      "Fitting 5 folds for each of 40 candidates, totalling 200 fits\n",
      "{'C': 29.763514416313132, 'penalty': 'l2', 'solver': 'liblinear'}\n",
      "Grid Search score on NORMALIZED DATA = 0.8524590163934426\n"
     ]
    },
    {
     "name": "stderr",
     "output_type": "stream",
     "text": [
      "[Parallel(n_jobs=1)]: Done 200 out of 200 | elapsed:    1.1s finished\n"
     ]
    }
   ],
   "source": [
    "# Fit randomized hyperparameter search model for Logistic Regression using NORMALIZED DATA\n",
    "normalized_gs_log_reg = gs_log_reg.fit(X_train_normalized, y_train)\n",
    "\n",
    "# Find best hyperparameters for Logistic Regression using NORMALIZED DATA\n",
    "print(normalized_gs_log_reg.best_params_)\n",
    "\n",
    "# Score Logistic Regression using NORMALIZED DATA\n",
    "gs_normalized_score_log_reg = normalized_gs_log_reg.score(X_test_normalized, y_test)\n",
    "print(f'Grid Search score on NORMALIZED DATA = {gs_normalized_score_log_reg}')"
   ]
  },
  {
   "cell_type": "code",
   "execution_count": 118,
   "metadata": {},
   "outputs": [
    {
     "name": "stderr",
     "output_type": "stream",
     "text": [
      "[Parallel(n_jobs=1)]: Using backend SequentialBackend with 1 concurrent workers.\n"
     ]
    },
    {
     "name": "stdout",
     "output_type": "stream",
     "text": [
      "Fitting 5 folds for each of 40 candidates, totalling 200 fits\n",
      "{'C': 1.623776739188721, 'penalty': 'l2', 'solver': 'liblinear'}\n",
      "Grid Search score on STANDARDIZED DATA = 0.8524590163934426\n"
     ]
    },
    {
     "name": "stderr",
     "output_type": "stream",
     "text": [
      "[Parallel(n_jobs=1)]: Done 200 out of 200 | elapsed:    1.0s finished\n"
     ]
    }
   ],
   "source": [
    "# Fit randomized hyperparameter search model for Logistic Regression using STANDARDIZED DATA\n",
    "standardized_gs_log_reg = gs_log_reg.fit(X_train_standardized, y_train)\n",
    "\n",
    "# Find best hyperparameters for Logistic Regression using STANDARDIZED DATA\n",
    "print(standardized_gs_log_reg.best_params_)\n",
    "\n",
    "# Score Logistic Regression using STANDARDIZED DATA\n",
    "gs_standardized_score_log_reg = standardized_gs_log_reg.score(X_test_standardized, y_test)\n",
    "print(f'Grid Search score on STANDARDIZED DATA = {gs_standardized_score_log_reg}')"
   ]
  },
  {
   "cell_type": "code",
   "execution_count": 119,
   "metadata": {},
   "outputs": [
    {
     "data": {
      "text/plain": [
       "[{'lr_no_tuning': 0.8852459016393442,\n",
       "  'lr_no_tuning_nor': 0.8524590163934426,\n",
       "  'lr_no_tuning_std': 0.8524590163934426,\n",
       "  'lr_rs_tun_raw': 0.8852459016393442,\n",
       "  'lr_rs_tun_nor': 0.8524590163934426,\n",
       "  'lr_rs_tun_std': 0.8524590163934426,\n",
       "  'lr_gs_tun_raw': 0.8852459016393442,\n",
       "  'lr_gs_tun_nor': 0.8524590163934426,\n",
       "  'lr_gs_tun_std': 0.8524590163934426},\n",
       " {'knn_no_tuning': 0.6885245901639344,\n",
       "  'knn_no_tuning_nor': 0.8360655737704918,\n",
       "  'knn_no_tuning_std': 0.9016393442622951,\n",
       "  'knn_tun_more_neig': 0.7540983606557377,\n",
       "  'knn_tun_more_neig_nor': 0.8524590163934426,\n",
       "  'knn_tun_more_neig_std': 0.9180327868852459,\n",
       "  'knn_rs_tun_raw': 0.6557377049180327,\n",
       "  'knn_rs_tun_nor': 0.8524590163934426,\n",
       "  'knn_rs_tun_std': 0.8852459016393442},\n",
       " {'rf_no_tuning': 0.8360655737704918,\n",
       "  'rf_no_tuning_nor': 0.8360655737704918,\n",
       "  'rf_no_tuning_std': 0.8360655737704918,\n",
       "  'rf_rs_tun_raw': 0.8688524590163934,\n",
       "  'rf_rs_tun_nor': 0.8688524590163934,\n",
       "  'rf_rs_tun_std': 0.8688524590163934},\n",
       " {'ls_no_tuning': 0.8688524590163934,\n",
       "  'ls_no_tuning_nor': 0.8524590163934426,\n",
       "  'ls_no_tuning_std': 0.8688524590163934,\n",
       "  'ls_rs_tun_raw': 0.8524590163934426,\n",
       "  'ls_rs_tun_nor': 0.8360655737704918,\n",
       "  'ls_rs_tun_std': 0.8688524590163934}]"
      ]
     },
     "execution_count": 119,
     "metadata": {},
     "output_type": "execute_result"
    }
   ],
   "source": [
    "logistic_regression['lr_gs_tun_raw'] = gs_raw_score_log_reg\n",
    "logistic_regression['lr_gs_tun_nor'] = gs_normalized_score_log_reg\n",
    "logistic_regression['lr_gs_tun_std'] = gs_standardized_score_log_reg\n",
    "\n",
    "dicts"
   ]
  },
  {
   "cell_type": "markdown",
   "metadata": {},
   "source": [
    "* Running `GridSearchCV`on the `LogisticRegression` model using the same set of hyperparameters that was used for `RandomizedSearchCV` achieves the same results. When changing the. parameter `C`, so that 100 samples will be generated in the logspace, is possible to increase the accuracy on the standardized data up to the same value obtained on the raw data. Because of the extra computational power and time needed to execute this, the change was reversed since the same accuracy had already been achieved for a different data group with less effort."
   ]
  },
  {
   "cell_type": "markdown",
   "metadata": {},
   "source": [
    "##### K-Nearest Neighbors Classifier"
   ]
  },
  {
   "cell_type": "code",
   "execution_count": 120,
   "metadata": {},
   "outputs": [],
   "source": [
    "# Create a Hyperparameter dictionary for KNN\n",
    "gs_knn_dict ={'n_neighbors': range(1, 26),\n",
    "              'weights': ['uniform', 'distance'],\n",
    "              'algorithm':['auto'],\n",
    "              'metric':['euclidean', 'manhattan']}\n",
    " \n",
    "# Set a random seed\n",
    "np.random.seed(42)\n",
    "\n",
    "# setting up grid hyperparameter search\n",
    "gs_knn = GridSearchCV(KNeighborsClassifier(),\n",
    "                      param_grid=knn_dict,\n",
    "                      cv=5,\n",
    "                      verbose=True)"
   ]
  },
  {
   "cell_type": "code",
   "execution_count": 121,
   "metadata": {},
   "outputs": [
    {
     "name": "stderr",
     "output_type": "stream",
     "text": [
      "[Parallel(n_jobs=1)]: Using backend SequentialBackend with 1 concurrent workers.\n"
     ]
    },
    {
     "name": "stdout",
     "output_type": "stream",
     "text": [
      "Fitting 5 folds for each of 100 candidates, totalling 500 fits\n",
      "{'algorithm': 'auto', 'metric': 'manhattan', 'n_neighbors': 7, 'weights': 'distance'}\n",
      "score on RAW DATA = 0.7049180327868853\n"
     ]
    },
    {
     "name": "stderr",
     "output_type": "stream",
     "text": [
      "[Parallel(n_jobs=1)]: Done 500 out of 500 | elapsed:    3.2s finished\n"
     ]
    }
   ],
   "source": [
    "# Fit randomized hyperparameter search model for KNN using RAW DATA\n",
    "raw_gs_knn = gs_knn.fit(X_train, y_train)\n",
    "\n",
    "# Find best hyperparameters for KNN using RAW DATA\n",
    "print(raw_gs_knn.best_params_)\n",
    "\n",
    "# Score KNN using RAW DATA\n",
    "gs_raw_score_knn = raw_gs_knn.score(X_test, y_test)\n",
    "print(f'score on RAW DATA = {gs_raw_score_knn}')"
   ]
  },
  {
   "cell_type": "code",
   "execution_count": 122,
   "metadata": {},
   "outputs": [
    {
     "name": "stderr",
     "output_type": "stream",
     "text": [
      "[Parallel(n_jobs=1)]: Using backend SequentialBackend with 1 concurrent workers.\n"
     ]
    },
    {
     "name": "stdout",
     "output_type": "stream",
     "text": [
      "Fitting 5 folds for each of 100 candidates, totalling 500 fits\n",
      "{'algorithm': 'auto', 'metric': 'manhattan', 'n_neighbors': 5, 'weights': 'uniform'}\n",
      "score on NORMALIZED DATA = 0.8360655737704918\n"
     ]
    },
    {
     "name": "stderr",
     "output_type": "stream",
     "text": [
      "[Parallel(n_jobs=1)]: Done 500 out of 500 | elapsed:    3.0s finished\n"
     ]
    }
   ],
   "source": [
    "# Fit randomized hyperparameter search model for KNN using NORMALIZED DATA\n",
    "normalized_gs_knn = gs_knn.fit(X_train_normalized, y_train)\n",
    "\n",
    "# Find best hyperparameters for KNN using NORMALIZED DATA\n",
    "print(normalized_gs_knn.best_params_)\n",
    "\n",
    "# Score KNN using NORMALIZED DATA\n",
    "gs_normalized_score_knn = normalized_gs_knn.score(X_test_normalized, y_test)\n",
    "print(f'score on NORMALIZED DATA = {gs_normalized_score_knn}')"
   ]
  },
  {
   "cell_type": "code",
   "execution_count": 123,
   "metadata": {},
   "outputs": [
    {
     "name": "stderr",
     "output_type": "stream",
     "text": [
      "[Parallel(n_jobs=1)]: Using backend SequentialBackend with 1 concurrent workers.\n"
     ]
    },
    {
     "name": "stdout",
     "output_type": "stream",
     "text": [
      "Fitting 5 folds for each of 100 candidates, totalling 500 fits\n",
      "{'algorithm': 'auto', 'metric': 'manhattan', 'n_neighbors': 20, 'weights': 'uniform'}\n",
      "score on STANDARDIZED DATA = 0.8852459016393442\n"
     ]
    },
    {
     "name": "stderr",
     "output_type": "stream",
     "text": [
      "[Parallel(n_jobs=1)]: Done 500 out of 500 | elapsed:    3.0s finished\n"
     ]
    }
   ],
   "source": [
    "# Fit randomized hyperparameter search model for KNN using STANDARDIZED DATA\n",
    "standardized_gs_knn = gs_knn.fit(X_train_standardized, y_train)\n",
    "\n",
    "# Find best hyperparameters for KNN using STANDARDIZED DATA\n",
    "print(standardized_gs_knn.best_params_)\n",
    "\n",
    "# Score KNN using STANDARDIZED DATA\n",
    "gs_standardized_score_knn = standardized_gs_knn.score(X_test_standardized, y_test)\n",
    "print(f'score on STANDARDIZED DATA = {gs_standardized_score_knn}')"
   ]
  },
  {
   "cell_type": "code",
   "execution_count": 124,
   "metadata": {},
   "outputs": [
    {
     "data": {
      "text/plain": [
       "[{'lr_no_tuning': 0.8852459016393442,\n",
       "  'lr_no_tuning_nor': 0.8524590163934426,\n",
       "  'lr_no_tuning_std': 0.8524590163934426,\n",
       "  'lr_rs_tun_raw': 0.8852459016393442,\n",
       "  'lr_rs_tun_nor': 0.8524590163934426,\n",
       "  'lr_rs_tun_std': 0.8524590163934426,\n",
       "  'lr_gs_tun_raw': 0.8852459016393442,\n",
       "  'lr_gs_tun_nor': 0.8524590163934426,\n",
       "  'lr_gs_tun_std': 0.8524590163934426},\n",
       " {'knn_no_tuning': 0.6885245901639344,\n",
       "  'knn_no_tuning_nor': 0.8360655737704918,\n",
       "  'knn_no_tuning_std': 0.9016393442622951,\n",
       "  'knn_tun_more_neig': 0.7540983606557377,\n",
       "  'knn_tun_more_neig_nor': 0.8524590163934426,\n",
       "  'knn_tun_more_neig_std': 0.9180327868852459,\n",
       "  'knn_rs_tun_raw': 0.6557377049180327,\n",
       "  'knn_rs_tun_nor': 0.8524590163934426,\n",
       "  'knn_rs_tun_std': 0.8852459016393442,\n",
       "  'knn_gs_tun_raw': 0.7049180327868853,\n",
       "  'knn_gs_tun_nor': 0.8360655737704918,\n",
       "  'knn_gs_tun_std': 0.8852459016393442},\n",
       " {'rf_no_tuning': 0.8360655737704918,\n",
       "  'rf_no_tuning_nor': 0.8360655737704918,\n",
       "  'rf_no_tuning_std': 0.8360655737704918,\n",
       "  'rf_rs_tun_raw': 0.8688524590163934,\n",
       "  'rf_rs_tun_nor': 0.8688524590163934,\n",
       "  'rf_rs_tun_std': 0.8688524590163934},\n",
       " {'ls_no_tuning': 0.8688524590163934,\n",
       "  'ls_no_tuning_nor': 0.8524590163934426,\n",
       "  'ls_no_tuning_std': 0.8688524590163934,\n",
       "  'ls_rs_tun_raw': 0.8524590163934426,\n",
       "  'ls_rs_tun_nor': 0.8360655737704918,\n",
       "  'ls_rs_tun_std': 0.8688524590163934}]"
      ]
     },
     "execution_count": 124,
     "metadata": {},
     "output_type": "execute_result"
    }
   ],
   "source": [
    "knn['knn_gs_tun_raw'] = gs_raw_score_knn\n",
    "knn['knn_gs_tun_nor'] = gs_normalized_score_knn\n",
    "knn['knn_gs_tun_std'] = gs_standardized_score_knn\n",
    "\n",
    "dicts"
   ]
  },
  {
   "cell_type": "markdown",
   "metadata": {},
   "source": [
    "* Using `GridSearchCV` to tune `KNeighborsClassifier` model increases the accuracy on raw and normalized data, but the accuracy on standardized data remains the same.\n",
    "\n",
    "* Despite the observed increase in accuracy, the best result remains the one obtained from scoring the standardized data without hyperparameter tuning."
   ]
  },
  {
   "cell_type": "markdown",
   "metadata": {},
   "source": [
    "##### Random Forest"
   ]
  },
  {
   "cell_type": "code",
   "execution_count": 125,
   "metadata": {},
   "outputs": [],
   "source": [
    "# Create a Hyperparameter dictionary for Random Forest\n",
    "rf_dict = {'n_estimators':np.arange(10, 100, 50),\n",
    "          'max_depth':[None, 3, 5, 10],\n",
    "          'min_samples_split':np.arange(2, 20, 2),\n",
    "          'min_samples_leaf':np.arange(1, 20, 2)}\n",
    "\n",
    "# Set a random seed\n",
    "np.random.seed(42)\n",
    "\n",
    "# Set up the random hyperparameter search for Random Forest Classifier\n",
    "gs_rf= GridSearchCV(RandomForestClassifier(),\n",
    "                         param_grid=rf_dict,\n",
    "                         cv = 5,\n",
    "                         verbose=True)"
   ]
  },
  {
   "cell_type": "code",
   "execution_count": 126,
   "metadata": {},
   "outputs": [
    {
     "name": "stderr",
     "output_type": "stream",
     "text": [
      "[Parallel(n_jobs=1)]: Using backend SequentialBackend with 1 concurrent workers.\n"
     ]
    },
    {
     "name": "stdout",
     "output_type": "stream",
     "text": [
      "Fitting 5 folds for each of 720 candidates, totalling 3600 fits\n",
      "{'max_depth': 10, 'min_samples_leaf': 7, 'min_samples_split': 16, 'n_estimators': 10}\n",
      "score on RAW DATA = 0.8524590163934426\n"
     ]
    },
    {
     "name": "stderr",
     "output_type": "stream",
     "text": [
      "[Parallel(n_jobs=1)]: Done 3600 out of 3600 | elapsed:  3.4min finished\n"
     ]
    }
   ],
   "source": [
    "# Fit randomized hyperparameter search model for Random Forest using RAW DATA\n",
    "raw_gs_rf = gs_rf.fit(X_train, y_train)\n",
    "\n",
    "# Find best hyperparameters for Random Forest using RAW DATA\n",
    "print(raw_gs_rf.best_params_)\n",
    "\n",
    "# Score Random Forest using RAW DATA\n",
    "gs_raw_score_rf = raw_gs_rf.score(X_test, y_test)\n",
    "print(f'score on RAW DATA = {gs_raw_score_rf}')"
   ]
  },
  {
   "cell_type": "code",
   "execution_count": 127,
   "metadata": {},
   "outputs": [
    {
     "name": "stderr",
     "output_type": "stream",
     "text": [
      "[Parallel(n_jobs=1)]: Using backend SequentialBackend with 1 concurrent workers.\n"
     ]
    },
    {
     "name": "stdout",
     "output_type": "stream",
     "text": [
      "Fitting 5 folds for each of 720 candidates, totalling 3600 fits\n",
      "{'max_depth': 5, 'min_samples_leaf': 1, 'min_samples_split': 12, 'n_estimators': 10}\n",
      "score on NORMALIZED DATA = 0.819672131147541\n"
     ]
    },
    {
     "name": "stderr",
     "output_type": "stream",
     "text": [
      "[Parallel(n_jobs=1)]: Done 3600 out of 3600 | elapsed:  3.2min finished\n"
     ]
    }
   ],
   "source": [
    "# Fit randomized hyperparameter search model for Random Forest using NORMALIZED DATA\n",
    "normalized_gs_rf = gs_rf.fit(X_train_normalized, y_train)\n",
    "\n",
    "# Find best hyperparameters for Random Forest using NORMALIZED DATA\n",
    "print(normalized_gs_rf.best_params_)\n",
    "\n",
    "# Score Random Forest using NORMALIZED DATA\n",
    "gs_normalized_score_rf = raw_gs_rf.score(X_test_normalized, y_test)\n",
    "print(f'score on NORMALIZED DATA = {gs_normalized_score_rf}')"
   ]
  },
  {
   "cell_type": "code",
   "execution_count": 128,
   "metadata": {},
   "outputs": [
    {
     "name": "stderr",
     "output_type": "stream",
     "text": [
      "[Parallel(n_jobs=1)]: Using backend SequentialBackend with 1 concurrent workers.\n"
     ]
    },
    {
     "name": "stdout",
     "output_type": "stream",
     "text": [
      "Fitting 5 folds for each of 720 candidates, totalling 3600 fits\n",
      "{'max_depth': 3, 'min_samples_leaf': 17, 'min_samples_split': 14, 'n_estimators': 10}\n",
      "score on STANDARDIZED DATA = 0.8688524590163934\n"
     ]
    },
    {
     "name": "stderr",
     "output_type": "stream",
     "text": [
      "[Parallel(n_jobs=1)]: Done 3600 out of 3600 | elapsed:  3.2min finished\n"
     ]
    }
   ],
   "source": [
    "# Fit randomized hyperparameter search model for Random Forest using STANDARDIZED DATA\n",
    "standardized_gs_rf = gs_rf.fit(X_train_standardized, y_train)\n",
    "\n",
    "# Find best hyperparameters for Random Forest using STANDARDIZED DATA\n",
    "print(standardized_gs_rf.best_params_)\n",
    "\n",
    "# Score Random Forest using STANDARDIZED DATA\n",
    "gs_standardized_score_rf = standardized_gs_rf.score(X_test_standardized, y_test)\n",
    "print(f'score on STANDARDIZED DATA = {gs_standardized_score_rf}')"
   ]
  },
  {
   "cell_type": "code",
   "execution_count": 129,
   "metadata": {},
   "outputs": [
    {
     "data": {
      "text/plain": [
       "[{'lr_no_tuning': 0.8852459016393442,\n",
       "  'lr_no_tuning_nor': 0.8524590163934426,\n",
       "  'lr_no_tuning_std': 0.8524590163934426,\n",
       "  'lr_rs_tun_raw': 0.8852459016393442,\n",
       "  'lr_rs_tun_nor': 0.8524590163934426,\n",
       "  'lr_rs_tun_std': 0.8524590163934426,\n",
       "  'lr_gs_tun_raw': 0.8852459016393442,\n",
       "  'lr_gs_tun_nor': 0.8524590163934426,\n",
       "  'lr_gs_tun_std': 0.8524590163934426},\n",
       " {'knn_no_tuning': 0.6885245901639344,\n",
       "  'knn_no_tuning_nor': 0.8360655737704918,\n",
       "  'knn_no_tuning_std': 0.9016393442622951,\n",
       "  'knn_tun_more_neig': 0.7540983606557377,\n",
       "  'knn_tun_more_neig_nor': 0.8524590163934426,\n",
       "  'knn_tun_more_neig_std': 0.9180327868852459,\n",
       "  'knn_rs_tun_raw': 0.6557377049180327,\n",
       "  'knn_rs_tun_nor': 0.8524590163934426,\n",
       "  'knn_rs_tun_std': 0.8852459016393442,\n",
       "  'knn_gs_tun_raw': 0.7049180327868853,\n",
       "  'knn_gs_tun_nor': 0.8360655737704918,\n",
       "  'knn_gs_tun_std': 0.8852459016393442},\n",
       " {'rf_no_tuning': 0.8360655737704918,\n",
       "  'rf_no_tuning_nor': 0.8360655737704918,\n",
       "  'rf_no_tuning_std': 0.8360655737704918,\n",
       "  'rf_rs_tun_raw': 0.8688524590163934,\n",
       "  'rf_rs_tun_nor': 0.8688524590163934,\n",
       "  'rf_rs_tun_std': 0.8688524590163934,\n",
       "  'rf_gs_tun_raw': 0.8524590163934426,\n",
       "  'rf_gs_tun_nor': 0.819672131147541,\n",
       "  'rf_gs_tun_std': 0.8688524590163934},\n",
       " {'ls_no_tuning': 0.8688524590163934,\n",
       "  'ls_no_tuning_nor': 0.8524590163934426,\n",
       "  'ls_no_tuning_std': 0.8688524590163934,\n",
       "  'ls_rs_tun_raw': 0.8524590163934426,\n",
       "  'ls_rs_tun_nor': 0.8360655737704918,\n",
       "  'ls_rs_tun_std': 0.8688524590163934}]"
      ]
     },
     "execution_count": 129,
     "metadata": {},
     "output_type": "execute_result"
    }
   ],
   "source": [
    "random_forest['rf_gs_tun_raw'] = gs_raw_score_rf\n",
    "random_forest['rf_gs_tun_nor'] = gs_normalized_score_rf\n",
    "random_forest['rf_gs_tun_std'] = gs_standardized_score_rf\n",
    "\n",
    "dicts"
   ]
  },
  {
   "cell_type": "markdown",
   "metadata": {},
   "source": [
    "* Because when using `GridSearchCV` fits and scores the model for every single combination of hyperparameters, I decreased the number of estimators (`n_estimators`) in order to decrease the number of fits needed and thus. the time elapsed.  \n",
    "* For raw and normalized data there was a decrease in accuracy, while for standardized data there was no change."
   ]
  },
  {
   "cell_type": "markdown",
   "metadata": {},
   "source": [
    "##### Linear SVC"
   ]
  },
  {
   "cell_type": "code",
   "execution_count": 130,
   "metadata": {},
   "outputs": [],
   "source": [
    "# Create a Hyperparameter dictionary for Linear SVC\n",
    "linear_svc_dict = {'C': np.logspace(-4, 4, 100),\n",
    "                   'class_weight': ['balanced'],\n",
    "                   'penalty' : ['l1', 'l2'] }\n",
    "\n",
    "# Set a random seed\n",
    "np.random.seed(42)\n",
    "\n",
    "# Set up the random hyperparameter search for Random Forest Classifier\n",
    "gs_linear_svc= GridSearchCV(LinearSVC(dual = False, max_iter=10000),\n",
    "                                  param_grid=linear_svc_dict,\n",
    "                                  cv = 5,\n",
    "                                  verbose=True)"
   ]
  },
  {
   "cell_type": "code",
   "execution_count": 131,
   "metadata": {},
   "outputs": [
    {
     "name": "stderr",
     "output_type": "stream",
     "text": [
      "[Parallel(n_jobs=1)]: Using backend SequentialBackend with 1 concurrent workers.\n"
     ]
    },
    {
     "name": "stdout",
     "output_type": "stream",
     "text": [
      "Fitting 5 folds for each of 200 candidates, totalling 1000 fits\n",
      "{'C': 0.026560877829466867, 'class_weight': 'balanced', 'penalty': 'l2'}\n",
      "score on RAW DATA = 0.8688524590163934\n"
     ]
    },
    {
     "name": "stderr",
     "output_type": "stream",
     "text": [
      "[Parallel(n_jobs=1)]: Done 1000 out of 1000 | elapsed:    6.6s finished\n"
     ]
    }
   ],
   "source": [
    "# Fit randomized hyperparameter search model for Linear SVC using RAW DATA\n",
    "raw_gs_linear_svc = gs_linear_svc.fit(X_train, y_train)\n",
    "\n",
    "# Find best hyperparameters for Linear SVC using RAW DATA\n",
    "print(raw_gs_linear_svc.best_params_)\n",
    "\n",
    "# Score Linear SVC using RAW DATA\n",
    "gs_raw_score_linear_svc = raw_gs_linear_svc.score(X_test, y_test)\n",
    "print(f'score on RAW DATA = {gs_raw_score_linear_svc}')"
   ]
  },
  {
   "cell_type": "code",
   "execution_count": 132,
   "metadata": {},
   "outputs": [
    {
     "name": "stderr",
     "output_type": "stream",
     "text": [
      "[Parallel(n_jobs=1)]: Using backend SequentialBackend with 1 concurrent workers.\n"
     ]
    },
    {
     "name": "stdout",
     "output_type": "stream",
     "text": [
      "Fitting 5 folds for each of 200 candidates, totalling 1000 fits\n",
      "{'C': 0.521400828799969, 'class_weight': 'balanced', 'penalty': 'l2'}\n",
      "score on NORMALIZED DATA = 0.8360655737704918\n"
     ]
    },
    {
     "name": "stderr",
     "output_type": "stream",
     "text": [
      "[Parallel(n_jobs=1)]: Done 1000 out of 1000 | elapsed:    4.9s finished\n"
     ]
    }
   ],
   "source": [
    "# Fit randomized hyperparameter search model for Linear SVC using NORMALIZED DATA\n",
    "normalized_gs_linear_svc = gs_linear_svc.fit(X_train_normalized, y_train)\n",
    "\n",
    "# Find best hyperparameters for Linear SVC using NORMALIZED DATA\n",
    "print(normalized_gs_linear_svc.best_params_)\n",
    "\n",
    "# Score Linear SVC using NORMALIZED DATA\n",
    "gs_normalized_score_linear_svc = normalized_gs_linear_svc.score(X_test_normalized, y_test)\n",
    "print(f'score on NORMALIZED DATA = {gs_normalized_score_linear_svc}')"
   ]
  },
  {
   "cell_type": "code",
   "execution_count": 133,
   "metadata": {},
   "outputs": [
    {
     "name": "stderr",
     "output_type": "stream",
     "text": [
      "[Parallel(n_jobs=1)]: Using backend SequentialBackend with 1 concurrent workers.\n"
     ]
    },
    {
     "name": "stdout",
     "output_type": "stream",
     "text": [
      "Fitting 5 folds for each of 200 candidates, totalling 1000 fits\n",
      "{'C': 0.0005336699231206312, 'class_weight': 'balanced', 'penalty': 'l2'}\n",
      "score on STANDARDIZED DATA = 0.8524590163934426\n"
     ]
    },
    {
     "name": "stderr",
     "output_type": "stream",
     "text": [
      "[Parallel(n_jobs=1)]: Done 1000 out of 1000 | elapsed:    4.4s finished\n"
     ]
    }
   ],
   "source": [
    "# Fit randomized hyperparameter search model for Linear SVC using STANDARDIZED DATA\n",
    "standardized_gs_linear_svc = gs_linear_svc.fit(X_train_standardized, y_train)\n",
    "\n",
    "# Find best hyperparameters for Linear SVC using STANDARDIZED DATA\n",
    "print(standardized_gs_linear_svc.best_params_)\n",
    "\n",
    "# Score Linear SVC using STANDARDIZED DATA\n",
    "gs_standardized_score_linear_svc = standardized_gs_linear_svc.score(X_test_standardized, y_test)\n",
    "print(f'score on STANDARDIZED DATA = {gs_standardized_score_linear_svc}')"
   ]
  },
  {
   "cell_type": "code",
   "execution_count": 134,
   "metadata": {},
   "outputs": [
    {
     "data": {
      "text/plain": [
       "[{'lr_no_tuning': 0.8852459016393442,\n",
       "  'lr_no_tuning_nor': 0.8524590163934426,\n",
       "  'lr_no_tuning_std': 0.8524590163934426,\n",
       "  'lr_rs_tun_raw': 0.8852459016393442,\n",
       "  'lr_rs_tun_nor': 0.8524590163934426,\n",
       "  'lr_rs_tun_std': 0.8524590163934426,\n",
       "  'lr_gs_tun_raw': 0.8852459016393442,\n",
       "  'lr_gs_tun_nor': 0.8524590163934426,\n",
       "  'lr_gs_tun_std': 0.8524590163934426},\n",
       " {'knn_no_tuning': 0.6885245901639344,\n",
       "  'knn_no_tuning_nor': 0.8360655737704918,\n",
       "  'knn_no_tuning_std': 0.9016393442622951,\n",
       "  'knn_tun_more_neig': 0.7540983606557377,\n",
       "  'knn_tun_more_neig_nor': 0.8524590163934426,\n",
       "  'knn_tun_more_neig_std': 0.9180327868852459,\n",
       "  'knn_rs_tun_raw': 0.6557377049180327,\n",
       "  'knn_rs_tun_nor': 0.8524590163934426,\n",
       "  'knn_rs_tun_std': 0.8852459016393442,\n",
       "  'knn_gs_tun_raw': 0.7049180327868853,\n",
       "  'knn_gs_tun_nor': 0.8360655737704918,\n",
       "  'knn_gs_tun_std': 0.8852459016393442},\n",
       " {'rf_no_tuning': 0.8360655737704918,\n",
       "  'rf_no_tuning_nor': 0.8360655737704918,\n",
       "  'rf_no_tuning_std': 0.8360655737704918,\n",
       "  'rf_rs_tun_raw': 0.8688524590163934,\n",
       "  'rf_rs_tun_nor': 0.8688524590163934,\n",
       "  'rf_rs_tun_std': 0.8688524590163934,\n",
       "  'rf_gs_tun_raw': 0.8524590163934426,\n",
       "  'rf_gs_tun_nor': 0.819672131147541,\n",
       "  'rf_gs_tun_std': 0.8688524590163934},\n",
       " {'ls_no_tuning': 0.8688524590163934,\n",
       "  'ls_no_tuning_nor': 0.8524590163934426,\n",
       "  'ls_no_tuning_std': 0.8688524590163934,\n",
       "  'ls_rs_tun_raw': 0.8524590163934426,\n",
       "  'ls_rs_tun_nor': 0.8360655737704918,\n",
       "  'ls_rs_tun_std': 0.8688524590163934,\n",
       "  'ls_gs_tun_raw': 0.8688524590163934,\n",
       "  'ls_gs_tun_nor': 0.8360655737704918,\n",
       "  'ls_gs_tun_std': 0.8524590163934426}]"
      ]
     },
     "execution_count": 134,
     "metadata": {},
     "output_type": "execute_result"
    }
   ],
   "source": [
    "linear_svc['ls_gs_tun_raw'] = gs_raw_score_linear_svc\n",
    "linear_svc['ls_gs_tun_nor'] = gs_normalized_score_linear_svc\n",
    "linear_svc['ls_gs_tun_std'] = gs_standardized_score_linear_svc\n",
    "\n",
    "dicts"
   ]
  },
  {
   "cell_type": "markdown",
   "metadata": {},
   "source": [
    "* When fitting the `LinearSVC` model using `GridSearchCV` the fit on raw data did not converge using the default value of 1000 for `max_iter`, so the value was increased to 10000\n",
    "* Despite the model converging there was no increase in accuracy for any of the data groups "
   ]
  },
  {
   "cell_type": "markdown",
   "metadata": {},
   "source": [
    "\n",
    "Before evaluating the model I'll select the best outcome of each model to evaluate:"
   ]
  },
  {
   "cell_type": "code",
   "execution_count": 135,
   "metadata": {},
   "outputs": [
    {
     "name": "stdout",
     "output_type": "stream",
     "text": [
      "lr_no_tuning\n"
     ]
    }
   ],
   "source": [
    "# Check the maximum score obtained for the Logistic Regression model\n",
    "max_score_log_reg = max(logistic_regression, key=logistic_regression.get)\n",
    "print(max_score_log_reg)"
   ]
  },
  {
   "cell_type": "markdown",
   "metadata": {},
   "source": [
    "**NOTE:** *the score for the Logistic Regression model is the same for the not tuned fitting and the RandomizedSearch fitting of the model. Because the not tuned fitting does not converge, I'll use the Randomized Search one from now on, but the score obtained is the same.*"
   ]
  },
  {
   "cell_type": "code",
   "execution_count": 137,
   "metadata": {},
   "outputs": [
    {
     "name": "stdout",
     "output_type": "stream",
     "text": [
      "knn_tun_more_neig_std\n"
     ]
    }
   ],
   "source": [
    "# Check the maximum score obtained for the K-Nearest Neighbors model\n",
    "max_score_knn = max(knn, key=knn.get)\n",
    "print(max_score_knn)"
   ]
  },
  {
   "cell_type": "code",
   "execution_count": 138,
   "metadata": {},
   "outputs": [
    {
     "name": "stdout",
     "output_type": "stream",
     "text": [
      "rf_rs_tun_raw\n"
     ]
    }
   ],
   "source": [
    "# Check the maximum score obtained for the Random Forest model\n",
    "max_score_rf = max(random_forest, key=random_forest.get)\n",
    "print(max_score_rf)"
   ]
  },
  {
   "cell_type": "code",
   "execution_count": 139,
   "metadata": {},
   "outputs": [
    {
     "name": "stdout",
     "output_type": "stream",
     "text": [
      "ls_no_tuning\n"
     ]
    }
   ],
   "source": [
    "# Check the maximum score obtained for the Linear SVC model\n",
    "max_score_svc = max(linear_svc, key=linear_svc.get)\n",
    "print(max_score_svc)"
   ]
  },
  {
   "cell_type": "markdown",
   "metadata": {},
   "source": [
    "These will be the variables used for model evaluation from now on."
   ]
  },
  {
   "cell_type": "markdown",
   "metadata": {},
   "source": [
    "### Model evaluation:\n",
    "\n",
    "Evaluation metrics used:\n",
    "\n",
    "* ROC curve and AUC score\n",
    "* Confusion matrix\n",
    "* Classification report\n",
    "* Precision\n",
    "* Recall\n",
    "* F1-Score"
   ]
  },
  {
   "cell_type": "code",
   "execution_count": null,
   "metadata": {},
   "outputs": [],
   "source": [
    "# use cross validation where possible ---> but WHERE is possible?"
   ]
  },
  {
   "cell_type": "code",
   "execution_count": null,
   "metadata": {},
   "outputs": [],
   "source": [
    "# to make comparisons and evaluate our trained model we need to make predictions first"
   ]
  },
  {
   "cell_type": "markdown",
   "metadata": {},
   "source": [
    "Before evaluating the models I'll make predictions using the test data split. For each model I'll use the split (raw, normalized or standardized data) according to the split on which was based the best score."
   ]
  },
  {
   "cell_type": "code",
   "execution_count": null,
   "metadata": {},
   "outputs": [],
   "source": [
    "[0].value_counts()"
   ]
  },
  {
   "cell_type": "markdown",
   "metadata": {},
   "source": [
    "**Logistic Regression Evaluation**"
   ]
  },
  {
   "cell_type": "code",
   "execution_count": 198,
   "metadata": {},
   "outputs": [
    {
     "name": "stderr",
     "output_type": "stream",
     "text": [
      "/Users/anacarolinapick/opt/anaconda3/lib/python3.8/site-packages/sklearn/linear_model/_logistic.py:762: ConvergenceWarning: lbfgs failed to converge (status=1):\n",
      "STOP: TOTAL NO. of ITERATIONS REACHED LIMIT.\n",
      "\n",
      "Increase the number of iterations (max_iter) or scale the data as shown in:\n",
      "    https://scikit-learn.org/stable/modules/preprocessing.html\n",
      "Please also refer to the documentation for alternative solver options:\n",
      "    https://scikit-learn.org/stable/modules/linear_model.html#logistic-regression\n",
      "  n_iter_i = _check_optimize_result(\n"
     ]
    },
    {
     "data": {
      "text/html": [
       "<div>\n",
       "<style scoped>\n",
       "    .dataframe tbody tr th:only-of-type {\n",
       "        vertical-align: middle;\n",
       "    }\n",
       "\n",
       "    .dataframe tbody tr th {\n",
       "        vertical-align: top;\n",
       "    }\n",
       "\n",
       "    .dataframe thead th {\n",
       "        text-align: right;\n",
       "    }\n",
       "</style>\n",
       "<table border=\"1\" class=\"dataframe\">\n",
       "  <thead>\n",
       "    <tr style=\"text-align: right;\">\n",
       "      <th></th>\n",
       "      <th>0</th>\n",
       "    </tr>\n",
       "    <tr>\n",
       "      <th>target</th>\n",
       "      <th></th>\n",
       "    </tr>\n",
       "  </thead>\n",
       "  <tbody>\n",
       "    <tr>\n",
       "      <th>0</th>\n",
       "      <td>0</td>\n",
       "    </tr>\n",
       "    <tr>\n",
       "      <th>0</th>\n",
       "      <td>1</td>\n",
       "    </tr>\n",
       "    <tr>\n",
       "      <th>1</th>\n",
       "      <td>1</td>\n",
       "    </tr>\n",
       "    <tr>\n",
       "      <th>0</th>\n",
       "      <td>0</td>\n",
       "    </tr>\n",
       "    <tr>\n",
       "      <th>1</th>\n",
       "      <td>1</td>\n",
       "    </tr>\n",
       "    <tr>\n",
       "      <th>...</th>\n",
       "      <td>...</td>\n",
       "    </tr>\n",
       "    <tr>\n",
       "      <th>0</th>\n",
       "      <td>0</td>\n",
       "    </tr>\n",
       "    <tr>\n",
       "      <th>1</th>\n",
       "      <td>1</td>\n",
       "    </tr>\n",
       "    <tr>\n",
       "      <th>0</th>\n",
       "      <td>0</td>\n",
       "    </tr>\n",
       "    <tr>\n",
       "      <th>0</th>\n",
       "      <td>0</td>\n",
       "    </tr>\n",
       "    <tr>\n",
       "      <th>0</th>\n",
       "      <td>0</td>\n",
       "    </tr>\n",
       "  </tbody>\n",
       "</table>\n",
       "<p>61 rows × 1 columns</p>\n",
       "</div>"
      ],
      "text/plain": [
       "        0\n",
       "target   \n",
       "0       0\n",
       "0       1\n",
       "1       1\n",
       "0       0\n",
       "1       1\n",
       "...    ..\n",
       "0       0\n",
       "1       1\n",
       "0       0\n",
       "0       0\n",
       "0       0\n",
       "\n",
       "[61 rows x 1 columns]"
      ]
     },
     "execution_count": 198,
     "metadata": {},
     "output_type": "execute_result"
    }
   ],
   "source": [
    "# Make predictions with Logistic Regression\n",
    "log_reg_y_preds = log_reg.fit(X_train, y_train).predict(X_test)\n",
    "\n",
    "# Compare predictions with test set targets\n",
    "log_reg_comp = pd.DataFrame(log_reg_y_preds, y_test)\n",
    "log_reg_comp"
   ]
  },
  {
   "cell_type": "code",
   "execution_count": 199,
   "metadata": {},
   "outputs": [
    {
     "data": {
      "text/plain": [
       "<sklearn.metrics._plot.roc_curve.RocCurveDisplay at 0x7ff4a6da26d0>"
      ]
     },
     "execution_count": 199,
     "metadata": {},
     "output_type": "execute_result"
    },
    {
     "data": {
      "image/png": "[encoded data removed]",
      "text/plain": [
       "<Figure size 432x288 with 1 Axes>"
      ]
     },
     "metadata": {
      "needs_background": "light"
     },
     "output_type": "display_data"
    }
   ],
   "source": [
    "# Plot ROC curve for Logistic Regression\n",
    "\n",
    "plot_roc_curve(log_reg, X_test, y_test)"
   ]
  },
  {
   "cell_type": "code",
   "execution_count": 200,
   "metadata": {},
   "outputs": [
    {
     "data": {
      "text/plain": [
       "<sklearn.metrics._plot.confusion_matrix.ConfusionMatrixDisplay at 0x7ff4a76046d0>"
      ]
     },
     "execution_count": 200,
     "metadata": {},
     "output_type": "execute_result"
    },
    {
     "data": {
      "image/png": "[encoded data removed]",
      "text/plain": [
       "<Figure size 432x288 with 2 Axes>"
      ]
     },
     "metadata": {
      "needs_background": "light"
     },
     "output_type": "display_data"
    }
   ],
   "source": [
    "# Confusion Matrix for Logistic Regression\n",
    "\n",
    "plot_confusion_matrix(log_reg, X_test, y_test)"
   ]
  },
  {
   "cell_type": "code",
   "execution_count": 201,
   "metadata": {},
   "outputs": [
    {
     "name": "stdout",
     "output_type": "stream",
     "text": [
      "              precision    recall  f1-score   support\n",
      "\n",
      "           0       0.86      0.89      0.88        28\n",
      "           1       0.91      0.88      0.89        33\n",
      "\n",
      "    accuracy                           0.89        61\n",
      "   macro avg       0.88      0.89      0.88        61\n",
      "weighted avg       0.89      0.89      0.89        61\n",
      "\n"
     ]
    }
   ],
   "source": [
    "# Classification report for Logistic Regression\n",
    "\n",
    "print(classification_report(log_reg_y_preds, y_test))"
   ]
  },
  {
   "cell_type": "code",
   "execution_count": 267,
   "metadata": {},
   "outputs": [
    {
     "name": "stdout",
     "output_type": "stream",
     "text": [
      "[[ 9.02370116e-03 -1.19120370e+00  8.24430499e-01 -1.25819035e-02\n",
      "  -9.48707798e-04 -3.07029076e-03  5.16057166e-01  2.84499108e-02\n",
      "  -8.27055451e-01 -7.01623797e-01  5.99215262e-01 -8.26675578e-01\n",
      "  -1.06436538e+00]]\n"
     ]
    },
    {
     "data": {
      "text/plain": [
       "<AxesSubplot:title={'center':'Feature importance for Logistic Regression'}>"
      ]
     },
     "execution_count": 267,
     "metadata": {},
     "output_type": "execute_result"
    },
    {
     "data": {
      "image/png": "[encoded data removed]",
      "text/plain": [
       "<Figure size 432x288 with 1 Axes>"
      ]
     },
     "metadata": {
      "needs_background": "light"
     },
     "output_type": "display_data"
    }
   ],
   "source": [
    "# Feature importance for Logistic Regression\n",
    "\n",
    "# Check value of coef (coef indicates how each feature contributes to the label)\n",
    "print(log_reg.coef_)\n",
    "feature_dict_log_reg = dict(zip(df.columns, list(log_reg.coef_[0])))\n",
    "feature_dict_log_reg\n",
    "\n",
    "# Vizualise\n",
    "\n",
    "feature_imp_log_reg = pd.DataFrame(feature_dict_log_reg, index=[0])\n",
    "feature_imp_log_reg.T.plot.bar(title='Feature importance for Logistic Regression', \n",
    "                               legend=False)"
   ]
  },
  {
   "cell_type": "code",
   "execution_count": 247,
   "metadata": {},
   "outputs": [
    {
     "data": {
      "text/html": [
       "<div>\n",
       "<style scoped>\n",
       "    .dataframe tbody tr th:only-of-type {\n",
       "        vertical-align: middle;\n",
       "    }\n",
       "\n",
       "    .dataframe tbody tr th {\n",
       "        vertical-align: top;\n",
       "    }\n",
       "\n",
       "    .dataframe thead th {\n",
       "        text-align: right;\n",
       "    }\n",
       "</style>\n",
       "<table border=\"1\" class=\"dataframe\">\n",
       "  <thead>\n",
       "    <tr style=\"text-align: right;\">\n",
       "      <th></th>\n",
       "      <th>age</th>\n",
       "      <th>sex</th>\n",
       "      <th>cp</th>\n",
       "      <th>trestbps</th>\n",
       "      <th>chol</th>\n",
       "      <th>fbs</th>\n",
       "      <th>restecg</th>\n",
       "      <th>thalach</th>\n",
       "      <th>exang</th>\n",
       "      <th>oldpeak</th>\n",
       "      <th>slope</th>\n",
       "      <th>ca</th>\n",
       "      <th>thal</th>\n",
       "    </tr>\n",
       "  </thead>\n",
       "  <tbody>\n",
       "    <tr>\n",
       "      <th>0</th>\n",
       "      <td>0.009024</td>\n",
       "      <td>-1.191204</td>\n",
       "      <td>0.82443</td>\n",
       "      <td>-0.012582</td>\n",
       "      <td>-0.000949</td>\n",
       "      <td>-0.00307</td>\n",
       "      <td>0.516057</td>\n",
       "      <td>0.02845</td>\n",
       "      <td>-0.827055</td>\n",
       "      <td>-0.701624</td>\n",
       "      <td>0.599215</td>\n",
       "      <td>-0.826676</td>\n",
       "      <td>-1.064365</td>\n",
       "    </tr>\n",
       "  </tbody>\n",
       "</table>\n",
       "</div>"
      ],
      "text/plain": [
       "        age       sex       cp  trestbps      chol      fbs   restecg  \\\n",
       "0  0.009024 -1.191204  0.82443 -0.012582 -0.000949 -0.00307  0.516057   \n",
       "\n",
       "   thalach     exang   oldpeak     slope        ca      thal  \n",
       "0  0.02845 -0.827055 -0.701624  0.599215 -0.826676 -1.064365  "
      ]
     },
     "execution_count": 247,
     "metadata": {},
     "output_type": "execute_result"
    }
   ],
   "source": [
    "feature_imp_log_reg"
   ]
  },
  {
   "cell_type": "code",
   "execution_count": 264,
   "metadata": {},
   "outputs": [
    {
     "data": {
      "text/plain": [
       "numpy.ndarray"
      ]
     },
     "execution_count": 264,
     "metadata": {},
     "output_type": "execute_result"
    }
   ],
   "source": [
    "type(log_reg.coef_)"
   ]
  },
  {
   "cell_type": "markdown",
   "metadata": {},
   "source": [
    "**K-Nearest Neighbors Evaluation**"
   ]
  },
  {
   "cell_type": "code",
   "execution_count": 232,
   "metadata": {},
   "outputs": [
    {
     "data": {
      "text/html": [
       "<div>\n",
       "<style scoped>\n",
       "    .dataframe tbody tr th:only-of-type {\n",
       "        vertical-align: middle;\n",
       "    }\n",
       "\n",
       "    .dataframe tbody tr th {\n",
       "        vertical-align: top;\n",
       "    }\n",
       "\n",
       "    .dataframe thead th {\n",
       "        text-align: right;\n",
       "    }\n",
       "</style>\n",
       "<table border=\"1\" class=\"dataframe\">\n",
       "  <thead>\n",
       "    <tr style=\"text-align: right;\">\n",
       "      <th></th>\n",
       "      <th>0</th>\n",
       "    </tr>\n",
       "    <tr>\n",
       "      <th>target</th>\n",
       "      <th></th>\n",
       "    </tr>\n",
       "  </thead>\n",
       "  <tbody>\n",
       "    <tr>\n",
       "      <th>0</th>\n",
       "      <td>0</td>\n",
       "    </tr>\n",
       "    <tr>\n",
       "      <th>0</th>\n",
       "      <td>0</td>\n",
       "    </tr>\n",
       "    <tr>\n",
       "      <th>1</th>\n",
       "      <td>1</td>\n",
       "    </tr>\n",
       "    <tr>\n",
       "      <th>0</th>\n",
       "      <td>0</td>\n",
       "    </tr>\n",
       "    <tr>\n",
       "      <th>1</th>\n",
       "      <td>1</td>\n",
       "    </tr>\n",
       "    <tr>\n",
       "      <th>...</th>\n",
       "      <td>...</td>\n",
       "    </tr>\n",
       "    <tr>\n",
       "      <th>0</th>\n",
       "      <td>0</td>\n",
       "    </tr>\n",
       "    <tr>\n",
       "      <th>1</th>\n",
       "      <td>1</td>\n",
       "    </tr>\n",
       "    <tr>\n",
       "      <th>0</th>\n",
       "      <td>0</td>\n",
       "    </tr>\n",
       "    <tr>\n",
       "      <th>0</th>\n",
       "      <td>0</td>\n",
       "    </tr>\n",
       "    <tr>\n",
       "      <th>0</th>\n",
       "      <td>0</td>\n",
       "    </tr>\n",
       "  </tbody>\n",
       "</table>\n",
       "<p>61 rows × 1 columns</p>\n",
       "</div>"
      ],
      "text/plain": [
       "        0\n",
       "target   \n",
       "0       0\n",
       "0       0\n",
       "1       1\n",
       "0       0\n",
       "1       1\n",
       "...    ..\n",
       "0       0\n",
       "1       1\n",
       "0       0\n",
       "0       0\n",
       "0       0\n",
       "\n",
       "[61 rows x 1 columns]"
      ]
     },
     "execution_count": 232,
     "metadata": {},
     "output_type": "execute_result"
    }
   ],
   "source": [
    "# Make predictions with KNN (firts I fit it using the number of neighbors that resulted in the highest score)\n",
    "knei.set_params(n_neighbors=7)\n",
    "knn_y_preds = knei.fit(X_train_standardized, y_train).predict(X_test_standardized)\n",
    "\n",
    "# Compare predictions with test set targets\n",
    "knn_comp = pd.DataFrame(knn_y_preds, y_test)\n",
    "knn_comp"
   ]
  },
  {
   "cell_type": "code",
   "execution_count": 233,
   "metadata": {},
   "outputs": [
    {
     "data": {
      "text/plain": [
       "<sklearn.metrics._plot.roc_curve.RocCurveDisplay at 0x7ff4aa2e8e80>"
      ]
     },
     "execution_count": 233,
     "metadata": {},
     "output_type": "execute_result"
    },
    {
     "data": {
      "image/png": "[encoded data removed]",
      "text/plain": [
       "<Figure size 432x288 with 1 Axes>"
      ]
     },
     "metadata": {
      "needs_background": "light"
     },
     "output_type": "display_data"
    }
   ],
   "source": [
    "# Plot ROC curve for KNN\n",
    "\n",
    "plot_roc_curve(knei, X_test_standardized, y_test)"
   ]
  },
  {
   "cell_type": "code",
   "execution_count": 234,
   "metadata": {},
   "outputs": [
    {
     "data": {
      "text/plain": [
       "<sklearn.metrics._plot.confusion_matrix.ConfusionMatrixDisplay at 0x7ff4aa576fa0>"
      ]
     },
     "execution_count": 234,
     "metadata": {},
     "output_type": "execute_result"
    },
    {
     "data": {
      "image/png": "[encoded data removed]",
      "text/plain": [
       "<Figure size 432x288 with 2 Axes>"
      ]
     },
     "metadata": {
      "needs_background": "light"
     },
     "output_type": "display_data"
    }
   ],
   "source": [
    "# Confusion Matrix for KNN\n",
    "\n",
    "plot_confusion_matrix(knei, X_test_standardized, y_test)"
   ]
  },
  {
   "cell_type": "code",
   "execution_count": 230,
   "metadata": {},
   "outputs": [
    {
     "name": "stdout",
     "output_type": "stream",
     "text": [
      "              precision    recall  f1-score   support\n",
      "\n",
      "           0       0.93      0.90      0.92        30\n",
      "           1       0.91      0.94      0.92        31\n",
      "\n",
      "    accuracy                           0.92        61\n",
      "   macro avg       0.92      0.92      0.92        61\n",
      "weighted avg       0.92      0.92      0.92        61\n",
      "\n"
     ]
    }
   ],
   "source": [
    "# Classification report for KNN\n",
    "\n",
    "print(classification_report(knn_y_preds, y_test))"
   ]
  },
  {
   "cell_type": "code",
   "execution_count": 253,
   "metadata": {},
   "outputs": [],
   "source": [
    "# Feature importance for K-Nearest Neighbors\n",
    "\n",
    "# Feature importance is not defined for the KNN Classification algorithm. \n",
    "#-> find a way to compute features responsible for classification"
   ]
  },
  {
   "cell_type": "markdown",
   "metadata": {},
   "source": [
    "**Random Forest Evaluation**"
   ]
  },
  {
   "cell_type": "code",
   "execution_count": 237,
   "metadata": {},
   "outputs": [
    {
     "data": {
      "text/html": [
       "<div>\n",
       "<style scoped>\n",
       "    .dataframe tbody tr th:only-of-type {\n",
       "        vertical-align: middle;\n",
       "    }\n",
       "\n",
       "    .dataframe tbody tr th {\n",
       "        vertical-align: top;\n",
       "    }\n",
       "\n",
       "    .dataframe thead th {\n",
       "        text-align: right;\n",
       "    }\n",
       "</style>\n",
       "<table border=\"1\" class=\"dataframe\">\n",
       "  <thead>\n",
       "    <tr style=\"text-align: right;\">\n",
       "      <th></th>\n",
       "      <th>0</th>\n",
       "    </tr>\n",
       "    <tr>\n",
       "      <th>target</th>\n",
       "      <th></th>\n",
       "    </tr>\n",
       "  </thead>\n",
       "  <tbody>\n",
       "    <tr>\n",
       "      <th>0</th>\n",
       "      <td>0</td>\n",
       "    </tr>\n",
       "    <tr>\n",
       "      <th>0</th>\n",
       "      <td>1</td>\n",
       "    </tr>\n",
       "    <tr>\n",
       "      <th>1</th>\n",
       "      <td>1</td>\n",
       "    </tr>\n",
       "    <tr>\n",
       "      <th>0</th>\n",
       "      <td>0</td>\n",
       "    </tr>\n",
       "    <tr>\n",
       "      <th>1</th>\n",
       "      <td>1</td>\n",
       "    </tr>\n",
       "    <tr>\n",
       "      <th>...</th>\n",
       "      <td>...</td>\n",
       "    </tr>\n",
       "    <tr>\n",
       "      <th>0</th>\n",
       "      <td>0</td>\n",
       "    </tr>\n",
       "    <tr>\n",
       "      <th>1</th>\n",
       "      <td>1</td>\n",
       "    </tr>\n",
       "    <tr>\n",
       "      <th>0</th>\n",
       "      <td>0</td>\n",
       "    </tr>\n",
       "    <tr>\n",
       "      <th>0</th>\n",
       "      <td>0</td>\n",
       "    </tr>\n",
       "    <tr>\n",
       "      <th>0</th>\n",
       "      <td>0</td>\n",
       "    </tr>\n",
       "  </tbody>\n",
       "</table>\n",
       "<p>61 rows × 1 columns</p>\n",
       "</div>"
      ],
      "text/plain": [
       "        0\n",
       "target   \n",
       "0       0\n",
       "0       1\n",
       "1       1\n",
       "0       0\n",
       "1       1\n",
       "...    ..\n",
       "0       0\n",
       "1       1\n",
       "0       0\n",
       "0       0\n",
       "0       0\n",
       "\n",
       "[61 rows x 1 columns]"
      ]
     },
     "execution_count": 237,
     "metadata": {},
     "output_type": "execute_result"
    }
   ],
   "source": [
    "# Make predictions with Random Forest \n",
    "\n",
    "# First creating a new classifier using the best parameters found by Randomized Search CV\n",
    "best_rand = RandomForestClassifier(n_estimators = 310,\n",
    "                                    min_samples_split = 12,\n",
    "                                    min_samples_leaf = 17,\n",
    "                                    max_depth = None)\n",
    "rf_y_preds = best_rand.fit(X_train, y_train).predict(X_test)\n",
    "\n",
    "# Compare predictions with test set targets\n",
    "rf_comp = pd.DataFrame(rf_y_preds, y_test)\n",
    "rf_comp"
   ]
  },
  {
   "cell_type": "code",
   "execution_count": 195,
   "metadata": {},
   "outputs": [
    {
     "data": {
      "text/plain": [
       "<sklearn.metrics._plot.roc_curve.RocCurveDisplay at 0x7ff4a9045c10>"
      ]
     },
     "execution_count": 195,
     "metadata": {},
     "output_type": "execute_result"
    },
    {
     "data": {
      "image/png": "[encoded data removed]",
      "text/plain": [
       "<Figure size 432x288 with 1 Axes>"
      ]
     },
     "metadata": {
      "needs_background": "light"
     },
     "output_type": "display_data"
    }
   ],
   "source": [
    "# Plot ROC curve for Random Forest\n",
    "\n",
    "plot_roc_curve(rs_rf, X_test, y_test)"
   ]
  },
  {
   "cell_type": "code",
   "execution_count": 196,
   "metadata": {},
   "outputs": [
    {
     "data": {
      "text/plain": [
       "<sklearn.metrics._plot.confusion_matrix.ConfusionMatrixDisplay at 0x7ff4aa0b9fd0>"
      ]
     },
     "execution_count": 196,
     "metadata": {},
     "output_type": "execute_result"
    },
    {
     "data": {
      "image/png": "[encoded data removed]",
      "text/plain": [
       "<Figure size 432x288 with 2 Axes>"
      ]
     },
     "metadata": {
      "needs_background": "light"
     },
     "output_type": "display_data"
    }
   ],
   "source": [
    "# Confusion Matrix for Random Forest\n",
    "\n",
    "plot_confusion_matrix(best_rand, X_test, y_test)"
   ]
  },
  {
   "cell_type": "code",
   "execution_count": 197,
   "metadata": {},
   "outputs": [
    {
     "name": "stdout",
     "output_type": "stream",
     "text": [
      "              precision    recall  f1-score   support\n",
      "\n",
      "           0       0.83      0.89      0.86        27\n",
      "           1       0.91      0.85      0.88        34\n",
      "\n",
      "    accuracy                           0.87        61\n",
      "   macro avg       0.87      0.87      0.87        61\n",
      "weighted avg       0.87      0.87      0.87        61\n",
      "\n"
     ]
    }
   ],
   "source": [
    "# Classification report for Random Forest\n",
    "\n",
    "print(classification_report(rf_y_preds, y_test))"
   ]
  },
  {
   "cell_type": "code",
   "execution_count": null,
   "metadata": {},
   "outputs": [],
   "source": [
    "# Feature importance for Linear SVC\n",
    "\n",
    "# Check value of coef (coef indicates how each feature contributes to the label)\n",
    "print(lin_svc.coef_)\n",
    "feature_dict_svc = dict(zip(df.columns, list(lin_svc.coef_[0])))\n",
    "feature_dict_svc\n",
    "\n",
    "# Vizualise\n",
    "\n",
    "feature_imp_svc = pd.DataFrame(feature_dict_svc, index=[0])\n",
    "feature_imp_svc.T.plot.bar(title='Feature importance for Linear SVC', \n",
    "                               legend=False)"
   ]
  },
  {
   "cell_type": "code",
   "execution_count": 296,
   "metadata": {},
   "outputs": [
    {
     "name": "stdout",
     "output_type": "stream",
     "text": [
      "[0.05467011 0.03636874 0.15299607 0.01372781 0.013449   0.\n",
      " 0.00512978 0.08521918 0.13749393 0.11867443 0.06423687 0.16815166\n",
      " 0.14988243]\n"
     ]
    },
    {
     "data": {
      "text/plain": [
       "<AxesSubplot:title={'center':'Feature importance for Random Forest'}>"
      ]
     },
     "execution_count": 296,
     "metadata": {},
     "output_type": "execute_result"
    },
    {
     "data": {
      "image/png": "[encoded data removed]",
      "text/plain": [
       "<Figure size 432x288 with 1 Axes>"
      ]
     },
     "metadata": {
      "needs_background": "light"
     },
     "output_type": "display_data"
    }
   ],
   "source": [
    "# Feature importance for Random Forest\n",
    "\n",
    "# Check feature importances values (Random Forest does not have a .coef) \n",
    "print(best_rand.feature_importances_)\n",
    "feature_dict_rand = dict(zip(df.columns, best_rand.feature_importances_))\n",
    "feature_dict_rand\n",
    "\n",
    "# Vizualise\n",
    "feature_imp_rand = pd.DataFrame(feature_dict_rand, index=[0])\n",
    "feature_imp_rand.T.plot.bar(title='Feature importance for Random Forest', \n",
    "                                   legend=False)"
   ]
  },
  {
   "cell_type": "code",
   "execution_count": 297,
   "metadata": {},
   "outputs": [
    {
     "data": {
      "text/html": [
       "<div>\n",
       "<style scoped>\n",
       "    .dataframe tbody tr th:only-of-type {\n",
       "        vertical-align: middle;\n",
       "    }\n",
       "\n",
       "    .dataframe tbody tr th {\n",
       "        vertical-align: top;\n",
       "    }\n",
       "\n",
       "    .dataframe thead th {\n",
       "        text-align: right;\n",
       "    }\n",
       "</style>\n",
       "<table border=\"1\" class=\"dataframe\">\n",
       "  <thead>\n",
       "    <tr style=\"text-align: right;\">\n",
       "      <th></th>\n",
       "      <th>age</th>\n",
       "      <th>sex</th>\n",
       "      <th>cp</th>\n",
       "      <th>trestbps</th>\n",
       "      <th>chol</th>\n",
       "      <th>fbs</th>\n",
       "      <th>restecg</th>\n",
       "      <th>thalach</th>\n",
       "      <th>exang</th>\n",
       "      <th>oldpeak</th>\n",
       "      <th>slope</th>\n",
       "      <th>ca</th>\n",
       "      <th>thal</th>\n",
       "    </tr>\n",
       "  </thead>\n",
       "  <tbody>\n",
       "    <tr>\n",
       "      <th>0</th>\n",
       "      <td>0.05467</td>\n",
       "      <td>0.036369</td>\n",
       "      <td>0.152996</td>\n",
       "      <td>0.013728</td>\n",
       "      <td>0.013449</td>\n",
       "      <td>0.0</td>\n",
       "      <td>0.00513</td>\n",
       "      <td>0.085219</td>\n",
       "      <td>0.137494</td>\n",
       "      <td>0.118674</td>\n",
       "      <td>0.064237</td>\n",
       "      <td>0.168152</td>\n",
       "      <td>0.149882</td>\n",
       "    </tr>\n",
       "  </tbody>\n",
       "</table>\n",
       "</div>"
      ],
      "text/plain": [
       "       age       sex        cp  trestbps      chol  fbs  restecg   thalach  \\\n",
       "0  0.05467  0.036369  0.152996  0.013728  0.013449  0.0  0.00513  0.085219   \n",
       "\n",
       "      exang   oldpeak     slope        ca      thal  \n",
       "0  0.137494  0.118674  0.064237  0.168152  0.149882  "
      ]
     },
     "execution_count": 297,
     "metadata": {},
     "output_type": "execute_result"
    }
   ],
   "source": [
    "feature_imp_rand"
   ]
  },
  {
   "cell_type": "markdown",
   "metadata": {},
   "source": [
    "**Linear SVC Evaluation**"
   ]
  },
  {
   "cell_type": "code",
   "execution_count": 164,
   "metadata": {},
   "outputs": [
    {
     "data": {
      "text/html": [
       "<div>\n",
       "<style scoped>\n",
       "    .dataframe tbody tr th:only-of-type {\n",
       "        vertical-align: middle;\n",
       "    }\n",
       "\n",
       "    .dataframe tbody tr th {\n",
       "        vertical-align: top;\n",
       "    }\n",
       "\n",
       "    .dataframe thead th {\n",
       "        text-align: right;\n",
       "    }\n",
       "</style>\n",
       "<table border=\"1\" class=\"dataframe\">\n",
       "  <thead>\n",
       "    <tr style=\"text-align: right;\">\n",
       "      <th></th>\n",
       "      <th>0</th>\n",
       "    </tr>\n",
       "    <tr>\n",
       "      <th>target</th>\n",
       "      <th></th>\n",
       "    </tr>\n",
       "  </thead>\n",
       "  <tbody>\n",
       "    <tr>\n",
       "      <th>0</th>\n",
       "      <td>0</td>\n",
       "    </tr>\n",
       "    <tr>\n",
       "      <th>0</th>\n",
       "      <td>1</td>\n",
       "    </tr>\n",
       "    <tr>\n",
       "      <th>1</th>\n",
       "      <td>1</td>\n",
       "    </tr>\n",
       "    <tr>\n",
       "      <th>0</th>\n",
       "      <td>0</td>\n",
       "    </tr>\n",
       "    <tr>\n",
       "      <th>1</th>\n",
       "      <td>1</td>\n",
       "    </tr>\n",
       "    <tr>\n",
       "      <th>...</th>\n",
       "      <td>...</td>\n",
       "    </tr>\n",
       "    <tr>\n",
       "      <th>0</th>\n",
       "      <td>0</td>\n",
       "    </tr>\n",
       "    <tr>\n",
       "      <th>1</th>\n",
       "      <td>1</td>\n",
       "    </tr>\n",
       "    <tr>\n",
       "      <th>0</th>\n",
       "      <td>0</td>\n",
       "    </tr>\n",
       "    <tr>\n",
       "      <th>0</th>\n",
       "      <td>0</td>\n",
       "    </tr>\n",
       "    <tr>\n",
       "      <th>0</th>\n",
       "      <td>0</td>\n",
       "    </tr>\n",
       "  </tbody>\n",
       "</table>\n",
       "<p>61 rows × 1 columns</p>\n",
       "</div>"
      ],
      "text/plain": [
       "        0\n",
       "target   \n",
       "0       0\n",
       "0       1\n",
       "1       1\n",
       "0       0\n",
       "1       1\n",
       "...    ..\n",
       "0       0\n",
       "1       1\n",
       "0       0\n",
       "0       0\n",
       "0       0\n",
       "\n",
       "[61 rows x 1 columns]"
      ]
     },
     "execution_count": 164,
     "metadata": {},
     "output_type": "execute_result"
    }
   ],
   "source": [
    "# Make predictions with Linear SVC\n",
    "svc_y_preds = lin_svc.fit(X_train_standardized, y_train).predict(X_test_standardized)\n",
    "\n",
    "# Compare predictions with test set targets\n",
    "svc_comp = pd.DataFrame(svc_y_preds, y_test)\n",
    "svc_comp"
   ]
  },
  {
   "cell_type": "code",
   "execution_count": 173,
   "metadata": {},
   "outputs": [
    {
     "data": {
      "text/plain": [
       "<sklearn.metrics._plot.roc_curve.RocCurveDisplay at 0x7ff4a9df74f0>"
      ]
     },
     "execution_count": 173,
     "metadata": {},
     "output_type": "execute_result"
    },
    {
     "data": {
      "image/png": "[encoded data removed]",
      "text/plain": [
       "<Figure size 432x288 with 1 Axes>"
      ]
     },
     "metadata": {
      "needs_background": "light"
     },
     "output_type": "display_data"
    }
   ],
   "source": [
    "# Plot ROC curve for Linear SVC\n",
    "\n",
    "plot_roc_curve(lin_svc, X_test_standardized, y_test)"
   ]
  },
  {
   "cell_type": "code",
   "execution_count": 181,
   "metadata": {},
   "outputs": [
    {
     "data": {
      "text/plain": [
       "<sklearn.metrics._plot.confusion_matrix.ConfusionMatrixDisplay at 0x7ff4a9048070>"
      ]
     },
     "execution_count": 181,
     "metadata": {},
     "output_type": "execute_result"
    },
    {
     "data": {
      "image/png": "[encoded data removed]",
      "text/plain": [
       "<Figure size 432x288 with 2 Axes>"
      ]
     },
     "metadata": {
      "needs_background": "light"
     },
     "output_type": "display_data"
    }
   ],
   "source": [
    "# Confusion Matrix for Linear SVC\n",
    "\n",
    "plot_confusion_matrix(lin_svc, X_test_standardized, y_test)"
   ]
  },
  {
   "cell_type": "code",
   "execution_count": 187,
   "metadata": {},
   "outputs": [
    {
     "name": "stdout",
     "output_type": "stream",
     "text": [
      "              precision    recall  f1-score   support\n",
      "\n",
      "           0       0.86      0.86      0.86        29\n",
      "           1       0.88      0.88      0.88        32\n",
      "\n",
      "    accuracy                           0.87        61\n",
      "   macro avg       0.87      0.87      0.87        61\n",
      "weighted avg       0.87      0.87      0.87        61\n",
      "\n"
     ]
    }
   ],
   "source": [
    "# Classification report for Linear SVC\n",
    "\n",
    "print(classification_report(svc_y_preds, y_test))"
   ]
  },
  {
   "cell_type": "code",
   "execution_count": 277,
   "metadata": {},
   "outputs": [
    {
     "name": "stdout",
     "output_type": "stream",
     "text": [
      "[[-0.0176116  -0.26948174  0.28981645 -0.1021231  -0.05649204  0.04052184\n",
      "   0.08494807  0.13375678 -0.18879176 -0.25065941  0.14068812 -0.27513188\n",
      "  -0.20319408]]\n"
     ]
    },
    {
     "data": {
      "text/plain": [
       "<AxesSubplot:title={'center':'Feature importance for Linear SVC'}>"
      ]
     },
     "execution_count": 277,
     "metadata": {},
     "output_type": "execute_result"
    },
    {
     "data": {
      "image/png": "[encoded data removed]",
      "text/plain": [
       "<Figure size 432x288 with 1 Axes>"
      ]
     },
     "metadata": {
      "needs_background": "light"
     },
     "output_type": "display_data"
    }
   ],
   "source": [
    "# Feature importance for Linear SVC\n",
    "\n",
    "# Check value of coef (coef indicates how each feature contributes to the label)\n",
    "print(lin_svc.coef_)\n",
    "feature_dict_svc = dict(zip(df.columns, list(lin_svc.coef_[0])))\n",
    "feature_dict_svc\n",
    "\n",
    "# Vizualise\n",
    "\n",
    "feature_imp_svc = pd.DataFrame(feature_dict_svc, index=[0])\n",
    "feature_imp_svc.T.plot.bar(title='Feature importance for Linear SVC', \n",
    "                               legend=False)"
   ]
  },
  {
   "cell_type": "code",
   "execution_count": 252,
   "metadata": {},
   "outputs": [
    {
     "data": {
      "text/html": [
       "<div>\n",
       "<style scoped>\n",
       "    .dataframe tbody tr th:only-of-type {\n",
       "        vertical-align: middle;\n",
       "    }\n",
       "\n",
       "    .dataframe tbody tr th {\n",
       "        vertical-align: top;\n",
       "    }\n",
       "\n",
       "    .dataframe thead th {\n",
       "        text-align: right;\n",
       "    }\n",
       "</style>\n",
       "<table border=\"1\" class=\"dataframe\">\n",
       "  <thead>\n",
       "    <tr style=\"text-align: right;\">\n",
       "      <th></th>\n",
       "      <th>age</th>\n",
       "      <th>sex</th>\n",
       "      <th>cp</th>\n",
       "      <th>trestbps</th>\n",
       "      <th>chol</th>\n",
       "      <th>fbs</th>\n",
       "      <th>restecg</th>\n",
       "      <th>thalach</th>\n",
       "      <th>exang</th>\n",
       "      <th>oldpeak</th>\n",
       "      <th>slope</th>\n",
       "      <th>ca</th>\n",
       "      <th>thal</th>\n",
       "    </tr>\n",
       "  </thead>\n",
       "  <tbody>\n",
       "    <tr>\n",
       "      <th>0</th>\n",
       "      <td>-0.017612</td>\n",
       "      <td>-0.269482</td>\n",
       "      <td>0.289816</td>\n",
       "      <td>-0.102123</td>\n",
       "      <td>-0.056492</td>\n",
       "      <td>0.040522</td>\n",
       "      <td>0.084948</td>\n",
       "      <td>0.133757</td>\n",
       "      <td>-0.188792</td>\n",
       "      <td>-0.250659</td>\n",
       "      <td>0.140688</td>\n",
       "      <td>-0.275132</td>\n",
       "      <td>-0.203194</td>\n",
       "    </tr>\n",
       "  </tbody>\n",
       "</table>\n",
       "</div>"
      ],
      "text/plain": [
       "        age       sex        cp  trestbps      chol       fbs   restecg  \\\n",
       "0 -0.017612 -0.269482  0.289816 -0.102123 -0.056492  0.040522  0.084948   \n",
       "\n",
       "    thalach     exang   oldpeak     slope        ca      thal  \n",
       "0  0.133757 -0.188792 -0.250659  0.140688 -0.275132 -0.203194  "
      ]
     },
     "execution_count": 252,
     "metadata": {},
     "output_type": "execute_result"
    }
   ],
   "source": [
    "feature_imp_svc"
   ]
  },
  {
   "cell_type": "markdown",
   "metadata": {},
   "source": [
    "### Next steps\n",
    "\n",
    "* add missing explanations to what I did\n",
    "* implement a form of feature importance computing for KNN model\n",
    "* try to implement cross validated evaluation"
   ]
  },
  {
   "cell_type": "code",
   "execution_count": null,
   "metadata": {},
   "outputs": [],
   "source": []
  }
 ],
 "metadata": {
  "kernelspec": {
   "display_name": "Python 3",
   "language": "python",
   "name": "python3"
  },
  "language_info": {
   "codemirror_mode": {
    "name": "ipython",
    "version": 3
   },
   "file_extension": ".py",
   "mimetype": "text/x-python",
   "name": "python",
   "nbconvert_exporter": "python",
   "pygments_lexer": "ipython3",
   "version": "3.8.5"
  }
 },
 "nbformat": 4,
 "nbformat_minor": 4
}
